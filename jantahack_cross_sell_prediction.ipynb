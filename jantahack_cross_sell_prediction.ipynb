{
 "metadata": {
  "language_info": {
   "codemirror_mode": {
    "name": "ipython",
    "version": 3
   },
   "file_extension": ".py",
   "mimetype": "text/x-python",
   "name": "python",
   "nbconvert_exporter": "python",
   "pygments_lexer": "ipython3",
   "version": "3.7.7-final"
  },
  "orig_nbformat": 2,
  "kernelspec": {
   "name": "python3",
   "display_name": "Python 3"
  }
 },
 "nbformat": 4,
 "nbformat_minor": 2,
 "cells": [
  {
   "cell_type": "code",
   "execution_count": 1,
   "metadata": {},
   "outputs": [],
   "source": [
    "import pandas as pd \n",
    "import matplotlib.pyplot as plt \n",
    "import numpy as np \n",
    "from matplotlib import style\n",
    "from sklearn import preprocessing\n",
    "import warnings \n",
    "warnings.filterwarnings('ignore')\n",
    "style.use('ggplot')"
   ]
  },
  {
   "cell_type": "code",
   "execution_count": 2,
   "metadata": {},
   "outputs": [
    {
     "output_type": "execute_result",
     "data": {
      "text/plain": "   id  Gender  Age  Driving_License  Region_Code  Previously_Insured  \\\n0   1    Male   44                1         28.0                   0   \n1   2    Male   76                1          3.0                   0   \n2   3    Male   47                1         28.0                   0   \n3   4    Male   21                1         11.0                   1   \n4   5  Female   29                1         41.0                   1   \n\n  Vehicle_Age Vehicle_Damage  Annual_Premium  Policy_Sales_Channel  Vintage  \\\n0   > 2 Years            Yes         40454.0                  26.0      217   \n1    1-2 Year             No         33536.0                  26.0      183   \n2   > 2 Years            Yes         38294.0                  26.0       27   \n3    < 1 Year             No         28619.0                 152.0      203   \n4    < 1 Year             No         27496.0                 152.0       39   \n\n   Response  \n0         1  \n1         0  \n2         1  \n3         0  \n4         0  ",
      "text/html": "<div>\n<style scoped>\n    .dataframe tbody tr th:only-of-type {\n        vertical-align: middle;\n    }\n\n    .dataframe tbody tr th {\n        vertical-align: top;\n    }\n\n    .dataframe thead th {\n        text-align: right;\n    }\n</style>\n<table border=\"1\" class=\"dataframe\">\n  <thead>\n    <tr style=\"text-align: right;\">\n      <th></th>\n      <th>id</th>\n      <th>Gender</th>\n      <th>Age</th>\n      <th>Driving_License</th>\n      <th>Region_Code</th>\n      <th>Previously_Insured</th>\n      <th>Vehicle_Age</th>\n      <th>Vehicle_Damage</th>\n      <th>Annual_Premium</th>\n      <th>Policy_Sales_Channel</th>\n      <th>Vintage</th>\n      <th>Response</th>\n    </tr>\n  </thead>\n  <tbody>\n    <tr>\n      <th>0</th>\n      <td>1</td>\n      <td>Male</td>\n      <td>44</td>\n      <td>1</td>\n      <td>28.0</td>\n      <td>0</td>\n      <td>&gt; 2 Years</td>\n      <td>Yes</td>\n      <td>40454.0</td>\n      <td>26.0</td>\n      <td>217</td>\n      <td>1</td>\n    </tr>\n    <tr>\n      <th>1</th>\n      <td>2</td>\n      <td>Male</td>\n      <td>76</td>\n      <td>1</td>\n      <td>3.0</td>\n      <td>0</td>\n      <td>1-2 Year</td>\n      <td>No</td>\n      <td>33536.0</td>\n      <td>26.0</td>\n      <td>183</td>\n      <td>0</td>\n    </tr>\n    <tr>\n      <th>2</th>\n      <td>3</td>\n      <td>Male</td>\n      <td>47</td>\n      <td>1</td>\n      <td>28.0</td>\n      <td>0</td>\n      <td>&gt; 2 Years</td>\n      <td>Yes</td>\n      <td>38294.0</td>\n      <td>26.0</td>\n      <td>27</td>\n      <td>1</td>\n    </tr>\n    <tr>\n      <th>3</th>\n      <td>4</td>\n      <td>Male</td>\n      <td>21</td>\n      <td>1</td>\n      <td>11.0</td>\n      <td>1</td>\n      <td>&lt; 1 Year</td>\n      <td>No</td>\n      <td>28619.0</td>\n      <td>152.0</td>\n      <td>203</td>\n      <td>0</td>\n    </tr>\n    <tr>\n      <th>4</th>\n      <td>5</td>\n      <td>Female</td>\n      <td>29</td>\n      <td>1</td>\n      <td>41.0</td>\n      <td>1</td>\n      <td>&lt; 1 Year</td>\n      <td>No</td>\n      <td>27496.0</td>\n      <td>152.0</td>\n      <td>39</td>\n      <td>0</td>\n    </tr>\n  </tbody>\n</table>\n</div>"
     },
     "metadata": {},
     "execution_count": 2
    }
   ],
   "source": [
    "df_train = pd.read_csv('dataset/train.csv')\n",
    "df_test = pd.read_csv('dataset/test.csv')\n",
    "df_train.head()"
   ]
  },
  {
   "cell_type": "code",
   "execution_count": 5,
   "metadata": {},
   "outputs": [
    {
     "output_type": "execute_result",
     "data": {
      "text/plain": "(381109, 12)"
     },
     "metadata": {},
     "execution_count": 5
    }
   ],
   "source": [
    "df_train.shape"
   ]
  },
  {
   "cell_type": "code",
   "execution_count": 6,
   "metadata": {},
   "outputs": [
    {
     "output_type": "execute_result",
     "data": {
      "text/plain": "(127037, 11)"
     },
     "metadata": {},
     "execution_count": 6
    }
   ],
   "source": [
    "df_test.shape"
   ]
  },
  {
   "cell_type": "code",
   "execution_count": 10,
   "metadata": {},
   "outputs": [
    {
     "output_type": "execute_result",
     "data": {
      "text/plain": "                   id  Gender            Age  Driving_License    Region_Code  \\\ncount   381109.000000  381109  381109.000000    381109.000000  381109.000000   \nunique            NaN       2            NaN              NaN            NaN   \ntop               NaN    Male            NaN              NaN            NaN   \nfreq              NaN  206089            NaN              NaN            NaN   \nmean    190555.000000     NaN      38.822584         0.997869      26.388807   \nstd     110016.836208     NaN      15.511611         0.046110      13.229888   \nmin          1.000000     NaN      20.000000         0.000000       0.000000   \n25%      95278.000000     NaN      25.000000         1.000000      15.000000   \n50%     190555.000000     NaN      36.000000         1.000000      28.000000   \n75%     285832.000000     NaN      49.000000         1.000000      35.000000   \nmax     381109.000000     NaN      85.000000         1.000000      52.000000   \n\n        Previously_Insured Vehicle_Age Vehicle_Damage  Annual_Premium  \\\ncount        381109.000000      381109         381109   381109.000000   \nunique                 NaN           3              2             NaN   \ntop                    NaN    1-2 Year            Yes             NaN   \nfreq                   NaN      200316         192413             NaN   \nmean              0.458210         NaN            NaN    30564.389581   \nstd               0.498251         NaN            NaN    17213.155057   \nmin               0.000000         NaN            NaN     2630.000000   \n25%               0.000000         NaN            NaN    24405.000000   \n50%               0.000000         NaN            NaN    31669.000000   \n75%               1.000000         NaN            NaN    39400.000000   \nmax               1.000000         NaN            NaN   540165.000000   \n\n        Policy_Sales_Channel        Vintage       Response  \ncount          381109.000000  381109.000000  381109.000000  \nunique                   NaN            NaN            NaN  \ntop                      NaN            NaN            NaN  \nfreq                     NaN            NaN            NaN  \nmean              112.034295     154.347397       0.122563  \nstd                54.203995      83.671304       0.327936  \nmin                 1.000000      10.000000       0.000000  \n25%                29.000000      82.000000       0.000000  \n50%               133.000000     154.000000       0.000000  \n75%               152.000000     227.000000       0.000000  \nmax               163.000000     299.000000       1.000000  ",
      "text/html": "<div>\n<style scoped>\n    .dataframe tbody tr th:only-of-type {\n        vertical-align: middle;\n    }\n\n    .dataframe tbody tr th {\n        vertical-align: top;\n    }\n\n    .dataframe thead th {\n        text-align: right;\n    }\n</style>\n<table border=\"1\" class=\"dataframe\">\n  <thead>\n    <tr style=\"text-align: right;\">\n      <th></th>\n      <th>id</th>\n      <th>Gender</th>\n      <th>Age</th>\n      <th>Driving_License</th>\n      <th>Region_Code</th>\n      <th>Previously_Insured</th>\n      <th>Vehicle_Age</th>\n      <th>Vehicle_Damage</th>\n      <th>Annual_Premium</th>\n      <th>Policy_Sales_Channel</th>\n      <th>Vintage</th>\n      <th>Response</th>\n    </tr>\n  </thead>\n  <tbody>\n    <tr>\n      <th>count</th>\n      <td>381109.000000</td>\n      <td>381109</td>\n      <td>381109.000000</td>\n      <td>381109.000000</td>\n      <td>381109.000000</td>\n      <td>381109.000000</td>\n      <td>381109</td>\n      <td>381109</td>\n      <td>381109.000000</td>\n      <td>381109.000000</td>\n      <td>381109.000000</td>\n      <td>381109.000000</td>\n    </tr>\n    <tr>\n      <th>unique</th>\n      <td>NaN</td>\n      <td>2</td>\n      <td>NaN</td>\n      <td>NaN</td>\n      <td>NaN</td>\n      <td>NaN</td>\n      <td>3</td>\n      <td>2</td>\n      <td>NaN</td>\n      <td>NaN</td>\n      <td>NaN</td>\n      <td>NaN</td>\n    </tr>\n    <tr>\n      <th>top</th>\n      <td>NaN</td>\n      <td>Male</td>\n      <td>NaN</td>\n      <td>NaN</td>\n      <td>NaN</td>\n      <td>NaN</td>\n      <td>1-2 Year</td>\n      <td>Yes</td>\n      <td>NaN</td>\n      <td>NaN</td>\n      <td>NaN</td>\n      <td>NaN</td>\n    </tr>\n    <tr>\n      <th>freq</th>\n      <td>NaN</td>\n      <td>206089</td>\n      <td>NaN</td>\n      <td>NaN</td>\n      <td>NaN</td>\n      <td>NaN</td>\n      <td>200316</td>\n      <td>192413</td>\n      <td>NaN</td>\n      <td>NaN</td>\n      <td>NaN</td>\n      <td>NaN</td>\n    </tr>\n    <tr>\n      <th>mean</th>\n      <td>190555.000000</td>\n      <td>NaN</td>\n      <td>38.822584</td>\n      <td>0.997869</td>\n      <td>26.388807</td>\n      <td>0.458210</td>\n      <td>NaN</td>\n      <td>NaN</td>\n      <td>30564.389581</td>\n      <td>112.034295</td>\n      <td>154.347397</td>\n      <td>0.122563</td>\n    </tr>\n    <tr>\n      <th>std</th>\n      <td>110016.836208</td>\n      <td>NaN</td>\n      <td>15.511611</td>\n      <td>0.046110</td>\n      <td>13.229888</td>\n      <td>0.498251</td>\n      <td>NaN</td>\n      <td>NaN</td>\n      <td>17213.155057</td>\n      <td>54.203995</td>\n      <td>83.671304</td>\n      <td>0.327936</td>\n    </tr>\n    <tr>\n      <th>min</th>\n      <td>1.000000</td>\n      <td>NaN</td>\n      <td>20.000000</td>\n      <td>0.000000</td>\n      <td>0.000000</td>\n      <td>0.000000</td>\n      <td>NaN</td>\n      <td>NaN</td>\n      <td>2630.000000</td>\n      <td>1.000000</td>\n      <td>10.000000</td>\n      <td>0.000000</td>\n    </tr>\n    <tr>\n      <th>25%</th>\n      <td>95278.000000</td>\n      <td>NaN</td>\n      <td>25.000000</td>\n      <td>1.000000</td>\n      <td>15.000000</td>\n      <td>0.000000</td>\n      <td>NaN</td>\n      <td>NaN</td>\n      <td>24405.000000</td>\n      <td>29.000000</td>\n      <td>82.000000</td>\n      <td>0.000000</td>\n    </tr>\n    <tr>\n      <th>50%</th>\n      <td>190555.000000</td>\n      <td>NaN</td>\n      <td>36.000000</td>\n      <td>1.000000</td>\n      <td>28.000000</td>\n      <td>0.000000</td>\n      <td>NaN</td>\n      <td>NaN</td>\n      <td>31669.000000</td>\n      <td>133.000000</td>\n      <td>154.000000</td>\n      <td>0.000000</td>\n    </tr>\n    <tr>\n      <th>75%</th>\n      <td>285832.000000</td>\n      <td>NaN</td>\n      <td>49.000000</td>\n      <td>1.000000</td>\n      <td>35.000000</td>\n      <td>1.000000</td>\n      <td>NaN</td>\n      <td>NaN</td>\n      <td>39400.000000</td>\n      <td>152.000000</td>\n      <td>227.000000</td>\n      <td>0.000000</td>\n    </tr>\n    <tr>\n      <th>max</th>\n      <td>381109.000000</td>\n      <td>NaN</td>\n      <td>85.000000</td>\n      <td>1.000000</td>\n      <td>52.000000</td>\n      <td>1.000000</td>\n      <td>NaN</td>\n      <td>NaN</td>\n      <td>540165.000000</td>\n      <td>163.000000</td>\n      <td>299.000000</td>\n      <td>1.000000</td>\n    </tr>\n  </tbody>\n</table>\n</div>"
     },
     "metadata": {},
     "execution_count": 10
    }
   ],
   "source": [
    "df_train.describe(include = 'all')"
   ]
  },
  {
   "cell_type": "code",
   "execution_count": 3,
   "metadata": {
    "tags": []
   },
   "outputs": [
    {
     "output_type": "stream",
     "name": "stdout",
     "text": "<class 'pandas.core.frame.DataFrame'>\nRangeIndex: 381109 entries, 0 to 381108\nData columns (total 12 columns):\n #   Column                Non-Null Count   Dtype  \n---  ------                --------------   -----  \n 0   id                    381109 non-null  int64  \n 1   Gender                381109 non-null  object \n 2   Age                   381109 non-null  int64  \n 3   Driving_License       381109 non-null  int64  \n 4   Region_Code           381109 non-null  float64\n 5   Previously_Insured    381109 non-null  int64  \n 6   Vehicle_Age           381109 non-null  object \n 7   Vehicle_Damage        381109 non-null  object \n 8   Annual_Premium        381109 non-null  float64\n 9   Policy_Sales_Channel  381109 non-null  float64\n 10  Vintage               381109 non-null  int64  \n 11  Response              381109 non-null  int64  \ndtypes: float64(3), int64(6), object(3)\nmemory usage: 34.9+ MB\nWall time: 496 ms\n"
    }
   ],
   "source": [
    "%%time\n",
    "df_train.info()"
   ]
  },
  {
   "source": [
    "## Data Preparation\n"
   ],
   "cell_type": "markdown",
   "metadata": {}
  },
  {
   "source": [
    "**Categorical Feature Generating**"
   ],
   "cell_type": "markdown",
   "metadata": {}
  },
  {
   "source": [
    "Ideaa here is to create a bunch of new features and later choose the best ones with **feature selection algorithm**\n",
    "\n",
    "## Target Encodiing:-\n",
    "Target encoding replaces a categorical value with the average value of the target for that value of the feature. For example , given the \"Vehicla_Age\" value \"1-2 year\" we'd calculate the average outcome (i.e, Response) for all the rows with Vehicle_Age = 1-2 year around **0.173755** "
   ],
   "cell_type": "markdown",
   "metadata": {}
  },
  {
   "cell_type": "code",
   "execution_count": 3,
   "metadata": {},
   "outputs": [],
   "source": [
    "cat_feats = ['Gender' , 'Vehicle_Age', 'Vehicle_Damage' ]\n",
    "\n",
    "import category_encoders as ce \n",
    "\n",
    "target_enc = ce.TargetEncoder(cols = cat_feats)\n",
    "target_enc.fit(df_train[cat_feats] , df_train['Response'])\n",
    "train_te = target_enc.transform(df_train[cat_feats])\n",
    "test_te =  target_enc.transform(df_test[cat_feats])\n",
    "df_train = df_train.join(train_te.add_suffix('_target'))\n",
    "df_test = df_test.join(test_te.add_suffix('_target'))"
   ]
  },
  {
   "source": [
    "## CatBoost Encoding\n",
    "\n",
    "This is similar to Target encoding in that it is based on the target probability for a given value, However with CatBoost, for each row, the target probability is calculated only from the row befor it"
   ],
   "cell_type": "markdown",
   "metadata": {}
  },
  {
   "source": [
    "target_cbe = ce.CatBoostEncoder(cols = cat_feats)\n",
    "target_cbe.fit(df_train[cat_feats] , df_train['Response'])\n",
    "train_cbe = target_cbe.transform(df_train[cat_feats])\n",
    "test_cbe = target_cbe.transform(df_test[cat_feats])\n",
    "df_train = df_train.join(train_cbe.add_suffix('_cb'))\n",
    "df_test = df_test.join(test_cbe.add_suffix('_cb'))"
   ],
   "cell_type": "markdown",
   "metadata": {}
  },
  {
   "source": [
    "##  Count Encoding :-\n",
    "\n",
    "Count Encoding replaces each categorical value with the number of times it appears in the dataset. For example, in Column \"Vehicle_Damage\" \"Yes\" comes 192413 times in the dataset then \"Yes\" would be replaced with the number 192413"
   ],
   "cell_type": "markdown",
   "metadata": {}
  },
  {
   "cell_type": "code",
   "execution_count": 4,
   "metadata": {},
   "outputs": [],
   "source": [
    "count_enc = ce.CountEncoder()\n",
    "count_encoded =  count_enc.fit_transform(df_train[cat_feats])\n",
    "df_train = df_train.join(count_encoded.add_suffix('_count'))\n",
    "count_encoded =  count_enc.fit_transform(df_test[cat_feats])\n",
    "df_test = df_test.join(count_encoded.add_suffix('_count'))"
   ]
  },
  {
   "cell_type": "code",
   "execution_count": 5,
   "metadata": {},
   "outputs": [],
   "source": [
    "df_test['Response'] = -1"
   ]
  },
  {
   "cell_type": "code",
   "execution_count": 24,
   "metadata": {},
   "outputs": [],
   "source": [
    "df = pd.concat([df_train , df_test])\n",
    "df.drop(['id' , 'Region_Code' ] ,  axis = 1, inplace = True)"
   ]
  },
  {
   "cell_type": "code",
   "execution_count": 24,
   "metadata": {},
   "outputs": [
    {
     "output_type": "execute_result",
     "data": {
      "text/plain": "(508146, 19)"
     },
     "metadata": {},
     "execution_count": 24
    }
   ],
   "source": [
    "df.shape"
   ]
  },
  {
   "source": [
    "** Numerical Feature Generating**"
   ],
   "cell_type": "markdown",
   "metadata": {}
  },
  {
   "source": [
    "Since most of the \"Response\" is \"1\" when feature value of \"Vehicle_Damage\" is \"Yes\" and \"Previously_Insured\" is \"0\" so let's combine these two columns"
   ],
   "cell_type": "markdown",
   "metadata": {}
  },
  {
   "cell_type": "code",
   "execution_count": 25,
   "metadata": {},
   "outputs": [],
   "source": [
    "df['Damage_Uninsured'] = df['Vehicle_Damage']+\"_\"+df['Previously_Insured'].astype('str')"
   ]
  },
  {
   "cell_type": "code",
   "execution_count": 8,
   "metadata": {},
   "outputs": [
    {
     "output_type": "execute_result",
     "data": {
      "text/plain": "   Gender  Age  Driving_License  Previously_Insured Vehicle_Age  \\\n0    Male   44                1                   0   > 2 Years   \n1    Male   76                1                   0    1-2 Year   \n2    Male   47                1                   0   > 2 Years   \n3    Male   21                1                   1    < 1 Year   \n4  Female   29                1                   1    < 1 Year   \n\n  Vehicle_Damage  Annual_Premium  Policy_Sales_Channel  Vintage  Response  \\\n0            Yes         40454.0                  26.0      217         1   \n1             No         33536.0                  26.0      183         0   \n2            Yes         38294.0                  26.0       27         1   \n3             No         28619.0                 152.0      203         0   \n4             No         27496.0                 152.0       39         0   \n\n   Gender_target  Vehicle_Age_target  Vehicle_Damage_target  Gender_count  \\\n0       0.138411            0.293746               0.237655        206089   \n1       0.138411            0.173755               0.005204        206089   \n2       0.138411            0.293746               0.237655        206089   \n3       0.138411            0.043705               0.005204        206089   \n4       0.103902            0.043705               0.005204        175020   \n\n   Vehicle_Age_count  Vehicle_Damage_count Damage_Uninsured  \n0              16007                192413            Yes_0  \n1             200316                188696             No_0  \n2              16007                192413            Yes_0  \n3             164786                188696             No_1  \n4             164786                188696             No_1  ",
      "text/html": "<div>\n<style scoped>\n    .dataframe tbody tr th:only-of-type {\n        vertical-align: middle;\n    }\n\n    .dataframe tbody tr th {\n        vertical-align: top;\n    }\n\n    .dataframe thead th {\n        text-align: right;\n    }\n</style>\n<table border=\"1\" class=\"dataframe\">\n  <thead>\n    <tr style=\"text-align: right;\">\n      <th></th>\n      <th>Gender</th>\n      <th>Age</th>\n      <th>Driving_License</th>\n      <th>Previously_Insured</th>\n      <th>Vehicle_Age</th>\n      <th>Vehicle_Damage</th>\n      <th>Annual_Premium</th>\n      <th>Policy_Sales_Channel</th>\n      <th>Vintage</th>\n      <th>Response</th>\n      <th>Gender_target</th>\n      <th>Vehicle_Age_target</th>\n      <th>Vehicle_Damage_target</th>\n      <th>Gender_count</th>\n      <th>Vehicle_Age_count</th>\n      <th>Vehicle_Damage_count</th>\n      <th>Damage_Uninsured</th>\n    </tr>\n  </thead>\n  <tbody>\n    <tr>\n      <th>0</th>\n      <td>Male</td>\n      <td>44</td>\n      <td>1</td>\n      <td>0</td>\n      <td>&gt; 2 Years</td>\n      <td>Yes</td>\n      <td>40454.0</td>\n      <td>26.0</td>\n      <td>217</td>\n      <td>1</td>\n      <td>0.138411</td>\n      <td>0.293746</td>\n      <td>0.237655</td>\n      <td>206089</td>\n      <td>16007</td>\n      <td>192413</td>\n      <td>Yes_0</td>\n    </tr>\n    <tr>\n      <th>1</th>\n      <td>Male</td>\n      <td>76</td>\n      <td>1</td>\n      <td>0</td>\n      <td>1-2 Year</td>\n      <td>No</td>\n      <td>33536.0</td>\n      <td>26.0</td>\n      <td>183</td>\n      <td>0</td>\n      <td>0.138411</td>\n      <td>0.173755</td>\n      <td>0.005204</td>\n      <td>206089</td>\n      <td>200316</td>\n      <td>188696</td>\n      <td>No_0</td>\n    </tr>\n    <tr>\n      <th>2</th>\n      <td>Male</td>\n      <td>47</td>\n      <td>1</td>\n      <td>0</td>\n      <td>&gt; 2 Years</td>\n      <td>Yes</td>\n      <td>38294.0</td>\n      <td>26.0</td>\n      <td>27</td>\n      <td>1</td>\n      <td>0.138411</td>\n      <td>0.293746</td>\n      <td>0.237655</td>\n      <td>206089</td>\n      <td>16007</td>\n      <td>192413</td>\n      <td>Yes_0</td>\n    </tr>\n    <tr>\n      <th>3</th>\n      <td>Male</td>\n      <td>21</td>\n      <td>1</td>\n      <td>1</td>\n      <td>&lt; 1 Year</td>\n      <td>No</td>\n      <td>28619.0</td>\n      <td>152.0</td>\n      <td>203</td>\n      <td>0</td>\n      <td>0.138411</td>\n      <td>0.043705</td>\n      <td>0.005204</td>\n      <td>206089</td>\n      <td>164786</td>\n      <td>188696</td>\n      <td>No_1</td>\n    </tr>\n    <tr>\n      <th>4</th>\n      <td>Female</td>\n      <td>29</td>\n      <td>1</td>\n      <td>1</td>\n      <td>&lt; 1 Year</td>\n      <td>No</td>\n      <td>27496.0</td>\n      <td>152.0</td>\n      <td>39</td>\n      <td>0</td>\n      <td>0.103902</td>\n      <td>0.043705</td>\n      <td>0.005204</td>\n      <td>175020</td>\n      <td>164786</td>\n      <td>188696</td>\n      <td>No_1</td>\n    </tr>\n  </tbody>\n</table>\n</div>"
     },
     "metadata": {},
     "execution_count": 8
    }
   ],
   "source": [
    "df.head()"
   ]
  },
  {
   "source": [
    "The distribution of the value in \"Annual_Premium\" shows that most cost of Insurance is less than 100000 rupees. However, there is long tail of Annual_Premium going upto 500000 rupees . and models works better when the feature are normally distributed. To transform the Uneven distribution of Annual_Premium to normal distribution we can use the Square root and natural logarithm.\n"
   ],
   "cell_type": "markdown",
   "metadata": {}
  },
  {
   "cell_type": "code",
   "execution_count": 16,
   "metadata": {},
   "outputs": [
    {
     "output_type": "display_data",
     "data": {
      "text/plain": "<Figure size 720x360 with 1 Axes>",
      "image/svg+xml": "<?xml version=\"1.0\" encoding=\"utf-8\" standalone=\"no\"?>\r\n<!DOCTYPE svg PUBLIC \"-//W3C//DTD SVG 1.1//EN\"\r\n  \"http://www.w3.org/Graphics/SVG/1.1/DTD/svg11.dtd\">\r\n<!-- Created with matplotlib (https://matplotlib.org/) -->\r\n<svg height=\"302.878125pt\" version=\"1.1\" viewBox=\"0 0 611.2125 302.878125\" width=\"611.2125pt\" xmlns=\"http://www.w3.org/2000/svg\" xmlns:xlink=\"http://www.w3.org/1999/xlink\">\r\n <defs>\r\n  <style type=\"text/css\">\r\n*{stroke-linecap:butt;stroke-linejoin:round;}\r\n  </style>\r\n </defs>\r\n <g id=\"figure_1\">\r\n  <g id=\"patch_1\">\r\n   <path d=\"M 0 302.878125 \r\nL 611.2125 302.878125 \r\nL 611.2125 0 \r\nL 0 0 \r\nz\r\n\" style=\"fill:#ffffff;\"/>\r\n  </g>\r\n  <g id=\"axes_1\">\r\n   <g id=\"patch_2\">\r\n    <path d=\"M 46.0125 279 \r\nL 604.0125 279 \r\nL 604.0125 7.2 \r\nL 46.0125 7.2 \r\nz\r\n\" style=\"fill:#e5e5e5;\"/>\r\n   </g>\r\n   <g id=\"matplotlib.axis_1\">\r\n    <g id=\"xtick_1\">\r\n     <g id=\"line2d_1\">\r\n      <path clip-path=\"url(#p434216628b)\" d=\"M 71.376136 279 \r\nL 71.376136 7.2 \r\n\" style=\"fill:none;stroke:#ffffff;stroke-linecap:square;stroke-width:0.8;\"/>\r\n     </g>\r\n     <g id=\"line2d_2\">\r\n      <defs>\r\n       <path d=\"M 0 0 \r\nL 0 3.5 \r\n\" id=\"m8419f0119f\" style=\"stroke:#555555;stroke-width:0.8;\"/>\r\n      </defs>\r\n      <g>\r\n       <use style=\"fill:#555555;stroke:#555555;stroke-width:0.8;\" x=\"71.376136\" xlink:href=\"#m8419f0119f\" y=\"279\"/>\r\n      </g>\r\n     </g>\r\n     <g id=\"text_1\">\r\n      <!-- 0 -->\r\n      <defs>\r\n       <path d=\"M 31.78125 66.40625 \r\nQ 24.171875 66.40625 20.328125 58.90625 \r\nQ 16.5 51.421875 16.5 36.375 \r\nQ 16.5 21.390625 20.328125 13.890625 \r\nQ 24.171875 6.390625 31.78125 6.390625 \r\nQ 39.453125 6.390625 43.28125 13.890625 \r\nQ 47.125 21.390625 47.125 36.375 \r\nQ 47.125 51.421875 43.28125 58.90625 \r\nQ 39.453125 66.40625 31.78125 66.40625 \r\nz\r\nM 31.78125 74.21875 \r\nQ 44.046875 74.21875 50.515625 64.515625 \r\nQ 56.984375 54.828125 56.984375 36.375 \r\nQ 56.984375 17.96875 50.515625 8.265625 \r\nQ 44.046875 -1.421875 31.78125 -1.421875 \r\nQ 19.53125 -1.421875 13.0625 8.265625 \r\nQ 6.59375 17.96875 6.59375 36.375 \r\nQ 6.59375 54.828125 13.0625 64.515625 \r\nQ 19.53125 74.21875 31.78125 74.21875 \r\nz\r\n\" id=\"DejaVuSans-48\"/>\r\n      </defs>\r\n      <g style=\"fill:#555555;\" transform=\"translate(68.194886 293.598437)scale(0.1 -0.1)\">\r\n       <use xlink:href=\"#DejaVuSans-48\"/>\r\n      </g>\r\n     </g>\r\n    </g>\r\n    <g id=\"xtick_2\">\r\n     <g id=\"line2d_3\">\r\n      <path clip-path=\"url(#p434216628b)\" d=\"M 143.843669 279 \r\nL 143.843669 7.2 \r\n\" style=\"fill:none;stroke:#ffffff;stroke-linecap:square;stroke-width:0.8;\"/>\r\n     </g>\r\n     <g id=\"line2d_4\">\r\n      <g>\r\n       <use style=\"fill:#555555;stroke:#555555;stroke-width:0.8;\" x=\"143.843669\" xlink:href=\"#m8419f0119f\" y=\"279\"/>\r\n      </g>\r\n     </g>\r\n     <g id=\"text_2\">\r\n      <!-- 100 -->\r\n      <defs>\r\n       <path d=\"M 12.40625 8.296875 \r\nL 28.515625 8.296875 \r\nL 28.515625 63.921875 \r\nL 10.984375 60.40625 \r\nL 10.984375 69.390625 \r\nL 28.421875 72.90625 \r\nL 38.28125 72.90625 \r\nL 38.28125 8.296875 \r\nL 54.390625 8.296875 \r\nL 54.390625 0 \r\nL 12.40625 0 \r\nz\r\n\" id=\"DejaVuSans-49\"/>\r\n      </defs>\r\n      <g style=\"fill:#555555;\" transform=\"translate(134.299919 293.598437)scale(0.1 -0.1)\">\r\n       <use xlink:href=\"#DejaVuSans-49\"/>\r\n       <use x=\"63.623047\" xlink:href=\"#DejaVuSans-48\"/>\r\n       <use x=\"127.246094\" xlink:href=\"#DejaVuSans-48\"/>\r\n      </g>\r\n     </g>\r\n    </g>\r\n    <g id=\"xtick_3\">\r\n     <g id=\"line2d_5\">\r\n      <path clip-path=\"url(#p434216628b)\" d=\"M 216.311201 279 \r\nL 216.311201 7.2 \r\n\" style=\"fill:none;stroke:#ffffff;stroke-linecap:square;stroke-width:0.8;\"/>\r\n     </g>\r\n     <g id=\"line2d_6\">\r\n      <g>\r\n       <use style=\"fill:#555555;stroke:#555555;stroke-width:0.8;\" x=\"216.311201\" xlink:href=\"#m8419f0119f\" y=\"279\"/>\r\n      </g>\r\n     </g>\r\n     <g id=\"text_3\">\r\n      <!-- 200 -->\r\n      <defs>\r\n       <path d=\"M 19.1875 8.296875 \r\nL 53.609375 8.296875 \r\nL 53.609375 0 \r\nL 7.328125 0 \r\nL 7.328125 8.296875 \r\nQ 12.9375 14.109375 22.625 23.890625 \r\nQ 32.328125 33.6875 34.8125 36.53125 \r\nQ 39.546875 41.84375 41.421875 45.53125 \r\nQ 43.3125 49.21875 43.3125 52.78125 \r\nQ 43.3125 58.59375 39.234375 62.25 \r\nQ 35.15625 65.921875 28.609375 65.921875 \r\nQ 23.96875 65.921875 18.8125 64.3125 \r\nQ 13.671875 62.703125 7.8125 59.421875 \r\nL 7.8125 69.390625 \r\nQ 13.765625 71.78125 18.9375 73 \r\nQ 24.125 74.21875 28.421875 74.21875 \r\nQ 39.75 74.21875 46.484375 68.546875 \r\nQ 53.21875 62.890625 53.21875 53.421875 \r\nQ 53.21875 48.921875 51.53125 44.890625 \r\nQ 49.859375 40.875 45.40625 35.40625 \r\nQ 44.1875 33.984375 37.640625 27.21875 \r\nQ 31.109375 20.453125 19.1875 8.296875 \r\nz\r\n\" id=\"DejaVuSans-50\"/>\r\n      </defs>\r\n      <g style=\"fill:#555555;\" transform=\"translate(206.767451 293.598437)scale(0.1 -0.1)\">\r\n       <use xlink:href=\"#DejaVuSans-50\"/>\r\n       <use x=\"63.623047\" xlink:href=\"#DejaVuSans-48\"/>\r\n       <use x=\"127.246094\" xlink:href=\"#DejaVuSans-48\"/>\r\n      </g>\r\n     </g>\r\n    </g>\r\n    <g id=\"xtick_4\">\r\n     <g id=\"line2d_7\">\r\n      <path clip-path=\"url(#p434216628b)\" d=\"M 288.778734 279 \r\nL 288.778734 7.2 \r\n\" style=\"fill:none;stroke:#ffffff;stroke-linecap:square;stroke-width:0.8;\"/>\r\n     </g>\r\n     <g id=\"line2d_8\">\r\n      <g>\r\n       <use style=\"fill:#555555;stroke:#555555;stroke-width:0.8;\" x=\"288.778734\" xlink:href=\"#m8419f0119f\" y=\"279\"/>\r\n      </g>\r\n     </g>\r\n     <g id=\"text_4\">\r\n      <!-- 300 -->\r\n      <defs>\r\n       <path d=\"M 40.578125 39.3125 \r\nQ 47.65625 37.796875 51.625 33 \r\nQ 55.609375 28.21875 55.609375 21.1875 \r\nQ 55.609375 10.40625 48.1875 4.484375 \r\nQ 40.765625 -1.421875 27.09375 -1.421875 \r\nQ 22.515625 -1.421875 17.65625 -0.515625 \r\nQ 12.796875 0.390625 7.625 2.203125 \r\nL 7.625 11.71875 \r\nQ 11.71875 9.328125 16.59375 8.109375 \r\nQ 21.484375 6.890625 26.8125 6.890625 \r\nQ 36.078125 6.890625 40.9375 10.546875 \r\nQ 45.796875 14.203125 45.796875 21.1875 \r\nQ 45.796875 27.640625 41.28125 31.265625 \r\nQ 36.765625 34.90625 28.71875 34.90625 \r\nL 20.21875 34.90625 \r\nL 20.21875 43.015625 \r\nL 29.109375 43.015625 \r\nQ 36.375 43.015625 40.234375 45.921875 \r\nQ 44.09375 48.828125 44.09375 54.296875 \r\nQ 44.09375 59.90625 40.109375 62.90625 \r\nQ 36.140625 65.921875 28.71875 65.921875 \r\nQ 24.65625 65.921875 20.015625 65.03125 \r\nQ 15.375 64.15625 9.8125 62.3125 \r\nL 9.8125 71.09375 \r\nQ 15.4375 72.65625 20.34375 73.4375 \r\nQ 25.25 74.21875 29.59375 74.21875 \r\nQ 40.828125 74.21875 47.359375 69.109375 \r\nQ 53.90625 64.015625 53.90625 55.328125 \r\nQ 53.90625 49.265625 50.4375 45.09375 \r\nQ 46.96875 40.921875 40.578125 39.3125 \r\nz\r\n\" id=\"DejaVuSans-51\"/>\r\n      </defs>\r\n      <g style=\"fill:#555555;\" transform=\"translate(279.234984 293.598437)scale(0.1 -0.1)\">\r\n       <use xlink:href=\"#DejaVuSans-51\"/>\r\n       <use x=\"63.623047\" xlink:href=\"#DejaVuSans-48\"/>\r\n       <use x=\"127.246094\" xlink:href=\"#DejaVuSans-48\"/>\r\n      </g>\r\n     </g>\r\n    </g>\r\n    <g id=\"xtick_5\">\r\n     <g id=\"line2d_9\">\r\n      <path clip-path=\"url(#p434216628b)\" d=\"M 361.246266 279 \r\nL 361.246266 7.2 \r\n\" style=\"fill:none;stroke:#ffffff;stroke-linecap:square;stroke-width:0.8;\"/>\r\n     </g>\r\n     <g id=\"line2d_10\">\r\n      <g>\r\n       <use style=\"fill:#555555;stroke:#555555;stroke-width:0.8;\" x=\"361.246266\" xlink:href=\"#m8419f0119f\" y=\"279\"/>\r\n      </g>\r\n     </g>\r\n     <g id=\"text_5\">\r\n      <!-- 400 -->\r\n      <defs>\r\n       <path d=\"M 37.796875 64.3125 \r\nL 12.890625 25.390625 \r\nL 37.796875 25.390625 \r\nz\r\nM 35.203125 72.90625 \r\nL 47.609375 72.90625 \r\nL 47.609375 25.390625 \r\nL 58.015625 25.390625 \r\nL 58.015625 17.1875 \r\nL 47.609375 17.1875 \r\nL 47.609375 0 \r\nL 37.796875 0 \r\nL 37.796875 17.1875 \r\nL 4.890625 17.1875 \r\nL 4.890625 26.703125 \r\nz\r\n\" id=\"DejaVuSans-52\"/>\r\n      </defs>\r\n      <g style=\"fill:#555555;\" transform=\"translate(351.702516 293.598437)scale(0.1 -0.1)\">\r\n       <use xlink:href=\"#DejaVuSans-52\"/>\r\n       <use x=\"63.623047\" xlink:href=\"#DejaVuSans-48\"/>\r\n       <use x=\"127.246094\" xlink:href=\"#DejaVuSans-48\"/>\r\n      </g>\r\n     </g>\r\n    </g>\r\n    <g id=\"xtick_6\">\r\n     <g id=\"line2d_11\">\r\n      <path clip-path=\"url(#p434216628b)\" d=\"M 433.713799 279 \r\nL 433.713799 7.2 \r\n\" style=\"fill:none;stroke:#ffffff;stroke-linecap:square;stroke-width:0.8;\"/>\r\n     </g>\r\n     <g id=\"line2d_12\">\r\n      <g>\r\n       <use style=\"fill:#555555;stroke:#555555;stroke-width:0.8;\" x=\"433.713799\" xlink:href=\"#m8419f0119f\" y=\"279\"/>\r\n      </g>\r\n     </g>\r\n     <g id=\"text_6\">\r\n      <!-- 500 -->\r\n      <defs>\r\n       <path d=\"M 10.796875 72.90625 \r\nL 49.515625 72.90625 \r\nL 49.515625 64.59375 \r\nL 19.828125 64.59375 \r\nL 19.828125 46.734375 \r\nQ 21.96875 47.46875 24.109375 47.828125 \r\nQ 26.265625 48.1875 28.421875 48.1875 \r\nQ 40.625 48.1875 47.75 41.5 \r\nQ 54.890625 34.8125 54.890625 23.390625 \r\nQ 54.890625 11.625 47.5625 5.09375 \r\nQ 40.234375 -1.421875 26.90625 -1.421875 \r\nQ 22.3125 -1.421875 17.546875 -0.640625 \r\nQ 12.796875 0.140625 7.71875 1.703125 \r\nL 7.71875 11.625 \r\nQ 12.109375 9.234375 16.796875 8.0625 \r\nQ 21.484375 6.890625 26.703125 6.890625 \r\nQ 35.15625 6.890625 40.078125 11.328125 \r\nQ 45.015625 15.765625 45.015625 23.390625 \r\nQ 45.015625 31 40.078125 35.4375 \r\nQ 35.15625 39.890625 26.703125 39.890625 \r\nQ 22.75 39.890625 18.8125 39.015625 \r\nQ 14.890625 38.140625 10.796875 36.28125 \r\nz\r\n\" id=\"DejaVuSans-53\"/>\r\n      </defs>\r\n      <g style=\"fill:#555555;\" transform=\"translate(424.170049 293.598437)scale(0.1 -0.1)\">\r\n       <use xlink:href=\"#DejaVuSans-53\"/>\r\n       <use x=\"63.623047\" xlink:href=\"#DejaVuSans-48\"/>\r\n       <use x=\"127.246094\" xlink:href=\"#DejaVuSans-48\"/>\r\n      </g>\r\n     </g>\r\n    </g>\r\n    <g id=\"xtick_7\">\r\n     <g id=\"line2d_13\">\r\n      <path clip-path=\"url(#p434216628b)\" d=\"M 506.181331 279 \r\nL 506.181331 7.2 \r\n\" style=\"fill:none;stroke:#ffffff;stroke-linecap:square;stroke-width:0.8;\"/>\r\n     </g>\r\n     <g id=\"line2d_14\">\r\n      <g>\r\n       <use style=\"fill:#555555;stroke:#555555;stroke-width:0.8;\" x=\"506.181331\" xlink:href=\"#m8419f0119f\" y=\"279\"/>\r\n      </g>\r\n     </g>\r\n     <g id=\"text_7\">\r\n      <!-- 600 -->\r\n      <defs>\r\n       <path d=\"M 33.015625 40.375 \r\nQ 26.375 40.375 22.484375 35.828125 \r\nQ 18.609375 31.296875 18.609375 23.390625 \r\nQ 18.609375 15.53125 22.484375 10.953125 \r\nQ 26.375 6.390625 33.015625 6.390625 \r\nQ 39.65625 6.390625 43.53125 10.953125 \r\nQ 47.40625 15.53125 47.40625 23.390625 \r\nQ 47.40625 31.296875 43.53125 35.828125 \r\nQ 39.65625 40.375 33.015625 40.375 \r\nz\r\nM 52.59375 71.296875 \r\nL 52.59375 62.3125 \r\nQ 48.875 64.0625 45.09375 64.984375 \r\nQ 41.3125 65.921875 37.59375 65.921875 \r\nQ 27.828125 65.921875 22.671875 59.328125 \r\nQ 17.53125 52.734375 16.796875 39.40625 \r\nQ 19.671875 43.65625 24.015625 45.921875 \r\nQ 28.375 48.1875 33.59375 48.1875 \r\nQ 44.578125 48.1875 50.953125 41.515625 \r\nQ 57.328125 34.859375 57.328125 23.390625 \r\nQ 57.328125 12.15625 50.6875 5.359375 \r\nQ 44.046875 -1.421875 33.015625 -1.421875 \r\nQ 20.359375 -1.421875 13.671875 8.265625 \r\nQ 6.984375 17.96875 6.984375 36.375 \r\nQ 6.984375 53.65625 15.1875 63.9375 \r\nQ 23.390625 74.21875 37.203125 74.21875 \r\nQ 40.921875 74.21875 44.703125 73.484375 \r\nQ 48.484375 72.75 52.59375 71.296875 \r\nz\r\n\" id=\"DejaVuSans-54\"/>\r\n      </defs>\r\n      <g style=\"fill:#555555;\" transform=\"translate(496.637581 293.598437)scale(0.1 -0.1)\">\r\n       <use xlink:href=\"#DejaVuSans-54\"/>\r\n       <use x=\"63.623047\" xlink:href=\"#DejaVuSans-48\"/>\r\n       <use x=\"127.246094\" xlink:href=\"#DejaVuSans-48\"/>\r\n      </g>\r\n     </g>\r\n    </g>\r\n    <g id=\"xtick_8\">\r\n     <g id=\"line2d_15\">\r\n      <path clip-path=\"url(#p434216628b)\" d=\"M 578.648864 279 \r\nL 578.648864 7.2 \r\n\" style=\"fill:none;stroke:#ffffff;stroke-linecap:square;stroke-width:0.8;\"/>\r\n     </g>\r\n     <g id=\"line2d_16\">\r\n      <g>\r\n       <use style=\"fill:#555555;stroke:#555555;stroke-width:0.8;\" x=\"578.648864\" xlink:href=\"#m8419f0119f\" y=\"279\"/>\r\n      </g>\r\n     </g>\r\n     <g id=\"text_8\">\r\n      <!-- 700 -->\r\n      <defs>\r\n       <path d=\"M 8.203125 72.90625 \r\nL 55.078125 72.90625 \r\nL 55.078125 68.703125 \r\nL 28.609375 0 \r\nL 18.3125 0 \r\nL 43.21875 64.59375 \r\nL 8.203125 64.59375 \r\nz\r\n\" id=\"DejaVuSans-55\"/>\r\n      </defs>\r\n      <g style=\"fill:#555555;\" transform=\"translate(569.105114 293.598437)scale(0.1 -0.1)\">\r\n       <use xlink:href=\"#DejaVuSans-55\"/>\r\n       <use x=\"63.623047\" xlink:href=\"#DejaVuSans-48\"/>\r\n       <use x=\"127.246094\" xlink:href=\"#DejaVuSans-48\"/>\r\n      </g>\r\n     </g>\r\n    </g>\r\n   </g>\r\n   <g id=\"matplotlib.axis_2\">\r\n    <g id=\"ytick_1\">\r\n     <g id=\"line2d_17\">\r\n      <path clip-path=\"url(#p434216628b)\" d=\"M 46.0125 279 \r\nL 604.0125 279 \r\n\" style=\"fill:none;stroke:#ffffff;stroke-linecap:square;stroke-width:0.8;\"/>\r\n     </g>\r\n     <g id=\"line2d_18\">\r\n      <defs>\r\n       <path d=\"M 0 0 \r\nL -3.5 0 \r\n\" id=\"m32cb228717\" style=\"stroke:#555555;stroke-width:0.8;\"/>\r\n      </defs>\r\n      <g>\r\n       <use style=\"fill:#555555;stroke:#555555;stroke-width:0.8;\" x=\"46.0125\" xlink:href=\"#m32cb228717\" y=\"279\"/>\r\n      </g>\r\n     </g>\r\n     <g id=\"text_9\">\r\n      <!-- 0 -->\r\n      <g style=\"fill:#555555;\" transform=\"translate(32.65 282.799219)scale(0.1 -0.1)\">\r\n       <use xlink:href=\"#DejaVuSans-48\"/>\r\n      </g>\r\n     </g>\r\n    </g>\r\n    <g id=\"ytick_2\">\r\n     <g id=\"line2d_19\">\r\n      <path clip-path=\"url(#p434216628b)\" d=\"M 46.0125 224.260601 \r\nL 604.0125 224.260601 \r\n\" style=\"fill:none;stroke:#ffffff;stroke-linecap:square;stroke-width:0.8;\"/>\r\n     </g>\r\n     <g id=\"line2d_20\">\r\n      <g>\r\n       <use style=\"fill:#555555;stroke:#555555;stroke-width:0.8;\" x=\"46.0125\" xlink:href=\"#m32cb228717\" y=\"224.260601\"/>\r\n      </g>\r\n     </g>\r\n     <g id=\"text_10\">\r\n      <!-- 20000 -->\r\n      <g style=\"fill:#555555;\" transform=\"translate(7.2 228.05982)scale(0.1 -0.1)\">\r\n       <use xlink:href=\"#DejaVuSans-50\"/>\r\n       <use x=\"63.623047\" xlink:href=\"#DejaVuSans-48\"/>\r\n       <use x=\"127.246094\" xlink:href=\"#DejaVuSans-48\"/>\r\n       <use x=\"190.869141\" xlink:href=\"#DejaVuSans-48\"/>\r\n       <use x=\"254.492188\" xlink:href=\"#DejaVuSans-48\"/>\r\n      </g>\r\n     </g>\r\n    </g>\r\n    <g id=\"ytick_3\">\r\n     <g id=\"line2d_21\">\r\n      <path clip-path=\"url(#p434216628b)\" d=\"M 46.0125 169.521202 \r\nL 604.0125 169.521202 \r\n\" style=\"fill:none;stroke:#ffffff;stroke-linecap:square;stroke-width:0.8;\"/>\r\n     </g>\r\n     <g id=\"line2d_22\">\r\n      <g>\r\n       <use style=\"fill:#555555;stroke:#555555;stroke-width:0.8;\" x=\"46.0125\" xlink:href=\"#m32cb228717\" y=\"169.521202\"/>\r\n      </g>\r\n     </g>\r\n     <g id=\"text_11\">\r\n      <!-- 40000 -->\r\n      <g style=\"fill:#555555;\" transform=\"translate(7.2 173.320421)scale(0.1 -0.1)\">\r\n       <use xlink:href=\"#DejaVuSans-52\"/>\r\n       <use x=\"63.623047\" xlink:href=\"#DejaVuSans-48\"/>\r\n       <use x=\"127.246094\" xlink:href=\"#DejaVuSans-48\"/>\r\n       <use x=\"190.869141\" xlink:href=\"#DejaVuSans-48\"/>\r\n       <use x=\"254.492188\" xlink:href=\"#DejaVuSans-48\"/>\r\n      </g>\r\n     </g>\r\n    </g>\r\n    <g id=\"ytick_4\">\r\n     <g id=\"line2d_23\">\r\n      <path clip-path=\"url(#p434216628b)\" d=\"M 46.0125 114.781804 \r\nL 604.0125 114.781804 \r\n\" style=\"fill:none;stroke:#ffffff;stroke-linecap:square;stroke-width:0.8;\"/>\r\n     </g>\r\n     <g id=\"line2d_24\">\r\n      <g>\r\n       <use style=\"fill:#555555;stroke:#555555;stroke-width:0.8;\" x=\"46.0125\" xlink:href=\"#m32cb228717\" y=\"114.781804\"/>\r\n      </g>\r\n     </g>\r\n     <g id=\"text_12\">\r\n      <!-- 60000 -->\r\n      <g style=\"fill:#555555;\" transform=\"translate(7.2 118.581022)scale(0.1 -0.1)\">\r\n       <use xlink:href=\"#DejaVuSans-54\"/>\r\n       <use x=\"63.623047\" xlink:href=\"#DejaVuSans-48\"/>\r\n       <use x=\"127.246094\" xlink:href=\"#DejaVuSans-48\"/>\r\n       <use x=\"190.869141\" xlink:href=\"#DejaVuSans-48\"/>\r\n       <use x=\"254.492188\" xlink:href=\"#DejaVuSans-48\"/>\r\n      </g>\r\n     </g>\r\n    </g>\r\n    <g id=\"ytick_5\">\r\n     <g id=\"line2d_25\">\r\n      <path clip-path=\"url(#p434216628b)\" d=\"M 46.0125 60.042405 \r\nL 604.0125 60.042405 \r\n\" style=\"fill:none;stroke:#ffffff;stroke-linecap:square;stroke-width:0.8;\"/>\r\n     </g>\r\n     <g id=\"line2d_26\">\r\n      <g>\r\n       <use style=\"fill:#555555;stroke:#555555;stroke-width:0.8;\" x=\"46.0125\" xlink:href=\"#m32cb228717\" y=\"60.042405\"/>\r\n      </g>\r\n     </g>\r\n     <g id=\"text_13\">\r\n      <!-- 80000 -->\r\n      <defs>\r\n       <path d=\"M 31.78125 34.625 \r\nQ 24.75 34.625 20.71875 30.859375 \r\nQ 16.703125 27.09375 16.703125 20.515625 \r\nQ 16.703125 13.921875 20.71875 10.15625 \r\nQ 24.75 6.390625 31.78125 6.390625 \r\nQ 38.8125 6.390625 42.859375 10.171875 \r\nQ 46.921875 13.96875 46.921875 20.515625 \r\nQ 46.921875 27.09375 42.890625 30.859375 \r\nQ 38.875 34.625 31.78125 34.625 \r\nz\r\nM 21.921875 38.8125 \r\nQ 15.578125 40.375 12.03125 44.71875 \r\nQ 8.5 49.078125 8.5 55.328125 \r\nQ 8.5 64.0625 14.71875 69.140625 \r\nQ 20.953125 74.21875 31.78125 74.21875 \r\nQ 42.671875 74.21875 48.875 69.140625 \r\nQ 55.078125 64.0625 55.078125 55.328125 \r\nQ 55.078125 49.078125 51.53125 44.71875 \r\nQ 48 40.375 41.703125 38.8125 \r\nQ 48.828125 37.15625 52.796875 32.3125 \r\nQ 56.78125 27.484375 56.78125 20.515625 \r\nQ 56.78125 9.90625 50.3125 4.234375 \r\nQ 43.84375 -1.421875 31.78125 -1.421875 \r\nQ 19.734375 -1.421875 13.25 4.234375 \r\nQ 6.78125 9.90625 6.78125 20.515625 \r\nQ 6.78125 27.484375 10.78125 32.3125 \r\nQ 14.796875 37.15625 21.921875 38.8125 \r\nz\r\nM 18.3125 54.390625 \r\nQ 18.3125 48.734375 21.84375 45.5625 \r\nQ 25.390625 42.390625 31.78125 42.390625 \r\nQ 38.140625 42.390625 41.71875 45.5625 \r\nQ 45.3125 48.734375 45.3125 54.390625 \r\nQ 45.3125 60.0625 41.71875 63.234375 \r\nQ 38.140625 66.40625 31.78125 66.40625 \r\nQ 25.390625 66.40625 21.84375 63.234375 \r\nQ 18.3125 60.0625 18.3125 54.390625 \r\nz\r\n\" id=\"DejaVuSans-56\"/>\r\n      </defs>\r\n      <g style=\"fill:#555555;\" transform=\"translate(7.2 63.841624)scale(0.1 -0.1)\">\r\n       <use xlink:href=\"#DejaVuSans-56\"/>\r\n       <use x=\"63.623047\" xlink:href=\"#DejaVuSans-48\"/>\r\n       <use x=\"127.246094\" xlink:href=\"#DejaVuSans-48\"/>\r\n       <use x=\"190.869141\" xlink:href=\"#DejaVuSans-48\"/>\r\n       <use x=\"254.492188\" xlink:href=\"#DejaVuSans-48\"/>\r\n      </g>\r\n     </g>\r\n    </g>\r\n   </g>\r\n   <g id=\"patch_3\">\r\n    <path clip-path=\"url(#p434216628b)\" d=\"M 71.376136 279 \r\nL 81.521591 279 \r\nL 81.521591 279 \r\nL 71.376136 279 \r\nz\r\n\" style=\"fill:#e24a33;\"/>\r\n   </g>\r\n   <g id=\"patch_4\">\r\n    <path clip-path=\"url(#p434216628b)\" d=\"M 81.521591 279 \r\nL 91.667045 279 \r\nL 91.667045 279 \r\nL 81.521591 279 \r\nz\r\n\" style=\"fill:#e24a33;\"/>\r\n   </g>\r\n   <g id=\"patch_5\">\r\n    <path clip-path=\"url(#p434216628b)\" d=\"M 91.667045 279 \r\nL 101.8125 279 \r\nL 101.8125 279 \r\nL 91.667045 279 \r\nz\r\n\" style=\"fill:#e24a33;\"/>\r\n   </g>\r\n   <g id=\"patch_6\">\r\n    <path clip-path=\"url(#p434216628b)\" d=\"M 101.8125 279 \r\nL 111.957955 279 \r\nL 111.957955 42.284944 \r\nL 101.8125 42.284944 \r\nz\r\n\" style=\"fill:#e24a33;\"/>\r\n   </g>\r\n   <g id=\"patch_7\">\r\n    <path clip-path=\"url(#p434216628b)\" d=\"M 111.957955 279 \r\nL 122.103409 279 \r\nL 122.103409 279 \r\nL 111.957955 279 \r\nz\r\n\" style=\"fill:#e24a33;\"/>\r\n   </g>\r\n   <g id=\"patch_8\">\r\n    <path clip-path=\"url(#p434216628b)\" d=\"M 122.103409 279 \r\nL 132.248864 279 \r\nL 132.248864 278.994526 \r\nL 122.103409 278.994526 \r\nz\r\n\" style=\"fill:#e24a33;\"/>\r\n   </g>\r\n   <g id=\"patch_9\">\r\n    <path clip-path=\"url(#p434216628b)\" d=\"M 132.248864 279 \r\nL 142.394318 279 \r\nL 142.394318 278.991789 \r\nL 132.248864 278.991789 \r\nz\r\n\" style=\"fill:#e24a33;\"/>\r\n   </g>\r\n   <g id=\"patch_10\">\r\n    <path clip-path=\"url(#p434216628b)\" d=\"M 142.394318 279 \r\nL 152.539773 279 \r\nL 152.539773 278.783779 \r\nL 142.394318 278.783779 \r\nz\r\n\" style=\"fill:#e24a33;\"/>\r\n   </g>\r\n   <g id=\"patch_11\">\r\n    <path clip-path=\"url(#p434216628b)\" d=\"M 152.539773 279 \r\nL 162.685227 279 \r\nL 162.685227 276.700945 \r\nL 152.539773 276.700945 \r\nz\r\n\" style=\"fill:#e24a33;\"/>\r\n   </g>\r\n   <g id=\"patch_12\">\r\n    <path clip-path=\"url(#p434216628b)\" d=\"M 162.685227 279 \r\nL 172.830682 279 \r\nL 172.830682 263.77971 \r\nL 162.685227 263.77971 \r\nz\r\n\" style=\"fill:#e24a33;\"/>\r\n   </g>\r\n   <g id=\"patch_13\">\r\n    <path clip-path=\"url(#p434216628b)\" d=\"M 172.830682 279 \r\nL 182.976136 279 \r\nL 182.976136 206.571565 \r\nL 172.830682 206.571565 \r\nz\r\n\" style=\"fill:#e24a33;\"/>\r\n   </g>\r\n   <g id=\"patch_14\">\r\n    <path clip-path=\"url(#p434216628b)\" d=\"M 182.976136 279 \r\nL 193.121591 279 \r\nL 193.121591 93.282905 \r\nL 182.976136 93.282905 \r\nz\r\n\" style=\"fill:#e24a33;\"/>\r\n   </g>\r\n   <g id=\"patch_15\">\r\n    <path clip-path=\"url(#p434216628b)\" d=\"M 193.121591 279 \r\nL 203.267045 279 \r\nL 203.267045 20.142857 \r\nL 193.121591 20.142857 \r\nz\r\n\" style=\"fill:#e24a33;\"/>\r\n   </g>\r\n   <g id=\"patch_16\">\r\n    <path clip-path=\"url(#p434216628b)\" d=\"M 203.267045 279 \r\nL 213.4125 279 \r\nL 213.4125 42.471058 \r\nL 203.267045 42.471058 \r\nz\r\n\" style=\"fill:#e24a33;\"/>\r\n   </g>\r\n   <g id=\"patch_17\">\r\n    <path clip-path=\"url(#p434216628b)\" d=\"M 213.4125 279 \r\nL 223.557955 279 \r\nL 223.557955 115.104766 \r\nL 213.4125 115.104766 \r\nz\r\n\" style=\"fill:#e24a33;\"/>\r\n   </g>\r\n   <g id=\"patch_18\">\r\n    <path clip-path=\"url(#p434216628b)\" d=\"M 223.557955 279 \r\nL 233.703409 279 \r\nL 233.703409 175.649278 \r\nL 223.557955 175.649278 \r\nz\r\n\" style=\"fill:#e24a33;\"/>\r\n   </g>\r\n   <g id=\"patch_19\">\r\n    <path clip-path=\"url(#p434216628b)\" d=\"M 233.703409 279 \r\nL 243.848864 279 \r\nL 243.848864 223.992378 \r\nL 233.703409 223.992378 \r\nz\r\n\" style=\"fill:#e24a33;\"/>\r\n   </g>\r\n   <g id=\"patch_20\">\r\n    <path clip-path=\"url(#p434216628b)\" d=\"M 243.848864 279 \r\nL 253.994318 279 \r\nL 253.994318 251.055537 \r\nL 243.848864 251.055537 \r\nz\r\n\" style=\"fill:#e24a33;\"/>\r\n   </g>\r\n   <g id=\"patch_21\">\r\n    <path clip-path=\"url(#p434216628b)\" d=\"M 253.994318 279 \r\nL 264.139773 279 \r\nL 264.139773 263.035254 \r\nL 253.994318 263.035254 \r\nz\r\n\" style=\"fill:#e24a33;\"/>\r\n   </g>\r\n   <g id=\"patch_22\">\r\n    <path clip-path=\"url(#p434216628b)\" d=\"M 264.139773 279 \r\nL 274.285227 279 \r\nL 274.285227 271.941355 \r\nL 264.139773 271.941355 \r\nz\r\n\" style=\"fill:#e24a33;\"/>\r\n   </g>\r\n   <g id=\"patch_23\">\r\n    <path clip-path=\"url(#p434216628b)\" d=\"M 274.285227 279 \r\nL 284.430682 279 \r\nL 284.430682 275.444676 \r\nL 274.285227 275.444676 \r\nz\r\n\" style=\"fill:#e24a33;\"/>\r\n   </g>\r\n   <g id=\"patch_24\">\r\n    <path clip-path=\"url(#p434216628b)\" d=\"M 284.430682 279 \r\nL 294.576136 279 \r\nL 294.576136 276.750211 \r\nL 284.430682 276.750211 \r\nz\r\n\" style=\"fill:#e24a33;\"/>\r\n   </g>\r\n   <g id=\"patch_25\">\r\n    <path clip-path=\"url(#p434216628b)\" d=\"M 294.576136 279 \r\nL 304.721591 279 \r\nL 304.721591 277.606882 \r\nL 294.576136 277.606882 \r\nz\r\n\" style=\"fill:#e24a33;\"/>\r\n   </g>\r\n   <g id=\"patch_26\">\r\n    <path clip-path=\"url(#p434216628b)\" d=\"M 304.721591 279 \r\nL 314.867045 279 \r\nL 314.867045 278.18712 \r\nL 304.721591 278.18712 \r\nz\r\n\" style=\"fill:#e24a33;\"/>\r\n   </g>\r\n   <g id=\"patch_27\">\r\n    <path clip-path=\"url(#p434216628b)\" d=\"M 314.867045 279 \r\nL 325.0125 279 \r\nL 325.0125 278.586718 \r\nL 314.867045 278.586718 \r\nz\r\n\" style=\"fill:#e24a33;\"/>\r\n   </g>\r\n   <g id=\"patch_28\">\r\n    <path clip-path=\"url(#p434216628b)\" d=\"M 325.0125 279 \r\nL 335.157955 279 \r\nL 335.157955 278.759147 \r\nL 325.0125 278.759147 \r\nz\r\n\" style=\"fill:#e24a33;\"/>\r\n   </g>\r\n   <g id=\"patch_29\">\r\n    <path clip-path=\"url(#p434216628b)\" d=\"M 335.157955 279 \r\nL 345.303409 279 \r\nL 345.303409 278.849467 \r\nL 335.157955 278.849467 \r\nz\r\n\" style=\"fill:#e24a33;\"/>\r\n   </g>\r\n   <g id=\"patch_30\">\r\n    <path clip-path=\"url(#p434216628b)\" d=\"M 345.303409 279 \r\nL 355.448864 279 \r\nL 355.448864 278.895995 \r\nL 345.303409 278.895995 \r\nz\r\n\" style=\"fill:#e24a33;\"/>\r\n   </g>\r\n   <g id=\"patch_31\">\r\n    <path clip-path=\"url(#p434216628b)\" d=\"M 355.448864 279 \r\nL 365.594318 279 \r\nL 365.594318 278.920628 \r\nL 355.448864 278.920628 \r\nz\r\n\" style=\"fill:#e24a33;\"/>\r\n   </g>\r\n   <g id=\"patch_32\">\r\n    <path clip-path=\"url(#p434216628b)\" d=\"M 365.594318 279 \r\nL 375.739773 279 \r\nL 375.739773 278.915154 \r\nL 365.594318 278.915154 \r\nz\r\n\" style=\"fill:#e24a33;\"/>\r\n   </g>\r\n   <g id=\"patch_33\">\r\n    <path clip-path=\"url(#p434216628b)\" d=\"M 375.739773 279 \r\nL 385.885227 279 \r\nL 385.885227 278.958945 \r\nL 375.739773 278.958945 \r\nz\r\n\" style=\"fill:#e24a33;\"/>\r\n   </g>\r\n   <g id=\"patch_34\">\r\n    <path clip-path=\"url(#p434216628b)\" d=\"M 385.885227 279 \r\nL 396.030682 279 \r\nL 396.030682 278.928839 \r\nL 385.885227 278.928839 \r\nz\r\n\" style=\"fill:#e24a33;\"/>\r\n   </g>\r\n   <g id=\"patch_35\">\r\n    <path clip-path=\"url(#p434216628b)\" d=\"M 396.030682 279 \r\nL 406.176136 279 \r\nL 406.176136 278.975367 \r\nL 396.030682 278.975367 \r\nz\r\n\" style=\"fill:#e24a33;\"/>\r\n   </g>\r\n   <g id=\"patch_36\">\r\n    <path clip-path=\"url(#p434216628b)\" d=\"M 406.176136 279 \r\nL 416.321591 279 \r\nL 416.321591 278.964419 \r\nL 406.176136 278.964419 \r\nz\r\n\" style=\"fill:#e24a33;\"/>\r\n   </g>\r\n   <g id=\"patch_37\">\r\n    <path clip-path=\"url(#p434216628b)\" d=\"M 416.321591 279 \r\nL 426.467045 279 \r\nL 426.467045 278.950735 \r\nL 416.321591 278.950735 \r\nz\r\n\" style=\"fill:#e24a33;\"/>\r\n   </g>\r\n   <g id=\"patch_38\">\r\n    <path clip-path=\"url(#p434216628b)\" d=\"M 426.467045 279 \r\nL 436.6125 279 \r\nL 436.6125 278.967156 \r\nL 426.467045 278.967156 \r\nz\r\n\" style=\"fill:#e24a33;\"/>\r\n   </g>\r\n   <g id=\"patch_39\">\r\n    <path clip-path=\"url(#p434216628b)\" d=\"M 436.6125 279 \r\nL 446.757955 279 \r\nL 446.757955 278.989052 \r\nL 436.6125 278.989052 \r\nz\r\n\" style=\"fill:#e24a33;\"/>\r\n   </g>\r\n   <g id=\"patch_40\">\r\n    <path clip-path=\"url(#p434216628b)\" d=\"M 446.757955 279 \r\nL 456.903409 279 \r\nL 456.903409 279 \r\nL 446.757955 279 \r\nz\r\n\" style=\"fill:#e24a33;\"/>\r\n   </g>\r\n   <g id=\"patch_41\">\r\n    <path clip-path=\"url(#p434216628b)\" d=\"M 456.903409 279 \r\nL 467.048864 279 \r\nL 467.048864 278.958945 \r\nL 456.903409 278.958945 \r\nz\r\n\" style=\"fill:#e24a33;\"/>\r\n   </g>\r\n   <g id=\"patch_42\">\r\n    <path clip-path=\"url(#p434216628b)\" d=\"M 467.048864 279 \r\nL 477.194318 279 \r\nL 477.194318 278.967156 \r\nL 467.048864 278.967156 \r\nz\r\n\" style=\"fill:#e24a33;\"/>\r\n   </g>\r\n   <g id=\"patch_43\">\r\n    <path clip-path=\"url(#p434216628b)\" d=\"M 477.194318 279 \r\nL 487.339773 279 \r\nL 487.339773 278.978104 \r\nL 477.194318 278.978104 \r\nz\r\n\" style=\"fill:#e24a33;\"/>\r\n   </g>\r\n   <g id=\"patch_44\">\r\n    <path clip-path=\"url(#p434216628b)\" d=\"M 487.339773 279 \r\nL 497.485227 279 \r\nL 497.485227 278.953472 \r\nL 487.339773 278.953472 \r\nz\r\n\" style=\"fill:#e24a33;\"/>\r\n   </g>\r\n   <g id=\"patch_45\">\r\n    <path clip-path=\"url(#p434216628b)\" d=\"M 497.485227 279 \r\nL 507.630682 279 \r\nL 507.630682 278.989052 \r\nL 497.485227 278.989052 \r\nz\r\n\" style=\"fill:#e24a33;\"/>\r\n   </g>\r\n   <g id=\"patch_46\">\r\n    <path clip-path=\"url(#p434216628b)\" d=\"M 507.630682 279 \r\nL 517.776136 279 \r\nL 517.776136 278.989052 \r\nL 507.630682 278.989052 \r\nz\r\n\" style=\"fill:#e24a33;\"/>\r\n   </g>\r\n   <g id=\"patch_47\">\r\n    <path clip-path=\"url(#p434216628b)\" d=\"M 517.776136 279 \r\nL 527.921591 279 \r\nL 527.921591 279 \r\nL 517.776136 279 \r\nz\r\n\" style=\"fill:#e24a33;\"/>\r\n   </g>\r\n   <g id=\"patch_48\">\r\n    <path clip-path=\"url(#p434216628b)\" d=\"M 527.921591 279 \r\nL 538.067045 279 \r\nL 538.067045 278.986315 \r\nL 527.921591 278.986315 \r\nz\r\n\" style=\"fill:#e24a33;\"/>\r\n   </g>\r\n   <g id=\"patch_49\">\r\n    <path clip-path=\"url(#p434216628b)\" d=\"M 538.067045 279 \r\nL 548.2125 279 \r\nL 548.2125 278.997263 \r\nL 538.067045 278.997263 \r\nz\r\n\" style=\"fill:#e24a33;\"/>\r\n   </g>\r\n   <g id=\"patch_50\">\r\n    <path clip-path=\"url(#p434216628b)\" d=\"M 548.2125 279 \r\nL 558.357955 279 \r\nL 558.357955 278.997263 \r\nL 548.2125 278.997263 \r\nz\r\n\" style=\"fill:#e24a33;\"/>\r\n   </g>\r\n   <g id=\"patch_51\">\r\n    <path clip-path=\"url(#p434216628b)\" d=\"M 558.357955 279 \r\nL 568.503409 279 \r\nL 568.503409 279 \r\nL 558.357955 279 \r\nz\r\n\" style=\"fill:#e24a33;\"/>\r\n   </g>\r\n   <g id=\"patch_52\">\r\n    <path clip-path=\"url(#p434216628b)\" d=\"M 568.503409 279 \r\nL 578.648864 279 \r\nL 578.648864 278.986315 \r\nL 568.503409 278.986315 \r\nz\r\n\" style=\"fill:#e24a33;\"/>\r\n   </g>\r\n   <g id=\"patch_53\">\r\n    <path d=\"M 46.0125 279 \r\nL 46.0125 7.2 \r\n\" style=\"fill:none;stroke:#ffffff;stroke-linecap:square;stroke-linejoin:miter;\"/>\r\n   </g>\r\n   <g id=\"patch_54\">\r\n    <path d=\"M 604.0125 279 \r\nL 604.0125 7.2 \r\n\" style=\"fill:none;stroke:#ffffff;stroke-linecap:square;stroke-linejoin:miter;\"/>\r\n   </g>\r\n   <g id=\"patch_55\">\r\n    <path d=\"M 46.0125 279 \r\nL 604.0125 279 \r\n\" style=\"fill:none;stroke:#ffffff;stroke-linecap:square;stroke-linejoin:miter;\"/>\r\n   </g>\r\n   <g id=\"patch_56\">\r\n    <path d=\"M 46.0125 7.2 \r\nL 604.0125 7.2 \r\n\" style=\"fill:none;stroke:#ffffff;stroke-linecap:square;stroke-linejoin:miter;\"/>\r\n   </g>\r\n  </g>\r\n </g>\r\n <defs>\r\n  <clipPath id=\"p434216628b\">\r\n   <rect height=\"271.8\" width=\"558\" x=\"46.0125\" y=\"7.2\"/>\r\n  </clipPath>\r\n </defs>\r\n</svg>\r\n",
      "image/png": "[encoded data removed]"
     },
     "metadata": {}
    }
   ],
   "source": [
    "plt.figure(figsize=(10,5))\n",
    "plt.hist(np.sqrt(df['Annual_Premium']) ,  range = (0,700) , bins = 50)\n",
    "plt.show()"
   ]
  },
  {
   "cell_type": "code",
   "execution_count": 17,
   "metadata": {},
   "outputs": [
    {
     "output_type": "display_data",
     "data": {
      "text/plain": "<Figure size 720x360 with 1 Axes>",
      "image/svg+xml": "<?xml version=\"1.0\" encoding=\"utf-8\" standalone=\"no\"?>\r\n<!DOCTYPE svg PUBLIC \"-//W3C//DTD SVG 1.1//EN\"\r\n  \"http://www.w3.org/Graphics/SVG/1.1/DTD/svg11.dtd\">\r\n<!-- Created with matplotlib (https://matplotlib.org/) -->\r\n<svg height=\"302.878125pt\" version=\"1.1\" viewBox=\"0 0 617.575 302.878125\" width=\"617.575pt\" xmlns=\"http://www.w3.org/2000/svg\" xmlns:xlink=\"http://www.w3.org/1999/xlink\">\r\n <defs>\r\n  <style type=\"text/css\">\r\n*{stroke-linecap:butt;stroke-linejoin:round;}\r\n  </style>\r\n </defs>\r\n <g id=\"figure_1\">\r\n  <g id=\"patch_1\">\r\n   <path d=\"M 0 302.878125 \r\nL 617.575 302.878125 \r\nL 617.575 0 \r\nL 0 0 \r\nz\r\n\" style=\"fill:#ffffff;\"/>\r\n  </g>\r\n  <g id=\"axes_1\">\r\n   <g id=\"patch_2\">\r\n    <path d=\"M 52.375 279 \r\nL 610.375 279 \r\nL 610.375 7.2 \r\nL 52.375 7.2 \r\nz\r\n\" style=\"fill:#e5e5e5;\"/>\r\n   </g>\r\n   <g id=\"matplotlib.axis_1\">\r\n    <g id=\"xtick_1\">\r\n     <g id=\"line2d_1\">\r\n      <path clip-path=\"url(#pfdc4470809)\" d=\"M 77.738636 279 \r\nL 77.738636 7.2 \r\n\" style=\"fill:none;stroke:#ffffff;stroke-linecap:square;stroke-width:0.8;\"/>\r\n     </g>\r\n     <g id=\"line2d_2\">\r\n      <defs>\r\n       <path d=\"M 0 0 \r\nL 0 3.5 \r\n\" id=\"m32c2fbbe2d\" style=\"stroke:#555555;stroke-width:0.8;\"/>\r\n      </defs>\r\n      <g>\r\n       <use style=\"fill:#555555;stroke:#555555;stroke-width:0.8;\" x=\"77.738636\" xlink:href=\"#m32c2fbbe2d\" y=\"279\"/>\r\n      </g>\r\n     </g>\r\n     <g id=\"text_1\">\r\n      <!-- 0 -->\r\n      <defs>\r\n       <path d=\"M 31.78125 66.40625 \r\nQ 24.171875 66.40625 20.328125 58.90625 \r\nQ 16.5 51.421875 16.5 36.375 \r\nQ 16.5 21.390625 20.328125 13.890625 \r\nQ 24.171875 6.390625 31.78125 6.390625 \r\nQ 39.453125 6.390625 43.28125 13.890625 \r\nQ 47.125 21.390625 47.125 36.375 \r\nQ 47.125 51.421875 43.28125 58.90625 \r\nQ 39.453125 66.40625 31.78125 66.40625 \r\nz\r\nM 31.78125 74.21875 \r\nQ 44.046875 74.21875 50.515625 64.515625 \r\nQ 56.984375 54.828125 56.984375 36.375 \r\nQ 56.984375 17.96875 50.515625 8.265625 \r\nQ 44.046875 -1.421875 31.78125 -1.421875 \r\nQ 19.53125 -1.421875 13.0625 8.265625 \r\nQ 6.59375 17.96875 6.59375 36.375 \r\nQ 6.59375 54.828125 13.0625 64.515625 \r\nQ 19.53125 74.21875 31.78125 74.21875 \r\nz\r\n\" id=\"DejaVuSans-48\"/>\r\n      </defs>\r\n      <g style=\"fill:#555555;\" transform=\"translate(74.557386 293.598437)scale(0.1 -0.1)\">\r\n       <use xlink:href=\"#DejaVuSans-48\"/>\r\n      </g>\r\n     </g>\r\n    </g>\r\n    <g id=\"xtick_2\">\r\n     <g id=\"line2d_3\">\r\n      <path clip-path=\"url(#pfdc4470809)\" d=\"M 150.206169 279 \r\nL 150.206169 7.2 \r\n\" style=\"fill:none;stroke:#ffffff;stroke-linecap:square;stroke-width:0.8;\"/>\r\n     </g>\r\n     <g id=\"line2d_4\">\r\n      <g>\r\n       <use style=\"fill:#555555;stroke:#555555;stroke-width:0.8;\" x=\"150.206169\" xlink:href=\"#m32c2fbbe2d\" y=\"279\"/>\r\n      </g>\r\n     </g>\r\n     <g id=\"text_2\">\r\n      <!-- 100 -->\r\n      <defs>\r\n       <path d=\"M 12.40625 8.296875 \r\nL 28.515625 8.296875 \r\nL 28.515625 63.921875 \r\nL 10.984375 60.40625 \r\nL 10.984375 69.390625 \r\nL 28.421875 72.90625 \r\nL 38.28125 72.90625 \r\nL 38.28125 8.296875 \r\nL 54.390625 8.296875 \r\nL 54.390625 0 \r\nL 12.40625 0 \r\nz\r\n\" id=\"DejaVuSans-49\"/>\r\n      </defs>\r\n      <g style=\"fill:#555555;\" transform=\"translate(140.662419 293.598437)scale(0.1 -0.1)\">\r\n       <use xlink:href=\"#DejaVuSans-49\"/>\r\n       <use x=\"63.623047\" xlink:href=\"#DejaVuSans-48\"/>\r\n       <use x=\"127.246094\" xlink:href=\"#DejaVuSans-48\"/>\r\n      </g>\r\n     </g>\r\n    </g>\r\n    <g id=\"xtick_3\">\r\n     <g id=\"line2d_5\">\r\n      <path clip-path=\"url(#pfdc4470809)\" d=\"M 222.673701 279 \r\nL 222.673701 7.2 \r\n\" style=\"fill:none;stroke:#ffffff;stroke-linecap:square;stroke-width:0.8;\"/>\r\n     </g>\r\n     <g id=\"line2d_6\">\r\n      <g>\r\n       <use style=\"fill:#555555;stroke:#555555;stroke-width:0.8;\" x=\"222.673701\" xlink:href=\"#m32c2fbbe2d\" y=\"279\"/>\r\n      </g>\r\n     </g>\r\n     <g id=\"text_3\">\r\n      <!-- 200 -->\r\n      <defs>\r\n       <path d=\"M 19.1875 8.296875 \r\nL 53.609375 8.296875 \r\nL 53.609375 0 \r\nL 7.328125 0 \r\nL 7.328125 8.296875 \r\nQ 12.9375 14.109375 22.625 23.890625 \r\nQ 32.328125 33.6875 34.8125 36.53125 \r\nQ 39.546875 41.84375 41.421875 45.53125 \r\nQ 43.3125 49.21875 43.3125 52.78125 \r\nQ 43.3125 58.59375 39.234375 62.25 \r\nQ 35.15625 65.921875 28.609375 65.921875 \r\nQ 23.96875 65.921875 18.8125 64.3125 \r\nQ 13.671875 62.703125 7.8125 59.421875 \r\nL 7.8125 69.390625 \r\nQ 13.765625 71.78125 18.9375 73 \r\nQ 24.125 74.21875 28.421875 74.21875 \r\nQ 39.75 74.21875 46.484375 68.546875 \r\nQ 53.21875 62.890625 53.21875 53.421875 \r\nQ 53.21875 48.921875 51.53125 44.890625 \r\nQ 49.859375 40.875 45.40625 35.40625 \r\nQ 44.1875 33.984375 37.640625 27.21875 \r\nQ 31.109375 20.453125 19.1875 8.296875 \r\nz\r\n\" id=\"DejaVuSans-50\"/>\r\n      </defs>\r\n      <g style=\"fill:#555555;\" transform=\"translate(213.129951 293.598437)scale(0.1 -0.1)\">\r\n       <use xlink:href=\"#DejaVuSans-50\"/>\r\n       <use x=\"63.623047\" xlink:href=\"#DejaVuSans-48\"/>\r\n       <use x=\"127.246094\" xlink:href=\"#DejaVuSans-48\"/>\r\n      </g>\r\n     </g>\r\n    </g>\r\n    <g id=\"xtick_4\">\r\n     <g id=\"line2d_7\">\r\n      <path clip-path=\"url(#pfdc4470809)\" d=\"M 295.141234 279 \r\nL 295.141234 7.2 \r\n\" style=\"fill:none;stroke:#ffffff;stroke-linecap:square;stroke-width:0.8;\"/>\r\n     </g>\r\n     <g id=\"line2d_8\">\r\n      <g>\r\n       <use style=\"fill:#555555;stroke:#555555;stroke-width:0.8;\" x=\"295.141234\" xlink:href=\"#m32c2fbbe2d\" y=\"279\"/>\r\n      </g>\r\n     </g>\r\n     <g id=\"text_4\">\r\n      <!-- 300 -->\r\n      <defs>\r\n       <path d=\"M 40.578125 39.3125 \r\nQ 47.65625 37.796875 51.625 33 \r\nQ 55.609375 28.21875 55.609375 21.1875 \r\nQ 55.609375 10.40625 48.1875 4.484375 \r\nQ 40.765625 -1.421875 27.09375 -1.421875 \r\nQ 22.515625 -1.421875 17.65625 -0.515625 \r\nQ 12.796875 0.390625 7.625 2.203125 \r\nL 7.625 11.71875 \r\nQ 11.71875 9.328125 16.59375 8.109375 \r\nQ 21.484375 6.890625 26.8125 6.890625 \r\nQ 36.078125 6.890625 40.9375 10.546875 \r\nQ 45.796875 14.203125 45.796875 21.1875 \r\nQ 45.796875 27.640625 41.28125 31.265625 \r\nQ 36.765625 34.90625 28.71875 34.90625 \r\nL 20.21875 34.90625 \r\nL 20.21875 43.015625 \r\nL 29.109375 43.015625 \r\nQ 36.375 43.015625 40.234375 45.921875 \r\nQ 44.09375 48.828125 44.09375 54.296875 \r\nQ 44.09375 59.90625 40.109375 62.90625 \r\nQ 36.140625 65.921875 28.71875 65.921875 \r\nQ 24.65625 65.921875 20.015625 65.03125 \r\nQ 15.375 64.15625 9.8125 62.3125 \r\nL 9.8125 71.09375 \r\nQ 15.4375 72.65625 20.34375 73.4375 \r\nQ 25.25 74.21875 29.59375 74.21875 \r\nQ 40.828125 74.21875 47.359375 69.109375 \r\nQ 53.90625 64.015625 53.90625 55.328125 \r\nQ 53.90625 49.265625 50.4375 45.09375 \r\nQ 46.96875 40.921875 40.578125 39.3125 \r\nz\r\n\" id=\"DejaVuSans-51\"/>\r\n      </defs>\r\n      <g style=\"fill:#555555;\" transform=\"translate(285.597484 293.598437)scale(0.1 -0.1)\">\r\n       <use xlink:href=\"#DejaVuSans-51\"/>\r\n       <use x=\"63.623047\" xlink:href=\"#DejaVuSans-48\"/>\r\n       <use x=\"127.246094\" xlink:href=\"#DejaVuSans-48\"/>\r\n      </g>\r\n     </g>\r\n    </g>\r\n    <g id=\"xtick_5\">\r\n     <g id=\"line2d_9\">\r\n      <path clip-path=\"url(#pfdc4470809)\" d=\"M 367.608766 279 \r\nL 367.608766 7.2 \r\n\" style=\"fill:none;stroke:#ffffff;stroke-linecap:square;stroke-width:0.8;\"/>\r\n     </g>\r\n     <g id=\"line2d_10\">\r\n      <g>\r\n       <use style=\"fill:#555555;stroke:#555555;stroke-width:0.8;\" x=\"367.608766\" xlink:href=\"#m32c2fbbe2d\" y=\"279\"/>\r\n      </g>\r\n     </g>\r\n     <g id=\"text_5\">\r\n      <!-- 400 -->\r\n      <defs>\r\n       <path d=\"M 37.796875 64.3125 \r\nL 12.890625 25.390625 \r\nL 37.796875 25.390625 \r\nz\r\nM 35.203125 72.90625 \r\nL 47.609375 72.90625 \r\nL 47.609375 25.390625 \r\nL 58.015625 25.390625 \r\nL 58.015625 17.1875 \r\nL 47.609375 17.1875 \r\nL 47.609375 0 \r\nL 37.796875 0 \r\nL 37.796875 17.1875 \r\nL 4.890625 17.1875 \r\nL 4.890625 26.703125 \r\nz\r\n\" id=\"DejaVuSans-52\"/>\r\n      </defs>\r\n      <g style=\"fill:#555555;\" transform=\"translate(358.065016 293.598437)scale(0.1 -0.1)\">\r\n       <use xlink:href=\"#DejaVuSans-52\"/>\r\n       <use x=\"63.623047\" xlink:href=\"#DejaVuSans-48\"/>\r\n       <use x=\"127.246094\" xlink:href=\"#DejaVuSans-48\"/>\r\n      </g>\r\n     </g>\r\n    </g>\r\n    <g id=\"xtick_6\">\r\n     <g id=\"line2d_11\">\r\n      <path clip-path=\"url(#pfdc4470809)\" d=\"M 440.076299 279 \r\nL 440.076299 7.2 \r\n\" style=\"fill:none;stroke:#ffffff;stroke-linecap:square;stroke-width:0.8;\"/>\r\n     </g>\r\n     <g id=\"line2d_12\">\r\n      <g>\r\n       <use style=\"fill:#555555;stroke:#555555;stroke-width:0.8;\" x=\"440.076299\" xlink:href=\"#m32c2fbbe2d\" y=\"279\"/>\r\n      </g>\r\n     </g>\r\n     <g id=\"text_6\">\r\n      <!-- 500 -->\r\n      <defs>\r\n       <path d=\"M 10.796875 72.90625 \r\nL 49.515625 72.90625 \r\nL 49.515625 64.59375 \r\nL 19.828125 64.59375 \r\nL 19.828125 46.734375 \r\nQ 21.96875 47.46875 24.109375 47.828125 \r\nQ 26.265625 48.1875 28.421875 48.1875 \r\nQ 40.625 48.1875 47.75 41.5 \r\nQ 54.890625 34.8125 54.890625 23.390625 \r\nQ 54.890625 11.625 47.5625 5.09375 \r\nQ 40.234375 -1.421875 26.90625 -1.421875 \r\nQ 22.3125 -1.421875 17.546875 -0.640625 \r\nQ 12.796875 0.140625 7.71875 1.703125 \r\nL 7.71875 11.625 \r\nQ 12.109375 9.234375 16.796875 8.0625 \r\nQ 21.484375 6.890625 26.703125 6.890625 \r\nQ 35.15625 6.890625 40.078125 11.328125 \r\nQ 45.015625 15.765625 45.015625 23.390625 \r\nQ 45.015625 31 40.078125 35.4375 \r\nQ 35.15625 39.890625 26.703125 39.890625 \r\nQ 22.75 39.890625 18.8125 39.015625 \r\nQ 14.890625 38.140625 10.796875 36.28125 \r\nz\r\n\" id=\"DejaVuSans-53\"/>\r\n      </defs>\r\n      <g style=\"fill:#555555;\" transform=\"translate(430.532549 293.598437)scale(0.1 -0.1)\">\r\n       <use xlink:href=\"#DejaVuSans-53\"/>\r\n       <use x=\"63.623047\" xlink:href=\"#DejaVuSans-48\"/>\r\n       <use x=\"127.246094\" xlink:href=\"#DejaVuSans-48\"/>\r\n      </g>\r\n     </g>\r\n    </g>\r\n    <g id=\"xtick_7\">\r\n     <g id=\"line2d_13\">\r\n      <path clip-path=\"url(#pfdc4470809)\" d=\"M 512.543831 279 \r\nL 512.543831 7.2 \r\n\" style=\"fill:none;stroke:#ffffff;stroke-linecap:square;stroke-width:0.8;\"/>\r\n     </g>\r\n     <g id=\"line2d_14\">\r\n      <g>\r\n       <use style=\"fill:#555555;stroke:#555555;stroke-width:0.8;\" x=\"512.543831\" xlink:href=\"#m32c2fbbe2d\" y=\"279\"/>\r\n      </g>\r\n     </g>\r\n     <g id=\"text_7\">\r\n      <!-- 600 -->\r\n      <defs>\r\n       <path d=\"M 33.015625 40.375 \r\nQ 26.375 40.375 22.484375 35.828125 \r\nQ 18.609375 31.296875 18.609375 23.390625 \r\nQ 18.609375 15.53125 22.484375 10.953125 \r\nQ 26.375 6.390625 33.015625 6.390625 \r\nQ 39.65625 6.390625 43.53125 10.953125 \r\nQ 47.40625 15.53125 47.40625 23.390625 \r\nQ 47.40625 31.296875 43.53125 35.828125 \r\nQ 39.65625 40.375 33.015625 40.375 \r\nz\r\nM 52.59375 71.296875 \r\nL 52.59375 62.3125 \r\nQ 48.875 64.0625 45.09375 64.984375 \r\nQ 41.3125 65.921875 37.59375 65.921875 \r\nQ 27.828125 65.921875 22.671875 59.328125 \r\nQ 17.53125 52.734375 16.796875 39.40625 \r\nQ 19.671875 43.65625 24.015625 45.921875 \r\nQ 28.375 48.1875 33.59375 48.1875 \r\nQ 44.578125 48.1875 50.953125 41.515625 \r\nQ 57.328125 34.859375 57.328125 23.390625 \r\nQ 57.328125 12.15625 50.6875 5.359375 \r\nQ 44.046875 -1.421875 33.015625 -1.421875 \r\nQ 20.359375 -1.421875 13.671875 8.265625 \r\nQ 6.984375 17.96875 6.984375 36.375 \r\nQ 6.984375 53.65625 15.1875 63.9375 \r\nQ 23.390625 74.21875 37.203125 74.21875 \r\nQ 40.921875 74.21875 44.703125 73.484375 \r\nQ 48.484375 72.75 52.59375 71.296875 \r\nz\r\n\" id=\"DejaVuSans-54\"/>\r\n      </defs>\r\n      <g style=\"fill:#555555;\" transform=\"translate(503.000081 293.598437)scale(0.1 -0.1)\">\r\n       <use xlink:href=\"#DejaVuSans-54\"/>\r\n       <use x=\"63.623047\" xlink:href=\"#DejaVuSans-48\"/>\r\n       <use x=\"127.246094\" xlink:href=\"#DejaVuSans-48\"/>\r\n      </g>\r\n     </g>\r\n    </g>\r\n    <g id=\"xtick_8\">\r\n     <g id=\"line2d_15\">\r\n      <path clip-path=\"url(#pfdc4470809)\" d=\"M 585.011364 279 \r\nL 585.011364 7.2 \r\n\" style=\"fill:none;stroke:#ffffff;stroke-linecap:square;stroke-width:0.8;\"/>\r\n     </g>\r\n     <g id=\"line2d_16\">\r\n      <g>\r\n       <use style=\"fill:#555555;stroke:#555555;stroke-width:0.8;\" x=\"585.011364\" xlink:href=\"#m32c2fbbe2d\" y=\"279\"/>\r\n      </g>\r\n     </g>\r\n     <g id=\"text_8\">\r\n      <!-- 700 -->\r\n      <defs>\r\n       <path d=\"M 8.203125 72.90625 \r\nL 55.078125 72.90625 \r\nL 55.078125 68.703125 \r\nL 28.609375 0 \r\nL 18.3125 0 \r\nL 43.21875 64.59375 \r\nL 8.203125 64.59375 \r\nz\r\n\" id=\"DejaVuSans-55\"/>\r\n      </defs>\r\n      <g style=\"fill:#555555;\" transform=\"translate(575.467614 293.598437)scale(0.1 -0.1)\">\r\n       <use xlink:href=\"#DejaVuSans-55\"/>\r\n       <use x=\"63.623047\" xlink:href=\"#DejaVuSans-48\"/>\r\n       <use x=\"127.246094\" xlink:href=\"#DejaVuSans-48\"/>\r\n      </g>\r\n     </g>\r\n    </g>\r\n   </g>\r\n   <g id=\"matplotlib.axis_2\">\r\n    <g id=\"ytick_1\">\r\n     <g id=\"line2d_17\">\r\n      <path clip-path=\"url(#pfdc4470809)\" d=\"M 52.375 279 \r\nL 610.375 279 \r\n\" style=\"fill:none;stroke:#ffffff;stroke-linecap:square;stroke-width:0.8;\"/>\r\n     </g>\r\n     <g id=\"line2d_18\">\r\n      <defs>\r\n       <path d=\"M 0 0 \r\nL -3.5 0 \r\n\" id=\"md6ea3fa6f6\" style=\"stroke:#555555;stroke-width:0.8;\"/>\r\n      </defs>\r\n      <g>\r\n       <use style=\"fill:#555555;stroke:#555555;stroke-width:0.8;\" x=\"52.375\" xlink:href=\"#md6ea3fa6f6\" y=\"279\"/>\r\n      </g>\r\n     </g>\r\n     <g id=\"text_9\">\r\n      <!-- 0 -->\r\n      <g style=\"fill:#555555;\" transform=\"translate(39.0125 282.799219)scale(0.1 -0.1)\">\r\n       <use xlink:href=\"#DejaVuSans-48\"/>\r\n      </g>\r\n     </g>\r\n    </g>\r\n    <g id=\"ytick_2\">\r\n     <g id=\"line2d_19\">\r\n      <path clip-path=\"url(#pfdc4470809)\" d=\"M 52.375 228.05851 \r\nL 610.375 228.05851 \r\n\" style=\"fill:none;stroke:#ffffff;stroke-linecap:square;stroke-width:0.8;\"/>\r\n     </g>\r\n     <g id=\"line2d_20\">\r\n      <g>\r\n       <use style=\"fill:#555555;stroke:#555555;stroke-width:0.8;\" x=\"52.375\" xlink:href=\"#md6ea3fa6f6\" y=\"228.05851\"/>\r\n      </g>\r\n     </g>\r\n     <g id=\"text_10\">\r\n      <!-- 100000 -->\r\n      <g style=\"fill:#555555;\" transform=\"translate(7.2 231.857729)scale(0.1 -0.1)\">\r\n       <use xlink:href=\"#DejaVuSans-49\"/>\r\n       <use x=\"63.623047\" xlink:href=\"#DejaVuSans-48\"/>\r\n       <use x=\"127.246094\" xlink:href=\"#DejaVuSans-48\"/>\r\n       <use x=\"190.869141\" xlink:href=\"#DejaVuSans-48\"/>\r\n       <use x=\"254.492188\" xlink:href=\"#DejaVuSans-48\"/>\r\n       <use x=\"318.115234\" xlink:href=\"#DejaVuSans-48\"/>\r\n      </g>\r\n     </g>\r\n    </g>\r\n    <g id=\"ytick_3\">\r\n     <g id=\"line2d_21\">\r\n      <path clip-path=\"url(#pfdc4470809)\" d=\"M 52.375 177.11702 \r\nL 610.375 177.11702 \r\n\" style=\"fill:none;stroke:#ffffff;stroke-linecap:square;stroke-width:0.8;\"/>\r\n     </g>\r\n     <g id=\"line2d_22\">\r\n      <g>\r\n       <use style=\"fill:#555555;stroke:#555555;stroke-width:0.8;\" x=\"52.375\" xlink:href=\"#md6ea3fa6f6\" y=\"177.11702\"/>\r\n      </g>\r\n     </g>\r\n     <g id=\"text_11\">\r\n      <!-- 200000 -->\r\n      <g style=\"fill:#555555;\" transform=\"translate(7.2 180.916239)scale(0.1 -0.1)\">\r\n       <use xlink:href=\"#DejaVuSans-50\"/>\r\n       <use x=\"63.623047\" xlink:href=\"#DejaVuSans-48\"/>\r\n       <use x=\"127.246094\" xlink:href=\"#DejaVuSans-48\"/>\r\n       <use x=\"190.869141\" xlink:href=\"#DejaVuSans-48\"/>\r\n       <use x=\"254.492188\" xlink:href=\"#DejaVuSans-48\"/>\r\n       <use x=\"318.115234\" xlink:href=\"#DejaVuSans-48\"/>\r\n      </g>\r\n     </g>\r\n    </g>\r\n    <g id=\"ytick_4\">\r\n     <g id=\"line2d_23\">\r\n      <path clip-path=\"url(#pfdc4470809)\" d=\"M 52.375 126.175531 \r\nL 610.375 126.175531 \r\n\" style=\"fill:none;stroke:#ffffff;stroke-linecap:square;stroke-width:0.8;\"/>\r\n     </g>\r\n     <g id=\"line2d_24\">\r\n      <g>\r\n       <use style=\"fill:#555555;stroke:#555555;stroke-width:0.8;\" x=\"52.375\" xlink:href=\"#md6ea3fa6f6\" y=\"126.175531\"/>\r\n      </g>\r\n     </g>\r\n     <g id=\"text_12\">\r\n      <!-- 300000 -->\r\n      <g style=\"fill:#555555;\" transform=\"translate(7.2 129.974749)scale(0.1 -0.1)\">\r\n       <use xlink:href=\"#DejaVuSans-51\"/>\r\n       <use x=\"63.623047\" xlink:href=\"#DejaVuSans-48\"/>\r\n       <use x=\"127.246094\" xlink:href=\"#DejaVuSans-48\"/>\r\n       <use x=\"190.869141\" xlink:href=\"#DejaVuSans-48\"/>\r\n       <use x=\"254.492188\" xlink:href=\"#DejaVuSans-48\"/>\r\n       <use x=\"318.115234\" xlink:href=\"#DejaVuSans-48\"/>\r\n      </g>\r\n     </g>\r\n    </g>\r\n    <g id=\"ytick_5\">\r\n     <g id=\"line2d_25\">\r\n      <path clip-path=\"url(#pfdc4470809)\" d=\"M 52.375 75.234041 \r\nL 610.375 75.234041 \r\n\" style=\"fill:none;stroke:#ffffff;stroke-linecap:square;stroke-width:0.8;\"/>\r\n     </g>\r\n     <g id=\"line2d_26\">\r\n      <g>\r\n       <use style=\"fill:#555555;stroke:#555555;stroke-width:0.8;\" x=\"52.375\" xlink:href=\"#md6ea3fa6f6\" y=\"75.234041\"/>\r\n      </g>\r\n     </g>\r\n     <g id=\"text_13\">\r\n      <!-- 400000 -->\r\n      <g style=\"fill:#555555;\" transform=\"translate(7.2 79.033259)scale(0.1 -0.1)\">\r\n       <use xlink:href=\"#DejaVuSans-52\"/>\r\n       <use x=\"63.623047\" xlink:href=\"#DejaVuSans-48\"/>\r\n       <use x=\"127.246094\" xlink:href=\"#DejaVuSans-48\"/>\r\n       <use x=\"190.869141\" xlink:href=\"#DejaVuSans-48\"/>\r\n       <use x=\"254.492188\" xlink:href=\"#DejaVuSans-48\"/>\r\n       <use x=\"318.115234\" xlink:href=\"#DejaVuSans-48\"/>\r\n      </g>\r\n     </g>\r\n    </g>\r\n    <g id=\"ytick_6\">\r\n     <g id=\"line2d_27\">\r\n      <path clip-path=\"url(#pfdc4470809)\" d=\"M 52.375 24.292551 \r\nL 610.375 24.292551 \r\n\" style=\"fill:none;stroke:#ffffff;stroke-linecap:square;stroke-width:0.8;\"/>\r\n     </g>\r\n     <g id=\"line2d_28\">\r\n      <g>\r\n       <use style=\"fill:#555555;stroke:#555555;stroke-width:0.8;\" x=\"52.375\" xlink:href=\"#md6ea3fa6f6\" y=\"24.292551\"/>\r\n      </g>\r\n     </g>\r\n     <g id=\"text_14\">\r\n      <!-- 500000 -->\r\n      <g style=\"fill:#555555;\" transform=\"translate(7.2 28.09177)scale(0.1 -0.1)\">\r\n       <use xlink:href=\"#DejaVuSans-53\"/>\r\n       <use x=\"63.623047\" xlink:href=\"#DejaVuSans-48\"/>\r\n       <use x=\"127.246094\" xlink:href=\"#DejaVuSans-48\"/>\r\n       <use x=\"190.869141\" xlink:href=\"#DejaVuSans-48\"/>\r\n       <use x=\"254.492188\" xlink:href=\"#DejaVuSans-48\"/>\r\n       <use x=\"318.115234\" xlink:href=\"#DejaVuSans-48\"/>\r\n      </g>\r\n     </g>\r\n    </g>\r\n   </g>\r\n   <g id=\"patch_3\">\r\n    <path clip-path=\"url(#pfdc4470809)\" d=\"M 77.738636 279 \r\nL 87.884091 279 \r\nL 87.884091 20.142857 \r\nL 77.738636 20.142857 \r\nz\r\n\" style=\"fill:#e24a33;\"/>\r\n   </g>\r\n   <g id=\"patch_4\">\r\n    <path clip-path=\"url(#pfdc4470809)\" d=\"M 87.884091 279 \r\nL 98.029545 279 \r\nL 98.029545 279 \r\nL 87.884091 279 \r\nz\r\n\" style=\"fill:#e24a33;\"/>\r\n   </g>\r\n   <g id=\"patch_5\">\r\n    <path clip-path=\"url(#pfdc4470809)\" d=\"M 98.029545 279 \r\nL 108.175 279 \r\nL 108.175 279 \r\nL 98.029545 279 \r\nz\r\n\" style=\"fill:#e24a33;\"/>\r\n   </g>\r\n   <g id=\"patch_6\">\r\n    <path clip-path=\"url(#pfdc4470809)\" d=\"M 108.175 279 \r\nL 118.320455 279 \r\nL 118.320455 279 \r\nL 108.175 279 \r\nz\r\n\" style=\"fill:#e24a33;\"/>\r\n   </g>\r\n   <g id=\"patch_7\">\r\n    <path clip-path=\"url(#pfdc4470809)\" d=\"M 118.320455 279 \r\nL 128.465909 279 \r\nL 128.465909 279 \r\nL 118.320455 279 \r\nz\r\n\" style=\"fill:#e24a33;\"/>\r\n   </g>\r\n   <g id=\"patch_8\">\r\n    <path clip-path=\"url(#pfdc4470809)\" d=\"M 128.465909 279 \r\nL 138.611364 279 \r\nL 138.611364 279 \r\nL 128.465909 279 \r\nz\r\n\" style=\"fill:#e24a33;\"/>\r\n   </g>\r\n   <g id=\"patch_9\">\r\n    <path clip-path=\"url(#pfdc4470809)\" d=\"M 138.611364 279 \r\nL 148.756818 279 \r\nL 148.756818 279 \r\nL 138.611364 279 \r\nz\r\n\" style=\"fill:#e24a33;\"/>\r\n   </g>\r\n   <g id=\"patch_10\">\r\n    <path clip-path=\"url(#pfdc4470809)\" d=\"M 148.756818 279 \r\nL 158.902273 279 \r\nL 158.902273 279 \r\nL 148.756818 279 \r\nz\r\n\" style=\"fill:#e24a33;\"/>\r\n   </g>\r\n   <g id=\"patch_11\">\r\n    <path clip-path=\"url(#pfdc4470809)\" d=\"M 158.902273 279 \r\nL 169.047727 279 \r\nL 169.047727 279 \r\nL 158.902273 279 \r\nz\r\n\" style=\"fill:#e24a33;\"/>\r\n   </g>\r\n   <g id=\"patch_12\">\r\n    <path clip-path=\"url(#pfdc4470809)\" d=\"M 169.047727 279 \r\nL 179.193182 279 \r\nL 179.193182 279 \r\nL 169.047727 279 \r\nz\r\n\" style=\"fill:#e24a33;\"/>\r\n   </g>\r\n   <g id=\"patch_13\">\r\n    <path clip-path=\"url(#pfdc4470809)\" d=\"M 179.193182 279 \r\nL 189.338636 279 \r\nL 189.338636 279 \r\nL 179.193182 279 \r\nz\r\n\" style=\"fill:#e24a33;\"/>\r\n   </g>\r\n   <g id=\"patch_14\">\r\n    <path clip-path=\"url(#pfdc4470809)\" d=\"M 189.338636 279 \r\nL 199.484091 279 \r\nL 199.484091 279 \r\nL 189.338636 279 \r\nz\r\n\" style=\"fill:#e24a33;\"/>\r\n   </g>\r\n   <g id=\"patch_15\">\r\n    <path clip-path=\"url(#pfdc4470809)\" d=\"M 199.484091 279 \r\nL 209.629545 279 \r\nL 209.629545 279 \r\nL 199.484091 279 \r\nz\r\n\" style=\"fill:#e24a33;\"/>\r\n   </g>\r\n   <g id=\"patch_16\">\r\n    <path clip-path=\"url(#pfdc4470809)\" d=\"M 209.629545 279 \r\nL 219.775 279 \r\nL 219.775 279 \r\nL 209.629545 279 \r\nz\r\n\" style=\"fill:#e24a33;\"/>\r\n   </g>\r\n   <g id=\"patch_17\">\r\n    <path clip-path=\"url(#pfdc4470809)\" d=\"M 219.775 279 \r\nL 229.920455 279 \r\nL 229.920455 279 \r\nL 219.775 279 \r\nz\r\n\" style=\"fill:#e24a33;\"/>\r\n   </g>\r\n   <g id=\"patch_18\">\r\n    <path clip-path=\"url(#pfdc4470809)\" d=\"M 229.920455 279 \r\nL 240.065909 279 \r\nL 240.065909 279 \r\nL 229.920455 279 \r\nz\r\n\" style=\"fill:#e24a33;\"/>\r\n   </g>\r\n   <g id=\"patch_19\">\r\n    <path clip-path=\"url(#pfdc4470809)\" d=\"M 240.065909 279 \r\nL 250.211364 279 \r\nL 250.211364 279 \r\nL 240.065909 279 \r\nz\r\n\" style=\"fill:#e24a33;\"/>\r\n   </g>\r\n   <g id=\"patch_20\">\r\n    <path clip-path=\"url(#pfdc4470809)\" d=\"M 250.211364 279 \r\nL 260.356818 279 \r\nL 260.356818 279 \r\nL 250.211364 279 \r\nz\r\n\" style=\"fill:#e24a33;\"/>\r\n   </g>\r\n   <g id=\"patch_21\">\r\n    <path clip-path=\"url(#pfdc4470809)\" d=\"M 260.356818 279 \r\nL 270.502273 279 \r\nL 270.502273 279 \r\nL 260.356818 279 \r\nz\r\n\" style=\"fill:#e24a33;\"/>\r\n   </g>\r\n   <g id=\"patch_22\">\r\n    <path clip-path=\"url(#pfdc4470809)\" d=\"M 270.502273 279 \r\nL 280.647727 279 \r\nL 280.647727 279 \r\nL 270.502273 279 \r\nz\r\n\" style=\"fill:#e24a33;\"/>\r\n   </g>\r\n   <g id=\"patch_23\">\r\n    <path clip-path=\"url(#pfdc4470809)\" d=\"M 280.647727 279 \r\nL 290.793182 279 \r\nL 290.793182 279 \r\nL 280.647727 279 \r\nz\r\n\" style=\"fill:#e24a33;\"/>\r\n   </g>\r\n   <g id=\"patch_24\">\r\n    <path clip-path=\"url(#pfdc4470809)\" d=\"M 290.793182 279 \r\nL 300.938636 279 \r\nL 300.938636 279 \r\nL 290.793182 279 \r\nz\r\n\" style=\"fill:#e24a33;\"/>\r\n   </g>\r\n   <g id=\"patch_25\">\r\n    <path clip-path=\"url(#pfdc4470809)\" d=\"M 300.938636 279 \r\nL 311.084091 279 \r\nL 311.084091 279 \r\nL 300.938636 279 \r\nz\r\n\" style=\"fill:#e24a33;\"/>\r\n   </g>\r\n   <g id=\"patch_26\">\r\n    <path clip-path=\"url(#pfdc4470809)\" d=\"M 311.084091 279 \r\nL 321.229545 279 \r\nL 321.229545 279 \r\nL 311.084091 279 \r\nz\r\n\" style=\"fill:#e24a33;\"/>\r\n   </g>\r\n   <g id=\"patch_27\">\r\n    <path clip-path=\"url(#pfdc4470809)\" d=\"M 321.229545 279 \r\nL 331.375 279 \r\nL 331.375 279 \r\nL 321.229545 279 \r\nz\r\n\" style=\"fill:#e24a33;\"/>\r\n   </g>\r\n   <g id=\"patch_28\">\r\n    <path clip-path=\"url(#pfdc4470809)\" d=\"M 331.375 279 \r\nL 341.520455 279 \r\nL 341.520455 279 \r\nL 331.375 279 \r\nz\r\n\" style=\"fill:#e24a33;\"/>\r\n   </g>\r\n   <g id=\"patch_29\">\r\n    <path clip-path=\"url(#pfdc4470809)\" d=\"M 341.520455 279 \r\nL 351.665909 279 \r\nL 351.665909 279 \r\nL 341.520455 279 \r\nz\r\n\" style=\"fill:#e24a33;\"/>\r\n   </g>\r\n   <g id=\"patch_30\">\r\n    <path clip-path=\"url(#pfdc4470809)\" d=\"M 351.665909 279 \r\nL 361.811364 279 \r\nL 361.811364 279 \r\nL 351.665909 279 \r\nz\r\n\" style=\"fill:#e24a33;\"/>\r\n   </g>\r\n   <g id=\"patch_31\">\r\n    <path clip-path=\"url(#pfdc4470809)\" d=\"M 361.811364 279 \r\nL 371.956818 279 \r\nL 371.956818 279 \r\nL 361.811364 279 \r\nz\r\n\" style=\"fill:#e24a33;\"/>\r\n   </g>\r\n   <g id=\"patch_32\">\r\n    <path clip-path=\"url(#pfdc4470809)\" d=\"M 371.956818 279 \r\nL 382.102273 279 \r\nL 382.102273 279 \r\nL 371.956818 279 \r\nz\r\n\" style=\"fill:#e24a33;\"/>\r\n   </g>\r\n   <g id=\"patch_33\">\r\n    <path clip-path=\"url(#pfdc4470809)\" d=\"M 382.102273 279 \r\nL 392.247727 279 \r\nL 392.247727 279 \r\nL 382.102273 279 \r\nz\r\n\" style=\"fill:#e24a33;\"/>\r\n   </g>\r\n   <g id=\"patch_34\">\r\n    <path clip-path=\"url(#pfdc4470809)\" d=\"M 392.247727 279 \r\nL 402.393182 279 \r\nL 402.393182 279 \r\nL 392.247727 279 \r\nz\r\n\" style=\"fill:#e24a33;\"/>\r\n   </g>\r\n   <g id=\"patch_35\">\r\n    <path clip-path=\"url(#pfdc4470809)\" d=\"M 402.393182 279 \r\nL 412.538636 279 \r\nL 412.538636 279 \r\nL 402.393182 279 \r\nz\r\n\" style=\"fill:#e24a33;\"/>\r\n   </g>\r\n   <g id=\"patch_36\">\r\n    <path clip-path=\"url(#pfdc4470809)\" d=\"M 412.538636 279 \r\nL 422.684091 279 \r\nL 422.684091 279 \r\nL 412.538636 279 \r\nz\r\n\" style=\"fill:#e24a33;\"/>\r\n   </g>\r\n   <g id=\"patch_37\">\r\n    <path clip-path=\"url(#pfdc4470809)\" d=\"M 422.684091 279 \r\nL 432.829545 279 \r\nL 432.829545 279 \r\nL 422.684091 279 \r\nz\r\n\" style=\"fill:#e24a33;\"/>\r\n   </g>\r\n   <g id=\"patch_38\">\r\n    <path clip-path=\"url(#pfdc4470809)\" d=\"M 432.829545 279 \r\nL 442.975 279 \r\nL 442.975 279 \r\nL 432.829545 279 \r\nz\r\n\" style=\"fill:#e24a33;\"/>\r\n   </g>\r\n   <g id=\"patch_39\">\r\n    <path clip-path=\"url(#pfdc4470809)\" d=\"M 442.975 279 \r\nL 453.120455 279 \r\nL 453.120455 279 \r\nL 442.975 279 \r\nz\r\n\" style=\"fill:#e24a33;\"/>\r\n   </g>\r\n   <g id=\"patch_40\">\r\n    <path clip-path=\"url(#pfdc4470809)\" d=\"M 453.120455 279 \r\nL 463.265909 279 \r\nL 463.265909 279 \r\nL 453.120455 279 \r\nz\r\n\" style=\"fill:#e24a33;\"/>\r\n   </g>\r\n   <g id=\"patch_41\">\r\n    <path clip-path=\"url(#pfdc4470809)\" d=\"M 463.265909 279 \r\nL 473.411364 279 \r\nL 473.411364 279 \r\nL 463.265909 279 \r\nz\r\n\" style=\"fill:#e24a33;\"/>\r\n   </g>\r\n   <g id=\"patch_42\">\r\n    <path clip-path=\"url(#pfdc4470809)\" d=\"M 473.411364 279 \r\nL 483.556818 279 \r\nL 483.556818 279 \r\nL 473.411364 279 \r\nz\r\n\" style=\"fill:#e24a33;\"/>\r\n   </g>\r\n   <g id=\"patch_43\">\r\n    <path clip-path=\"url(#pfdc4470809)\" d=\"M 483.556818 279 \r\nL 493.702273 279 \r\nL 493.702273 279 \r\nL 483.556818 279 \r\nz\r\n\" style=\"fill:#e24a33;\"/>\r\n   </g>\r\n   <g id=\"patch_44\">\r\n    <path clip-path=\"url(#pfdc4470809)\" d=\"M 493.702273 279 \r\nL 503.847727 279 \r\nL 503.847727 279 \r\nL 493.702273 279 \r\nz\r\n\" style=\"fill:#e24a33;\"/>\r\n   </g>\r\n   <g id=\"patch_45\">\r\n    <path clip-path=\"url(#pfdc4470809)\" d=\"M 503.847727 279 \r\nL 513.993182 279 \r\nL 513.993182 279 \r\nL 503.847727 279 \r\nz\r\n\" style=\"fill:#e24a33;\"/>\r\n   </g>\r\n   <g id=\"patch_46\">\r\n    <path clip-path=\"url(#pfdc4470809)\" d=\"M 513.993182 279 \r\nL 524.138636 279 \r\nL 524.138636 279 \r\nL 513.993182 279 \r\nz\r\n\" style=\"fill:#e24a33;\"/>\r\n   </g>\r\n   <g id=\"patch_47\">\r\n    <path clip-path=\"url(#pfdc4470809)\" d=\"M 524.138636 279 \r\nL 534.284091 279 \r\nL 534.284091 279 \r\nL 524.138636 279 \r\nz\r\n\" style=\"fill:#e24a33;\"/>\r\n   </g>\r\n   <g id=\"patch_48\">\r\n    <path clip-path=\"url(#pfdc4470809)\" d=\"M 534.284091 279 \r\nL 544.429545 279 \r\nL 544.429545 279 \r\nL 534.284091 279 \r\nz\r\n\" style=\"fill:#e24a33;\"/>\r\n   </g>\r\n   <g id=\"patch_49\">\r\n    <path clip-path=\"url(#pfdc4470809)\" d=\"M 544.429545 279 \r\nL 554.575 279 \r\nL 554.575 279 \r\nL 544.429545 279 \r\nz\r\n\" style=\"fill:#e24a33;\"/>\r\n   </g>\r\n   <g id=\"patch_50\">\r\n    <path clip-path=\"url(#pfdc4470809)\" d=\"M 554.575 279 \r\nL 564.720455 279 \r\nL 564.720455 279 \r\nL 554.575 279 \r\nz\r\n\" style=\"fill:#e24a33;\"/>\r\n   </g>\r\n   <g id=\"patch_51\">\r\n    <path clip-path=\"url(#pfdc4470809)\" d=\"M 564.720455 279 \r\nL 574.865909 279 \r\nL 574.865909 279 \r\nL 564.720455 279 \r\nz\r\n\" style=\"fill:#e24a33;\"/>\r\n   </g>\r\n   <g id=\"patch_52\">\r\n    <path clip-path=\"url(#pfdc4470809)\" d=\"M 574.865909 279 \r\nL 585.011364 279 \r\nL 585.011364 279 \r\nL 574.865909 279 \r\nz\r\n\" style=\"fill:#e24a33;\"/>\r\n   </g>\r\n   <g id=\"patch_53\">\r\n    <path d=\"M 52.375 279 \r\nL 52.375 7.2 \r\n\" style=\"fill:none;stroke:#ffffff;stroke-linecap:square;stroke-linejoin:miter;\"/>\r\n   </g>\r\n   <g id=\"patch_54\">\r\n    <path d=\"M 610.375 279 \r\nL 610.375 7.2 \r\n\" style=\"fill:none;stroke:#ffffff;stroke-linecap:square;stroke-linejoin:miter;\"/>\r\n   </g>\r\n   <g id=\"patch_55\">\r\n    <path d=\"M 52.375 279 \r\nL 610.375 279 \r\n\" style=\"fill:none;stroke:#ffffff;stroke-linecap:square;stroke-linejoin:miter;\"/>\r\n   </g>\r\n   <g id=\"patch_56\">\r\n    <path d=\"M 52.375 7.2 \r\nL 610.375 7.2 \r\n\" style=\"fill:none;stroke:#ffffff;stroke-linecap:square;stroke-linejoin:miter;\"/>\r\n   </g>\r\n  </g>\r\n </g>\r\n <defs>\r\n  <clipPath id=\"pfdc4470809\">\r\n   <rect height=\"271.8\" width=\"558\" x=\"52.375\" y=\"7.2\"/>\r\n  </clipPath>\r\n </defs>\r\n</svg>\r\n",
      "image/png": "[encoded data removed]"
     },
     "metadata": {}
    }
   ],
   "source": [
    "plt.figure(figsize=(10,5))\n",
    "plt.hist(np.log(df['Annual_Premium']) ,  range = (0,700) , bins = 50)\n",
    "plt.show()"
   ]
  },
  {
   "source": [
    "The log transformation won't help our model since tree based models are scale invariant. However this should help if we had a linear network, so we will go with \"squared root\""
   ],
   "cell_type": "markdown",
   "metadata": {}
  },
  {
   "cell_type": "code",
   "execution_count": 16,
   "metadata": {},
   "outputs": [],
   "source": [
    "df['Annual_Premium_Normal'] = np.sqrt(df['Annual_Premium'].values)"
   ]
  },
  {
   "cell_type": "code",
   "execution_count": 17,
   "metadata": {},
   "outputs": [
    {
     "output_type": "execute_result",
     "data": {
      "text/plain": "   Gender  Age  Driving_License  Previously_Insured Vehicle_Age  \\\n0    Male   44                1                   0   > 2 Years   \n1    Male   76                1                   0    1-2 Year   \n2    Male   47                1                   0   > 2 Years   \n3    Male   21                1                   1    < 1 Year   \n4  Female   29                1                   1    < 1 Year   \n\n  Vehicle_Damage  Annual_Premium  Policy_Sales_Channel  Vintage  Response  \\\n0            Yes         40454.0                  26.0      217         1   \n1             No         33536.0                  26.0      183         0   \n2            Yes         38294.0                  26.0       27         1   \n3             No         28619.0                 152.0      203         0   \n4             No         27496.0                 152.0       39         0   \n\n   Gender_target  Vehicle_Age_target  Vehicle_Damage_target  Gender_count  \\\n0       0.138411            0.293746               0.237655        206089   \n1       0.138411            0.173755               0.005204        206089   \n2       0.138411            0.293746               0.237655        206089   \n3       0.138411            0.043705               0.005204        206089   \n4       0.103902            0.043705               0.005204        175020   \n\n   Vehicle_Age_count  Vehicle_Damage_count Damage_Uninsured  \\\n0              16007                192413            Yes_0   \n1             200316                188696             No_0   \n2              16007                192413            Yes_0   \n3             164786                188696             No_1   \n4             164786                188696             No_1   \n\n   Annual_Premium_Normal  \n0             201.131798  \n1             183.128370  \n2             195.688528  \n3             169.171511  \n4             165.819179  ",
      "text/html": "<div>\n<style scoped>\n    .dataframe tbody tr th:only-of-type {\n        vertical-align: middle;\n    }\n\n    .dataframe tbody tr th {\n        vertical-align: top;\n    }\n\n    .dataframe thead th {\n        text-align: right;\n    }\n</style>\n<table border=\"1\" class=\"dataframe\">\n  <thead>\n    <tr style=\"text-align: right;\">\n      <th></th>\n      <th>Gender</th>\n      <th>Age</th>\n      <th>Driving_License</th>\n      <th>Previously_Insured</th>\n      <th>Vehicle_Age</th>\n      <th>Vehicle_Damage</th>\n      <th>Annual_Premium</th>\n      <th>Policy_Sales_Channel</th>\n      <th>Vintage</th>\n      <th>Response</th>\n      <th>Gender_target</th>\n      <th>Vehicle_Age_target</th>\n      <th>Vehicle_Damage_target</th>\n      <th>Gender_count</th>\n      <th>Vehicle_Age_count</th>\n      <th>Vehicle_Damage_count</th>\n      <th>Damage_Uninsured</th>\n      <th>Annual_Premium_Normal</th>\n    </tr>\n  </thead>\n  <tbody>\n    <tr>\n      <th>0</th>\n      <td>Male</td>\n      <td>44</td>\n      <td>1</td>\n      <td>0</td>\n      <td>&gt; 2 Years</td>\n      <td>Yes</td>\n      <td>40454.0</td>\n      <td>26.0</td>\n      <td>217</td>\n      <td>1</td>\n      <td>0.138411</td>\n      <td>0.293746</td>\n      <td>0.237655</td>\n      <td>206089</td>\n      <td>16007</td>\n      <td>192413</td>\n      <td>Yes_0</td>\n      <td>201.131798</td>\n    </tr>\n    <tr>\n      <th>1</th>\n      <td>Male</td>\n      <td>76</td>\n      <td>1</td>\n      <td>0</td>\n      <td>1-2 Year</td>\n      <td>No</td>\n      <td>33536.0</td>\n      <td>26.0</td>\n      <td>183</td>\n      <td>0</td>\n      <td>0.138411</td>\n      <td>0.173755</td>\n      <td>0.005204</td>\n      <td>206089</td>\n      <td>200316</td>\n      <td>188696</td>\n      <td>No_0</td>\n      <td>183.128370</td>\n    </tr>\n    <tr>\n      <th>2</th>\n      <td>Male</td>\n      <td>47</td>\n      <td>1</td>\n      <td>0</td>\n      <td>&gt; 2 Years</td>\n      <td>Yes</td>\n      <td>38294.0</td>\n      <td>26.0</td>\n      <td>27</td>\n      <td>1</td>\n      <td>0.138411</td>\n      <td>0.293746</td>\n      <td>0.237655</td>\n      <td>206089</td>\n      <td>16007</td>\n      <td>192413</td>\n      <td>Yes_0</td>\n      <td>195.688528</td>\n    </tr>\n    <tr>\n      <th>3</th>\n      <td>Male</td>\n      <td>21</td>\n      <td>1</td>\n      <td>1</td>\n      <td>&lt; 1 Year</td>\n      <td>No</td>\n      <td>28619.0</td>\n      <td>152.0</td>\n      <td>203</td>\n      <td>0</td>\n      <td>0.138411</td>\n      <td>0.043705</td>\n      <td>0.005204</td>\n      <td>206089</td>\n      <td>164786</td>\n      <td>188696</td>\n      <td>No_1</td>\n      <td>169.171511</td>\n    </tr>\n    <tr>\n      <th>4</th>\n      <td>Female</td>\n      <td>29</td>\n      <td>1</td>\n      <td>1</td>\n      <td>&lt; 1 Year</td>\n      <td>No</td>\n      <td>27496.0</td>\n      <td>152.0</td>\n      <td>39</td>\n      <td>0</td>\n      <td>0.103902</td>\n      <td>0.043705</td>\n      <td>0.005204</td>\n      <td>175020</td>\n      <td>164786</td>\n      <td>188696</td>\n      <td>No_1</td>\n      <td>165.819179</td>\n    </tr>\n  </tbody>\n</table>\n</div>"
     },
     "metadata": {},
     "execution_count": 17
    }
   ],
   "source": [
    "df.head()"
   ]
  },
  {
   "cell_type": "code",
   "execution_count": 18,
   "metadata": {
    "tags": []
   },
   "outputs": [
    {
     "output_type": "stream",
     "name": "stdout",
     "text": "<class 'pandas.core.frame.DataFrame'>\nInt64Index: 508146 entries, 0 to 127036\nData columns (total 18 columns):\n #   Column                 Non-Null Count   Dtype  \n---  ------                 --------------   -----  \n 0   Gender                 508146 non-null  object \n 1   Age                    508146 non-null  int64  \n 2   Driving_License        508146 non-null  int64  \n 3   Previously_Insured     508146 non-null  int64  \n 4   Vehicle_Age            508146 non-null  object \n 5   Vehicle_Damage         508146 non-null  object \n 6   Annual_Premium         508146 non-null  float64\n 7   Policy_Sales_Channel   508146 non-null  float64\n 8   Vintage                508146 non-null  int64  \n 9   Response               508146 non-null  int64  \n 10  Gender_target          508146 non-null  float64\n 11  Vehicle_Age_target     508146 non-null  float64\n 12  Vehicle_Damage_target  508146 non-null  float64\n 13  Gender_count           508146 non-null  int64  \n 14  Vehicle_Age_count      508146 non-null  int64  \n 15  Vehicle_Damage_count   508146 non-null  int64  \n 16  Damage_Uninsured       508146 non-null  object \n 17  Annual_Premium_Normal  508146 non-null  float64\ndtypes: float64(6), int64(8), object(4)\nmemory usage: 73.7+ MB\n"
    }
   ],
   "source": [
    "df.info()"
   ]
  },
  {
   "source": [
    "# Converting Categorical data into numerical\n",
    "\n",
    "def Categorical_into_Numerical(df):\n",
    "    columns = df.columns.values\n",
    "    \n",
    "    for column in columns:\n",
    "        text_digit_values = {}\n",
    "\n",
    "        def convert_into_int(val):\n",
    "            return text_digit_values[val]\n",
    "\n",
    "        if df[column].dtype == np.object:\n",
    "            column_content = df[column].values.tolist()\n",
    "            unique_content = set(column_content)\n",
    "            x = 0\n",
    "            for unique in unique_content:\n",
    "                if unique not in text_digit_values:\n",
    "                    text_digit_values[unique] = x\n",
    "                    x+=1\n",
    "\n",
    "            df[column] = list(map(convert_into_int , df[column]))\n",
    "    return df\n",
    "\n",
    "df = Categorical_into_Numerical(df)\n",
    "df.head()"
   ],
   "cell_type": "markdown",
   "metadata": {}
  },
  {
   "cell_type": "code",
   "execution_count": 29,
   "metadata": {},
   "outputs": [
    {
     "output_type": "execute_result",
     "data": {
      "text/plain": "   Age  Annual_Premium  Policy_Sales_Channel  Vintage  Response  \\\n0   44         40454.0                  26.0      217         1   \n1   76         33536.0                  26.0      183         0   \n2   47         38294.0                  26.0       27         1   \n3   21         28619.0                 152.0      203         0   \n4   29         27496.0                 152.0       39         0   \n\n   Gender_target  Vehicle_Age_target  Vehicle_Damage_target  Gender_count  \\\n0       0.138411            0.293746               0.237655        206089   \n1       0.138411            0.173755               0.005204        206089   \n2       0.138411            0.293746               0.237655        206089   \n3       0.138411            0.043705               0.005204        206089   \n4       0.103902            0.043705               0.005204        175020   \n\n   Vehicle_Age_count  ...  Previously_Insured_1  Vehicle_Damage_No  \\\n0              16007  ...                     0                  0   \n1             200316  ...                     0                  1   \n2              16007  ...                     0                  0   \n3             164786  ...                     1                  1   \n4             164786  ...                     1                  1   \n\n   Vehicle_Damage_Yes  Damage_Uninsured_No_0  Damage_Uninsured_No_1  \\\n0                   1                      0                      0   \n1                   0                      1                      0   \n2                   1                      0                      0   \n3                   0                      0                      1   \n4                   0                      0                      1   \n\n   Damage_Uninsured_Yes_0  Damage_Uninsured_Yes_1  Vehicle_Age_1-2 Year  \\\n0                       1                       0                     0   \n1                       0                       0                     1   \n2                       1                       0                     0   \n3                       0                       0                     0   \n4                       0                       0                     0   \n\n   Vehicle_Age_< 1 Year  Vehicle_Age_> 2 Years  \n0                     0                      1  \n1                     0                      0  \n2                     0                      1  \n3                     1                      0  \n4                     1                      0  \n\n[5 rows x 26 columns]",
      "text/html": "<div>\n<style scoped>\n    .dataframe tbody tr th:only-of-type {\n        vertical-align: middle;\n    }\n\n    .dataframe tbody tr th {\n        vertical-align: top;\n    }\n\n    .dataframe thead th {\n        text-align: right;\n    }\n</style>\n<table border=\"1\" class=\"dataframe\">\n  <thead>\n    <tr style=\"text-align: right;\">\n      <th></th>\n      <th>Age</th>\n      <th>Annual_Premium</th>\n      <th>Policy_Sales_Channel</th>\n      <th>Vintage</th>\n      <th>Response</th>\n      <th>Gender_target</th>\n      <th>Vehicle_Age_target</th>\n      <th>Vehicle_Damage_target</th>\n      <th>Gender_count</th>\n      <th>Vehicle_Age_count</th>\n      <th>...</th>\n      <th>Previously_Insured_1</th>\n      <th>Vehicle_Damage_No</th>\n      <th>Vehicle_Damage_Yes</th>\n      <th>Damage_Uninsured_No_0</th>\n      <th>Damage_Uninsured_No_1</th>\n      <th>Damage_Uninsured_Yes_0</th>\n      <th>Damage_Uninsured_Yes_1</th>\n      <th>Vehicle_Age_1-2 Year</th>\n      <th>Vehicle_Age_&lt; 1 Year</th>\n      <th>Vehicle_Age_&gt; 2 Years</th>\n    </tr>\n  </thead>\n  <tbody>\n    <tr>\n      <th>0</th>\n      <td>44</td>\n      <td>40454.0</td>\n      <td>26.0</td>\n      <td>217</td>\n      <td>1</td>\n      <td>0.138411</td>\n      <td>0.293746</td>\n      <td>0.237655</td>\n      <td>206089</td>\n      <td>16007</td>\n      <td>...</td>\n      <td>0</td>\n      <td>0</td>\n      <td>1</td>\n      <td>0</td>\n      <td>0</td>\n      <td>1</td>\n      <td>0</td>\n      <td>0</td>\n      <td>0</td>\n      <td>1</td>\n    </tr>\n    <tr>\n      <th>1</th>\n      <td>76</td>\n      <td>33536.0</td>\n      <td>26.0</td>\n      <td>183</td>\n      <td>0</td>\n      <td>0.138411</td>\n      <td>0.173755</td>\n      <td>0.005204</td>\n      <td>206089</td>\n      <td>200316</td>\n      <td>...</td>\n      <td>0</td>\n      <td>1</td>\n      <td>0</td>\n      <td>1</td>\n      <td>0</td>\n      <td>0</td>\n      <td>0</td>\n      <td>1</td>\n      <td>0</td>\n      <td>0</td>\n    </tr>\n    <tr>\n      <th>2</th>\n      <td>47</td>\n      <td>38294.0</td>\n      <td>26.0</td>\n      <td>27</td>\n      <td>1</td>\n      <td>0.138411</td>\n      <td>0.293746</td>\n      <td>0.237655</td>\n      <td>206089</td>\n      <td>16007</td>\n      <td>...</td>\n      <td>0</td>\n      <td>0</td>\n      <td>1</td>\n      <td>0</td>\n      <td>0</td>\n      <td>1</td>\n      <td>0</td>\n      <td>0</td>\n      <td>0</td>\n      <td>1</td>\n    </tr>\n    <tr>\n      <th>3</th>\n      <td>21</td>\n      <td>28619.0</td>\n      <td>152.0</td>\n      <td>203</td>\n      <td>0</td>\n      <td>0.138411</td>\n      <td>0.043705</td>\n      <td>0.005204</td>\n      <td>206089</td>\n      <td>164786</td>\n      <td>...</td>\n      <td>1</td>\n      <td>1</td>\n      <td>0</td>\n      <td>0</td>\n      <td>1</td>\n      <td>0</td>\n      <td>0</td>\n      <td>0</td>\n      <td>1</td>\n      <td>0</td>\n    </tr>\n    <tr>\n      <th>4</th>\n      <td>29</td>\n      <td>27496.0</td>\n      <td>152.0</td>\n      <td>39</td>\n      <td>0</td>\n      <td>0.103902</td>\n      <td>0.043705</td>\n      <td>0.005204</td>\n      <td>175020</td>\n      <td>164786</td>\n      <td>...</td>\n      <td>1</td>\n      <td>1</td>\n      <td>0</td>\n      <td>0</td>\n      <td>1</td>\n      <td>0</td>\n      <td>0</td>\n      <td>0</td>\n      <td>1</td>\n      <td>0</td>\n    </tr>\n  </tbody>\n</table>\n<p>5 rows × 26 columns</p>\n</div>"
     },
     "metadata": {},
     "execution_count": 29
    }
   ],
   "source": [
    "col_feats = ['Gender','Driving_License','Previously_Insured','Vehicle_Damage','Damage_Uninsured','Vehicle_Age']\n",
    "df = pd.get_dummies(df ,  columns = col_feats)\n",
    "df.head()"
   ]
  },
  {
   "source": [
    "**Standardization of Nnumerical feature**"
   ],
   "cell_type": "markdown",
   "metadata": {}
  },
  {
   "cell_type": "code",
   "execution_count": 31,
   "metadata": {},
   "outputs": [
    {
     "output_type": "execute_result",
     "data": {
      "text/plain": "   Age  Annual_Premium  Policy_Sales_Channel  Vintage  Response  \\\n0  1.0             1.0                   1.0      1.0         1   \n1  1.0             1.0                   1.0      1.0         0   \n2  1.0             1.0                   1.0      1.0         1   \n3  1.0             1.0                   1.0      1.0         0   \n4  1.0             1.0                   1.0      1.0         0   \n\n   Gender_target  Vehicle_Age_target  Vehicle_Damage_target  Gender_count  \\\n0       0.138411            0.293746               0.237655           1.0   \n1       0.138411            0.173755               0.005204           1.0   \n2       0.138411            0.293746               0.237655           1.0   \n3       0.138411            0.043705               0.005204           1.0   \n4       0.103902            0.043705               0.005204           1.0   \n\n   Vehicle_Age_count  ...  Previously_Insured_1  Vehicle_Damage_No  \\\n0                1.0  ...                     0                  0   \n1                1.0  ...                     0                  1   \n2                1.0  ...                     0                  0   \n3                1.0  ...                     1                  1   \n4                1.0  ...                     1                  1   \n\n   Vehicle_Damage_Yes  Damage_Uninsured_No_0  Damage_Uninsured_No_1  \\\n0                   1                      0                      0   \n1                   0                      1                      0   \n2                   1                      0                      0   \n3                   0                      0                      1   \n4                   0                      0                      1   \n\n   Damage_Uninsured_Yes_0  Damage_Uninsured_Yes_1  Vehicle_Age_1-2 Year  \\\n0                       1                       0                     0   \n1                       0                       0                     1   \n2                       1                       0                     0   \n3                       0                       0                     0   \n4                       0                       0                     0   \n\n   Vehicle_Age_< 1 Year  Vehicle_Age_> 2 Years  \n0                     0                      1  \n1                     0                      0  \n2                     0                      1  \n3                     1                      0  \n4                     1                      0  \n\n[5 rows x 26 columns]",
      "text/html": "<div>\n<style scoped>\n    .dataframe tbody tr th:only-of-type {\n        vertical-align: middle;\n    }\n\n    .dataframe tbody tr th {\n        vertical-align: top;\n    }\n\n    .dataframe thead th {\n        text-align: right;\n    }\n</style>\n<table border=\"1\" class=\"dataframe\">\n  <thead>\n    <tr style=\"text-align: right;\">\n      <th></th>\n      <th>Age</th>\n      <th>Annual_Premium</th>\n      <th>Policy_Sales_Channel</th>\n      <th>Vintage</th>\n      <th>Response</th>\n      <th>Gender_target</th>\n      <th>Vehicle_Age_target</th>\n      <th>Vehicle_Damage_target</th>\n      <th>Gender_count</th>\n      <th>Vehicle_Age_count</th>\n      <th>...</th>\n      <th>Previously_Insured_1</th>\n      <th>Vehicle_Damage_No</th>\n      <th>Vehicle_Damage_Yes</th>\n      <th>Damage_Uninsured_No_0</th>\n      <th>Damage_Uninsured_No_1</th>\n      <th>Damage_Uninsured_Yes_0</th>\n      <th>Damage_Uninsured_Yes_1</th>\n      <th>Vehicle_Age_1-2 Year</th>\n      <th>Vehicle_Age_&lt; 1 Year</th>\n      <th>Vehicle_Age_&gt; 2 Years</th>\n    </tr>\n  </thead>\n  <tbody>\n    <tr>\n      <th>0</th>\n      <td>1.0</td>\n      <td>1.0</td>\n      <td>1.0</td>\n      <td>1.0</td>\n      <td>1</td>\n      <td>0.138411</td>\n      <td>0.293746</td>\n      <td>0.237655</td>\n      <td>1.0</td>\n      <td>1.0</td>\n      <td>...</td>\n      <td>0</td>\n      <td>0</td>\n      <td>1</td>\n      <td>0</td>\n      <td>0</td>\n      <td>1</td>\n      <td>0</td>\n      <td>0</td>\n      <td>0</td>\n      <td>1</td>\n    </tr>\n    <tr>\n      <th>1</th>\n      <td>1.0</td>\n      <td>1.0</td>\n      <td>1.0</td>\n      <td>1.0</td>\n      <td>0</td>\n      <td>0.138411</td>\n      <td>0.173755</td>\n      <td>0.005204</td>\n      <td>1.0</td>\n      <td>1.0</td>\n      <td>...</td>\n      <td>0</td>\n      <td>1</td>\n      <td>0</td>\n      <td>1</td>\n      <td>0</td>\n      <td>0</td>\n      <td>0</td>\n      <td>1</td>\n      <td>0</td>\n      <td>0</td>\n    </tr>\n    <tr>\n      <th>2</th>\n      <td>1.0</td>\n      <td>1.0</td>\n      <td>1.0</td>\n      <td>1.0</td>\n      <td>1</td>\n      <td>0.138411</td>\n      <td>0.293746</td>\n      <td>0.237655</td>\n      <td>1.0</td>\n      <td>1.0</td>\n      <td>...</td>\n      <td>0</td>\n      <td>0</td>\n      <td>1</td>\n      <td>0</td>\n      <td>0</td>\n      <td>1</td>\n      <td>0</td>\n      <td>0</td>\n      <td>0</td>\n      <td>1</td>\n    </tr>\n    <tr>\n      <th>3</th>\n      <td>1.0</td>\n      <td>1.0</td>\n      <td>1.0</td>\n      <td>1.0</td>\n      <td>0</td>\n      <td>0.138411</td>\n      <td>0.043705</td>\n      <td>0.005204</td>\n      <td>1.0</td>\n      <td>1.0</td>\n      <td>...</td>\n      <td>1</td>\n      <td>1</td>\n      <td>0</td>\n      <td>0</td>\n      <td>1</td>\n      <td>0</td>\n      <td>0</td>\n      <td>0</td>\n      <td>1</td>\n      <td>0</td>\n    </tr>\n    <tr>\n      <th>4</th>\n      <td>1.0</td>\n      <td>1.0</td>\n      <td>1.0</td>\n      <td>1.0</td>\n      <td>0</td>\n      <td>0.103902</td>\n      <td>0.043705</td>\n      <td>0.005204</td>\n      <td>1.0</td>\n      <td>1.0</td>\n      <td>...</td>\n      <td>1</td>\n      <td>1</td>\n      <td>0</td>\n      <td>0</td>\n      <td>1</td>\n      <td>0</td>\n      <td>0</td>\n      <td>0</td>\n      <td>1</td>\n      <td>0</td>\n    </tr>\n  </tbody>\n</table>\n<p>5 rows × 26 columns</p>\n</div>"
     },
     "metadata": {},
     "execution_count": 31
    }
   ],
   "source": [
    "def Scaling_Numerical_Feature(df , num_cols):\n",
    "    scaler = preprocessing.Normalizer()\n",
    "    for col in num_cols:\n",
    "        col_content = df[col].values\n",
    "        col_content = col_content.reshape(len(df) , -1)\n",
    "        scale_content = scaler.fit_transform(col_content)\n",
    "        df[col] = scale_content\n",
    "\n",
    "    return df\n",
    "num_cols = ['Policy_Sales_Channel' ,'Vintage' , 'Annual_Premium', 'Age', 'Gender_count', 'Vehicle_Age_count', 'Vehicle_Damage_count' ]\n",
    "df_scale = Scaling_Numerical_Feature(df ,  num_cols)\n",
    "df_scale.head()"
   ]
  },
  {
   "cell_type": "code",
   "execution_count": 32,
   "metadata": {},
   "outputs": [
    {
     "output_type": "execute_result",
     "data": {
      "text/plain": "        Age  Annual_Premium  Policy_Sales_Channel  Vintage  Response  \\\n127032  1.0             1.0                   1.0      1.0        -1   \n127033  1.0             1.0                   1.0      1.0        -1   \n127034  1.0             1.0                   1.0      1.0        -1   \n127035  1.0             1.0                   1.0      1.0        -1   \n127036  1.0             1.0                   1.0      1.0        -1   \n\n        Gender_target  Vehicle_Age_target  Vehicle_Damage_target  \\\n127032       0.103902            0.043705               0.005204   \n127033       0.103902            0.173755               0.237655   \n127034       0.138411            0.043705               0.005204   \n127035       0.138411            0.173755               0.005204   \n127036       0.138411            0.173755               0.005204   \n\n        Gender_count  Vehicle_Age_count  ...  Previously_Insured_1  \\\n127032           1.0                1.0  ...                     1   \n127033           1.0                1.0  ...                     0   \n127034           1.0                1.0  ...                     1   \n127035           1.0                1.0  ...                     1   \n127036           1.0                1.0  ...                     1   \n\n        Vehicle_Damage_No  Vehicle_Damage_Yes  Damage_Uninsured_No_0  \\\n127032                  1                   0                      0   \n127033                  0                   1                      0   \n127034                  1                   0                      0   \n127035                  1                   0                      0   \n127036                  1                   0                      0   \n\n        Damage_Uninsured_No_1  Damage_Uninsured_Yes_0  Damage_Uninsured_Yes_1  \\\n127032                      1                       0                       0   \n127033                      0                       1                       0   \n127034                      1                       0                       0   \n127035                      1                       0                       0   \n127036                      1                       0                       0   \n\n        Vehicle_Age_1-2 Year  Vehicle_Age_< 1 Year  Vehicle_Age_> 2 Years  \n127032                     0                     1                      0  \n127033                     1                     0                      0  \n127034                     0                     1                      0  \n127035                     1                     0                      0  \n127036                     1                     0                      0  \n\n[5 rows x 26 columns]",
      "text/html": "<div>\n<style scoped>\n    .dataframe tbody tr th:only-of-type {\n        vertical-align: middle;\n    }\n\n    .dataframe tbody tr th {\n        vertical-align: top;\n    }\n\n    .dataframe thead th {\n        text-align: right;\n    }\n</style>\n<table border=\"1\" class=\"dataframe\">\n  <thead>\n    <tr style=\"text-align: right;\">\n      <th></th>\n      <th>Age</th>\n      <th>Annual_Premium</th>\n      <th>Policy_Sales_Channel</th>\n      <th>Vintage</th>\n      <th>Response</th>\n      <th>Gender_target</th>\n      <th>Vehicle_Age_target</th>\n      <th>Vehicle_Damage_target</th>\n      <th>Gender_count</th>\n      <th>Vehicle_Age_count</th>\n      <th>...</th>\n      <th>Previously_Insured_1</th>\n      <th>Vehicle_Damage_No</th>\n      <th>Vehicle_Damage_Yes</th>\n      <th>Damage_Uninsured_No_0</th>\n      <th>Damage_Uninsured_No_1</th>\n      <th>Damage_Uninsured_Yes_0</th>\n      <th>Damage_Uninsured_Yes_1</th>\n      <th>Vehicle_Age_1-2 Year</th>\n      <th>Vehicle_Age_&lt; 1 Year</th>\n      <th>Vehicle_Age_&gt; 2 Years</th>\n    </tr>\n  </thead>\n  <tbody>\n    <tr>\n      <th>127032</th>\n      <td>1.0</td>\n      <td>1.0</td>\n      <td>1.0</td>\n      <td>1.0</td>\n      <td>-1</td>\n      <td>0.103902</td>\n      <td>0.043705</td>\n      <td>0.005204</td>\n      <td>1.0</td>\n      <td>1.0</td>\n      <td>...</td>\n      <td>1</td>\n      <td>1</td>\n      <td>0</td>\n      <td>0</td>\n      <td>1</td>\n      <td>0</td>\n      <td>0</td>\n      <td>0</td>\n      <td>1</td>\n      <td>0</td>\n    </tr>\n    <tr>\n      <th>127033</th>\n      <td>1.0</td>\n      <td>1.0</td>\n      <td>1.0</td>\n      <td>1.0</td>\n      <td>-1</td>\n      <td>0.103902</td>\n      <td>0.173755</td>\n      <td>0.237655</td>\n      <td>1.0</td>\n      <td>1.0</td>\n      <td>...</td>\n      <td>0</td>\n      <td>0</td>\n      <td>1</td>\n      <td>0</td>\n      <td>0</td>\n      <td>1</td>\n      <td>0</td>\n      <td>1</td>\n      <td>0</td>\n      <td>0</td>\n    </tr>\n    <tr>\n      <th>127034</th>\n      <td>1.0</td>\n      <td>1.0</td>\n      <td>1.0</td>\n      <td>1.0</td>\n      <td>-1</td>\n      <td>0.138411</td>\n      <td>0.043705</td>\n      <td>0.005204</td>\n      <td>1.0</td>\n      <td>1.0</td>\n      <td>...</td>\n      <td>1</td>\n      <td>1</td>\n      <td>0</td>\n      <td>0</td>\n      <td>1</td>\n      <td>0</td>\n      <td>0</td>\n      <td>0</td>\n      <td>1</td>\n      <td>0</td>\n    </tr>\n    <tr>\n      <th>127035</th>\n      <td>1.0</td>\n      <td>1.0</td>\n      <td>1.0</td>\n      <td>1.0</td>\n      <td>-1</td>\n      <td>0.138411</td>\n      <td>0.173755</td>\n      <td>0.005204</td>\n      <td>1.0</td>\n      <td>1.0</td>\n      <td>...</td>\n      <td>1</td>\n      <td>1</td>\n      <td>0</td>\n      <td>0</td>\n      <td>1</td>\n      <td>0</td>\n      <td>0</td>\n      <td>1</td>\n      <td>0</td>\n      <td>0</td>\n    </tr>\n    <tr>\n      <th>127036</th>\n      <td>1.0</td>\n      <td>1.0</td>\n      <td>1.0</td>\n      <td>1.0</td>\n      <td>-1</td>\n      <td>0.138411</td>\n      <td>0.173755</td>\n      <td>0.005204</td>\n      <td>1.0</td>\n      <td>1.0</td>\n      <td>...</td>\n      <td>1</td>\n      <td>1</td>\n      <td>0</td>\n      <td>0</td>\n      <td>1</td>\n      <td>0</td>\n      <td>0</td>\n      <td>1</td>\n      <td>0</td>\n      <td>0</td>\n    </tr>\n  </tbody>\n</table>\n<p>5 rows × 26 columns</p>\n</div>"
     },
     "metadata": {},
     "execution_count": 32
    }
   ],
   "source": [
    "df_scale.tail()"
   ]
  },
  {
   "cell_type": "code",
   "execution_count": 33,
   "metadata": {},
   "outputs": [],
   "source": [
    "df_scaled_test = df_scale[df_scale['Response'] == -1]\n",
    "df_scaled_train = df_scale[((df_scale['Response'] == 1) | (df_scale['Response'] == 0))]\n",
    "df_scaled_test.drop(['Response'] , 1, inplace = True)"
   ]
  },
  {
   "cell_type": "code",
   "execution_count": 34,
   "metadata": {
    "tags": []
   },
   "outputs": [
    {
     "output_type": "stream",
     "name": "stdout",
     "text": "(381109, 26)\n(127037, 25)\n"
    }
   ],
   "source": [
    "print(df_scaled_train.shape)\n",
    "print(df_scaled_test.shape)"
   ]
  },
  {
   "cell_type": "code",
   "execution_count": 35,
   "metadata": {},
   "outputs": [],
   "source": [
    "x_feature = df_scaled_train.drop(['Response'] , 1 )\n",
    "y_response = df_scaled_train['Response']"
   ]
  },
  {
   "cell_type": "code",
   "execution_count": 36,
   "metadata": {},
   "outputs": [
    {
     "output_type": "execute_result",
     "data": {
      "text/plain": "0.5"
     },
     "metadata": {},
     "execution_count": 36
    }
   ],
   "source": [
    "from sklearn.model_selection import train_test_split\n",
    "from sklearn.linear_model import LogisticRegression\n",
    "from sklearn.metrics import roc_auc_score\n",
    "\n",
    "x_train ,x_val , y_train, y_val = train_test_split(x_feature, y_response, test_size = 0.2)\n",
    "\n",
    "log_clf = LogisticRegression()\n",
    "log_clf.fit(x_train , y_train)\n",
    "\n",
    "y_pred = log_clf.predict(x_val)\n",
    "\n",
    "roc_auc_score(y_val , y_pred)"
   ]
  },
  {
   "source": [
    "Let's find out which feature is important for the predicting the value,\n",
    "we will be using **sklearn.feature_selection's RFECV**"
   ],
   "cell_type": "markdown",
   "metadata": {}
  },
  {
   "cell_type": "code",
   "execution_count": 34,
   "metadata": {
    "tags": []
   },
   "outputs": [
    {
     "output_type": "stream",
     "name": "stdout",
     "text": "Wall time: 3min 27s\n"
    },
    {
     "output_type": "execute_result",
     "data": {
      "text/plain": "RFECV(cv=StratifiedKFold(n_splits=5, random_state=0, shuffle=False),\n      estimator=DecisionTreeClassifier(), n_jobs=-1, scoring='roc_auc')"
     },
     "metadata": {},
     "execution_count": 34
    }
   ],
   "source": [
    "%%time\n",
    "from sklearn.tree import DecisionTreeClassifier\n",
    "from sklearn.feature_selection import RFECV\n",
    "from sklearn.model_selection import StratifiedKFold\n",
    "\n",
    "# creating model\n",
    "tree_clf = DecisionTreeClassifier()\n",
    "cv = StratifiedKFold(n_splits = 5 ,  random_state=0)\n",
    "\n",
    "clf = RFECV(tree_clf , step = 1, cv=cv, scoring='roc_auc' , n_jobs=-1)\n",
    "clf.fit(x_train, y_train)"
   ]
  },
  {
   "cell_type": "code",
   "execution_count": 35,
   "metadata": {},
   "outputs": [
    {
     "output_type": "execute_result",
     "data": {
      "text/plain": "3"
     },
     "metadata": {},
     "execution_count": 35
    }
   ],
   "source": [
    "clf.n_features_"
   ]
  },
  {
   "cell_type": "code",
   "execution_count": 50,
   "metadata": {},
   "outputs": [],
   "source": [
    "ranking = {}\n",
    "for rank , column in zip(clf.ranking_.tolist() , x_train.columns.values):\n",
    "    ranking[column] = rank"
   ]
  },
  {
   "cell_type": "code",
   "execution_count": 51,
   "metadata": {},
   "outputs": [
    {
     "output_type": "execute_result",
     "data": {
      "text/plain": "{'Gender': 8,\n 'Age': 2,\n 'Driving_License': 12,\n 'Previously_Insured': 17,\n 'Vehicle_Age': 11,\n 'Vehicle_Damage': 16,\n 'Annual_Premium': 1,\n 'Policy_Sales_Channel': 3,\n 'Vintage': 1,\n 'Gender_target': 4,\n 'Vehicle_Age_target': 9,\n 'Vehicle_Damage_target': 14,\n 'Gender_cb': 6,\n 'Vehicle_Age_cb': 10,\n 'Vehicle_Damage_cb': 15,\n 'Gender_count': 5,\n 'Vehicle_Age_count': 7,\n 'Vehicle_Damage_count': 13,\n 'Damage_Uninsured': 1}"
     },
     "metadata": {},
     "execution_count": 51
    }
   ],
   "source": [
    "ranking"
   ]
  },
  {
   "cell_type": "code",
   "execution_count": 21,
   "metadata": {
    "tags": []
   },
   "outputs": [
    {
     "output_type": "stream",
     "name": "stdout",
     "text": "Best: 0.842866 using {'max_depth': 10, 'max_features': 'sqrt'}\n0.842866 (0.001615) with : {'max_depth': 10, 'max_features': 'sqrt'}\n0.841655 (0.001196) with : {'max_depth': 10, 'max_features': 'log2'}\n0.825246 (0.003352) with : {'max_depth': 15, 'max_features': 'sqrt'}\n0.827074 (0.003228) with : {'max_depth': 15, 'max_features': 'log2'}\n0.779491 (0.011616) with : {'max_depth': 20, 'max_features': 'sqrt'}\n0.777437 (0.006865) with : {'max_depth': 20, 'max_features': 'log2'}\n0.724811 (0.012386) with : {'max_depth': 25, 'max_features': 'sqrt'}\n0.722041 (0.006560) with : {'max_depth': 25, 'max_features': 'log2'}\nWall time: 19.4 s\n"
    }
   ],
   "source": [
    "%%time\n",
    "from sklearn.tree import DecisionTreeClassifier\n",
    "from sklearn.model_selection import GridSearchCV\n",
    "from sklearn.model_selection import StratifiedKFold\n",
    "\n",
    "# creating model and parameter\n",
    "tree_clf = DecisionTreeClassifier()\n",
    "max_depth = [10,15,20,25]\n",
    "max_feature = ['sqrt' , 'log2']\n",
    "grid = dict(max_depth = max_depth , max_features = max_feature)\n",
    "cv = StratifiedKFold(n_splits = 5 ,  random_state=0)\n",
    "\n",
    "clf = GridSearchCV(estimator=tree_clf , param_grid=grid , n_jobs = -1, cv = cv, scoring = 'roc_auc', error_score = 0)\n",
    "clf_result = clf.fit(x_train, y_train)\n",
    "\n",
    "#summarize result\n",
    "print('Best: %f using %s'%(clf_result.best_score_ , clf_result.best_params_))\n",
    "means  = clf_result.cv_results_['mean_test_score']\n",
    "stds = clf_result.cv_results_['std_test_score']\n",
    "params = clf_result.cv_results_['params']\n",
    "\n",
    "for mean , stdev, param  in zip(means , stds , params):\n",
    "    print('%f (%f) with : %r'%(mean, stdev, param))"
   ]
  },
  {
   "cell_type": "code",
   "execution_count": 28,
   "metadata": {
    "tags": []
   },
   "outputs": [
    {
     "output_type": "stream",
     "name": "stdout",
     "text": "Best result 0.8526336050475308 using: {'max_depth': 10, 'max_features': 'sqrt', 'n_estimators': 500}\n'%f (%f) with : %r'%(mean, stdev, param)\n'%f (%f) with : %r'%(mean, stdev, param)\n'%f (%f) with : %r'%(mean, stdev, param)\n'%f (%f) with : %r'%(mean, stdev, param)\n'%f (%f) with : %r'%(mean, stdev, param)\n"
    }
   ],
   "source": [
    "from sklearn.ensemble import RandomForestClassifier\n",
    "from sklearn.model_selection import StratifiedShuffleSplit\n",
    "from sklearn.model_selection import GridSearchCV\n",
    "\n",
    "# Creating model and parameter\n",
    "rfc = RandomForestClassifier()\n",
    "n_estimetors = [100,200,300,400,500]\n",
    "max_depth = [10]\n",
    "max_features = ['sqrt']\n",
    "grid = dict(n_estimators = n_estimetors, max_depth = max_depth, max_features = max_features)\n",
    "cv = StratifiedShuffleSplit(n_splits=10 , random_state=0)\n",
    "grid_search = GridSearchCV(estimator = rfc, param_grid = grid, n_jobs = -1, scoring = 'roc_auc' , cv = cv)\n",
    "grid_result = grid_search.fit(x_train , y_train)\n",
    "\n",
    "# summarize result\n",
    "print('Best result {} using: {}'.format(grid_result.best_score_ , grid_result.best_params_))\n",
    "\n",
    "means = grid_result.cv_results_['mean_test_score']\n",
    "stds = grid_result.cv_results_['std_test_score']\n",
    "params = grid_result.cv_results_['params']\n",
    "\n",
    "for mean , stdev , param in zip(means , stds,params):\n",
    "    print(\"'%f (%f) with : %r'%(mean, stdev, param)\")"
   ]
  },
  {
   "cell_type": "code",
   "execution_count": 29,
   "metadata": {},
   "outputs": [],
   "source": [
    "model = grid_result.best_estimator_"
   ]
  },
  {
   "cell_type": "code",
   "execution_count": 30,
   "metadata": {},
   "outputs": [
    {
     "output_type": "execute_result",
     "data": {
      "text/plain": "0.5007254112201619"
     },
     "metadata": {},
     "execution_count": 30
    }
   ],
   "source": [
    "from sklearn.metrics import roc_auc_score\n",
    "y_pred = model.predict(x_val)\n",
    "roc_auc_score(y_val , y_pred)\n"
   ]
  },
  {
   "cell_type": "code",
   "execution_count": 36,
   "metadata": {},
   "outputs": [],
   "source": [
    "x_train_drop =  x_train.drop(['Annual_Premium' ,'Vehicle_Damage' ],1)\n",
    "x_val_drop = x_val.drop(['Annual_Premium' ,'Vehicle_Damage'],1)"
   ]
  },
  {
   "cell_type": "code",
   "execution_count": 38,
   "metadata": {},
   "outputs": [
    {
     "output_type": "execute_result",
     "data": {
      "text/plain": "0.5"
     },
     "metadata": {},
     "execution_count": 38
    }
   ],
   "source": [
    "from sklearn.ensemble import RandomForestClassifier\n",
    "from sklearn.metrics import roc_auc_score\n",
    "\n",
    "rfc = RandomForestClassifier(n_estimators=500 , max_depth = 10 , max_features = 'sqrt')\n",
    "\n",
    "rfc.fit(x_train , y_train)\n",
    "\n",
    "y_pred = rfc.predict(x_val)\n",
    "roc_auc_score(y_val ,y_pred )"
   ]
  },
  {
   "cell_type": "code",
   "execution_count": null,
   "metadata": {},
   "outputs": [],
   "source": []
  },
  {
   "cell_type": "code",
   "execution_count": null,
   "metadata": {},
   "outputs": [],
   "source": []
  },
  {
   "cell_type": "code",
   "execution_count": null,
   "metadata": {},
   "outputs": [],
   "source": []
  },
  {
   "cell_type": "code",
   "execution_count": null,
   "metadata": {},
   "outputs": [],
   "source": []
  },
  {
   "cell_type": "code",
   "execution_count": null,
   "metadata": {},
   "outputs": [],
   "source": []
  },
  {
   "cell_type": "code",
   "execution_count": null,
   "metadata": {},
   "outputs": [],
   "source": []
  },
  {
   "cell_type": "code",
   "execution_count": null,
   "metadata": {},
   "outputs": [],
   "source": []
  },
  {
   "cell_type": "code",
   "execution_count": null,
   "metadata": {},
   "outputs": [],
   "source": []
  },
  {
   "cell_type": "code",
   "execution_count": 68,
   "metadata": {},
   "outputs": [],
   "source": [
    "sub_sample = pd.read_csv('./dataset/sample_submission.csv')"
   ]
  },
  {
   "cell_type": "code",
   "execution_count": 69,
   "metadata": {},
   "outputs": [],
   "source": [
    "y_pred = tree_clf.predict(df_scaled_test.values)"
   ]
  },
  {
   "cell_type": "code",
   "execution_count": 70,
   "metadata": {},
   "outputs": [],
   "source": [
    "sub_sample['Response'] = y_pred"
   ]
  },
  {
   "cell_type": "code",
   "execution_count": 71,
   "metadata": {},
   "outputs": [],
   "source": [
    "sub_sample.to_csv('./dataset/sample_sub1.0.csv', index = False)"
   ]
  },
  {
   "cell_type": "code",
   "execution_count": null,
   "metadata": {},
   "outputs": [],
   "source": []
  }
 ]
}