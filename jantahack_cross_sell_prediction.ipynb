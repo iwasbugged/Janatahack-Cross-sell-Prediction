{
 "metadata": {
  "language_info": {
   "codemirror_mode": {
    "name": "ipython",
    "version": 3
   },
   "file_extension": ".py",
   "mimetype": "text/x-python",
   "name": "python",
   "nbconvert_exporter": "python",
   "pygments_lexer": "ipython3",
   "version": "3.7.7-final"
  },
  "orig_nbformat": 2,
  "kernelspec": {
   "name": "python3",
   "display_name": "Python 3"
  }
 },
 "nbformat": 4,
 "nbformat_minor": 2,
 "cells": [
  {
   "cell_type": "code",
   "execution_count": 1,
   "metadata": {},
   "outputs": [],
   "source": [
    "import pandas as pd \n",
    "import matplotlib.pyplot as plt \n",
    "import numpy as np \n",
    "from matplotlib import style\n",
    "from sklearn import preprocessing\n",
    "import warnings \n",
    "warnings.filterwarnings('ignore')\n",
    "style.use('ggplot')"
   ]
  },
  {
   "cell_type": "code",
   "execution_count": 18,
   "metadata": {},
   "outputs": [
    {
     "output_type": "execute_result",
     "data": {
      "text/plain": "   id  Gender  Age  Driving_License  Region_Code  Previously_Insured  \\\n0   1    Male   44                1         28.0                   0   \n1   2    Male   76                1          3.0                   0   \n2   3    Male   47                1         28.0                   0   \n3   4    Male   21                1         11.0                   1   \n4   5  Female   29                1         41.0                   1   \n\n  Vehicle_Age Vehicle_Damage  Annual_Premium  Policy_Sales_Channel  Vintage  \\\n0   > 2 Years            Yes         40454.0                  26.0      217   \n1    1-2 Year             No         33536.0                  26.0      183   \n2   > 2 Years            Yes         38294.0                  26.0       27   \n3    < 1 Year             No         28619.0                 152.0      203   \n4    < 1 Year             No         27496.0                 152.0       39   \n\n   Response  \n0         1  \n1         0  \n2         1  \n3         0  \n4         0  ",
      "text/html": "<div>\n<style scoped>\n    .dataframe tbody tr th:only-of-type {\n        vertical-align: middle;\n    }\n\n    .dataframe tbody tr th {\n        vertical-align: top;\n    }\n\n    .dataframe thead th {\n        text-align: right;\n    }\n</style>\n<table border=\"1\" class=\"dataframe\">\n  <thead>\n    <tr style=\"text-align: right;\">\n      <th></th>\n      <th>id</th>\n      <th>Gender</th>\n      <th>Age</th>\n      <th>Driving_License</th>\n      <th>Region_Code</th>\n      <th>Previously_Insured</th>\n      <th>Vehicle_Age</th>\n      <th>Vehicle_Damage</th>\n      <th>Annual_Premium</th>\n      <th>Policy_Sales_Channel</th>\n      <th>Vintage</th>\n      <th>Response</th>\n    </tr>\n  </thead>\n  <tbody>\n    <tr>\n      <th>0</th>\n      <td>1</td>\n      <td>Male</td>\n      <td>44</td>\n      <td>1</td>\n      <td>28.0</td>\n      <td>0</td>\n      <td>&gt; 2 Years</td>\n      <td>Yes</td>\n      <td>40454.0</td>\n      <td>26.0</td>\n      <td>217</td>\n      <td>1</td>\n    </tr>\n    <tr>\n      <th>1</th>\n      <td>2</td>\n      <td>Male</td>\n      <td>76</td>\n      <td>1</td>\n      <td>3.0</td>\n      <td>0</td>\n      <td>1-2 Year</td>\n      <td>No</td>\n      <td>33536.0</td>\n      <td>26.0</td>\n      <td>183</td>\n      <td>0</td>\n    </tr>\n    <tr>\n      <th>2</th>\n      <td>3</td>\n      <td>Male</td>\n      <td>47</td>\n      <td>1</td>\n      <td>28.0</td>\n      <td>0</td>\n      <td>&gt; 2 Years</td>\n      <td>Yes</td>\n      <td>38294.0</td>\n      <td>26.0</td>\n      <td>27</td>\n      <td>1</td>\n    </tr>\n    <tr>\n      <th>3</th>\n      <td>4</td>\n      <td>Male</td>\n      <td>21</td>\n      <td>1</td>\n      <td>11.0</td>\n      <td>1</td>\n      <td>&lt; 1 Year</td>\n      <td>No</td>\n      <td>28619.0</td>\n      <td>152.0</td>\n      <td>203</td>\n      <td>0</td>\n    </tr>\n    <tr>\n      <th>4</th>\n      <td>5</td>\n      <td>Female</td>\n      <td>29</td>\n      <td>1</td>\n      <td>41.0</td>\n      <td>1</td>\n      <td>&lt; 1 Year</td>\n      <td>No</td>\n      <td>27496.0</td>\n      <td>152.0</td>\n      <td>39</td>\n      <td>0</td>\n    </tr>\n  </tbody>\n</table>\n</div>"
     },
     "metadata": {},
     "execution_count": 18
    }
   ],
   "source": [
    "df_train = pd.read_csv('dataset/train.csv')\n",
    "df_test = pd.read_csv('dataset/test.csv')\n",
    "df_train.head()"
   ]
  },
  {
   "cell_type": "code",
   "execution_count": 5,
   "metadata": {},
   "outputs": [
    {
     "output_type": "execute_result",
     "data": {
      "text/plain": "(381109, 12)"
     },
     "metadata": {},
     "execution_count": 5
    }
   ],
   "source": [
    "df_train.shape"
   ]
  },
  {
   "cell_type": "code",
   "execution_count": 6,
   "metadata": {},
   "outputs": [
    {
     "output_type": "execute_result",
     "data": {
      "text/plain": "(127037, 11)"
     },
     "metadata": {},
     "execution_count": 6
    }
   ],
   "source": [
    "df_test.shape"
   ]
  },
  {
   "cell_type": "code",
   "execution_count": 10,
   "metadata": {},
   "outputs": [
    {
     "output_type": "execute_result",
     "data": {
      "text/plain": "                   id  Gender            Age  Driving_License    Region_Code  \\\ncount   381109.000000  381109  381109.000000    381109.000000  381109.000000   \nunique            NaN       2            NaN              NaN            NaN   \ntop               NaN    Male            NaN              NaN            NaN   \nfreq              NaN  206089            NaN              NaN            NaN   \nmean    190555.000000     NaN      38.822584         0.997869      26.388807   \nstd     110016.836208     NaN      15.511611         0.046110      13.229888   \nmin          1.000000     NaN      20.000000         0.000000       0.000000   \n25%      95278.000000     NaN      25.000000         1.000000      15.000000   \n50%     190555.000000     NaN      36.000000         1.000000      28.000000   \n75%     285832.000000     NaN      49.000000         1.000000      35.000000   \nmax     381109.000000     NaN      85.000000         1.000000      52.000000   \n\n        Previously_Insured Vehicle_Age Vehicle_Damage  Annual_Premium  \\\ncount        381109.000000      381109         381109   381109.000000   \nunique                 NaN           3              2             NaN   \ntop                    NaN    1-2 Year            Yes             NaN   \nfreq                   NaN      200316         192413             NaN   \nmean              0.458210         NaN            NaN    30564.389581   \nstd               0.498251         NaN            NaN    17213.155057   \nmin               0.000000         NaN            NaN     2630.000000   \n25%               0.000000         NaN            NaN    24405.000000   \n50%               0.000000         NaN            NaN    31669.000000   \n75%               1.000000         NaN            NaN    39400.000000   \nmax               1.000000         NaN            NaN   540165.000000   \n\n        Policy_Sales_Channel        Vintage       Response  \ncount          381109.000000  381109.000000  381109.000000  \nunique                   NaN            NaN            NaN  \ntop                      NaN            NaN            NaN  \nfreq                     NaN            NaN            NaN  \nmean              112.034295     154.347397       0.122563  \nstd                54.203995      83.671304       0.327936  \nmin                 1.000000      10.000000       0.000000  \n25%                29.000000      82.000000       0.000000  \n50%               133.000000     154.000000       0.000000  \n75%               152.000000     227.000000       0.000000  \nmax               163.000000     299.000000       1.000000  ",
      "text/html": "<div>\n<style scoped>\n    .dataframe tbody tr th:only-of-type {\n        vertical-align: middle;\n    }\n\n    .dataframe tbody tr th {\n        vertical-align: top;\n    }\n\n    .dataframe thead th {\n        text-align: right;\n    }\n</style>\n<table border=\"1\" class=\"dataframe\">\n  <thead>\n    <tr style=\"text-align: right;\">\n      <th></th>\n      <th>id</th>\n      <th>Gender</th>\n      <th>Age</th>\n      <th>Driving_License</th>\n      <th>Region_Code</th>\n      <th>Previously_Insured</th>\n      <th>Vehicle_Age</th>\n      <th>Vehicle_Damage</th>\n      <th>Annual_Premium</th>\n      <th>Policy_Sales_Channel</th>\n      <th>Vintage</th>\n      <th>Response</th>\n    </tr>\n  </thead>\n  <tbody>\n    <tr>\n      <th>count</th>\n      <td>381109.000000</td>\n      <td>381109</td>\n      <td>381109.000000</td>\n      <td>381109.000000</td>\n      <td>381109.000000</td>\n      <td>381109.000000</td>\n      <td>381109</td>\n      <td>381109</td>\n      <td>381109.000000</td>\n      <td>381109.000000</td>\n      <td>381109.000000</td>\n      <td>381109.000000</td>\n    </tr>\n    <tr>\n      <th>unique</th>\n      <td>NaN</td>\n      <td>2</td>\n      <td>NaN</td>\n      <td>NaN</td>\n      <td>NaN</td>\n      <td>NaN</td>\n      <td>3</td>\n      <td>2</td>\n      <td>NaN</td>\n      <td>NaN</td>\n      <td>NaN</td>\n      <td>NaN</td>\n    </tr>\n    <tr>\n      <th>top</th>\n      <td>NaN</td>\n      <td>Male</td>\n      <td>NaN</td>\n      <td>NaN</td>\n      <td>NaN</td>\n      <td>NaN</td>\n      <td>1-2 Year</td>\n      <td>Yes</td>\n      <td>NaN</td>\n      <td>NaN</td>\n      <td>NaN</td>\n      <td>NaN</td>\n    </tr>\n    <tr>\n      <th>freq</th>\n      <td>NaN</td>\n      <td>206089</td>\n      <td>NaN</td>\n      <td>NaN</td>\n      <td>NaN</td>\n      <td>NaN</td>\n      <td>200316</td>\n      <td>192413</td>\n      <td>NaN</td>\n      <td>NaN</td>\n      <td>NaN</td>\n      <td>NaN</td>\n    </tr>\n    <tr>\n      <th>mean</th>\n      <td>190555.000000</td>\n      <td>NaN</td>\n      <td>38.822584</td>\n      <td>0.997869</td>\n      <td>26.388807</td>\n      <td>0.458210</td>\n      <td>NaN</td>\n      <td>NaN</td>\n      <td>30564.389581</td>\n      <td>112.034295</td>\n      <td>154.347397</td>\n      <td>0.122563</td>\n    </tr>\n    <tr>\n      <th>std</th>\n      <td>110016.836208</td>\n      <td>NaN</td>\n      <td>15.511611</td>\n      <td>0.046110</td>\n      <td>13.229888</td>\n      <td>0.498251</td>\n      <td>NaN</td>\n      <td>NaN</td>\n      <td>17213.155057</td>\n      <td>54.203995</td>\n      <td>83.671304</td>\n      <td>0.327936</td>\n    </tr>\n    <tr>\n      <th>min</th>\n      <td>1.000000</td>\n      <td>NaN</td>\n      <td>20.000000</td>\n      <td>0.000000</td>\n      <td>0.000000</td>\n      <td>0.000000</td>\n      <td>NaN</td>\n      <td>NaN</td>\n      <td>2630.000000</td>\n      <td>1.000000</td>\n      <td>10.000000</td>\n      <td>0.000000</td>\n    </tr>\n    <tr>\n      <th>25%</th>\n      <td>95278.000000</td>\n      <td>NaN</td>\n      <td>25.000000</td>\n      <td>1.000000</td>\n      <td>15.000000</td>\n      <td>0.000000</td>\n      <td>NaN</td>\n      <td>NaN</td>\n      <td>24405.000000</td>\n      <td>29.000000</td>\n      <td>82.000000</td>\n      <td>0.000000</td>\n    </tr>\n    <tr>\n      <th>50%</th>\n      <td>190555.000000</td>\n      <td>NaN</td>\n      <td>36.000000</td>\n      <td>1.000000</td>\n      <td>28.000000</td>\n      <td>0.000000</td>\n      <td>NaN</td>\n      <td>NaN</td>\n      <td>31669.000000</td>\n      <td>133.000000</td>\n      <td>154.000000</td>\n      <td>0.000000</td>\n    </tr>\n    <tr>\n      <th>75%</th>\n      <td>285832.000000</td>\n      <td>NaN</td>\n      <td>49.000000</td>\n      <td>1.000000</td>\n      <td>35.000000</td>\n      <td>1.000000</td>\n      <td>NaN</td>\n      <td>NaN</td>\n      <td>39400.000000</td>\n      <td>152.000000</td>\n      <td>227.000000</td>\n      <td>0.000000</td>\n    </tr>\n    <tr>\n      <th>max</th>\n      <td>381109.000000</td>\n      <td>NaN</td>\n      <td>85.000000</td>\n      <td>1.000000</td>\n      <td>52.000000</td>\n      <td>1.000000</td>\n      <td>NaN</td>\n      <td>NaN</td>\n      <td>540165.000000</td>\n      <td>163.000000</td>\n      <td>299.000000</td>\n      <td>1.000000</td>\n    </tr>\n  </tbody>\n</table>\n</div>"
     },
     "metadata": {},
     "execution_count": 10
    }
   ],
   "source": [
    "df_train.describe(include = 'all')"
   ]
  },
  {
   "cell_type": "code",
   "execution_count": 3,
   "metadata": {
    "tags": []
   },
   "outputs": [
    {
     "output_type": "stream",
     "name": "stdout",
     "text": "<class 'pandas.core.frame.DataFrame'>\nRangeIndex: 381109 entries, 0 to 381108\nData columns (total 12 columns):\n #   Column                Non-Null Count   Dtype  \n---  ------                --------------   -----  \n 0   id                    381109 non-null  int64  \n 1   Gender                381109 non-null  object \n 2   Age                   381109 non-null  int64  \n 3   Driving_License       381109 non-null  int64  \n 4   Region_Code           381109 non-null  float64\n 5   Previously_Insured    381109 non-null  int64  \n 6   Vehicle_Age           381109 non-null  object \n 7   Vehicle_Damage        381109 non-null  object \n 8   Annual_Premium        381109 non-null  float64\n 9   Policy_Sales_Channel  381109 non-null  float64\n 10  Vintage               381109 non-null  int64  \n 11  Response              381109 non-null  int64  \ndtypes: float64(3), int64(6), object(3)\nmemory usage: 34.9+ MB\nWall time: 496 ms\n"
    }
   ],
   "source": [
    "%%time\n",
    "df_train.info()"
   ]
  },
  {
   "source": [
    "**Data prepartion**"
   ],
   "cell_type": "markdown",
   "metadata": {}
  },
  {
   "source": [
    "**Categorical Feature Generating**"
   ],
   "cell_type": "markdown",
   "metadata": {}
  },
  {
   "cell_type": "code",
   "execution_count": 19,
   "metadata": {},
   "outputs": [
    {
     "output_type": "execute_result",
     "data": {
      "text/plain": "   id  Gender  Age  Driving_License  Region_Code  Previously_Insured  \\\n0   1    Male   44                1         28.0                   0   \n1   2    Male   76                1          3.0                   0   \n2   3    Male   47                1         28.0                   0   \n3   4    Male   21                1         11.0                   1   \n4   5  Female   29                1         41.0                   1   \n\n  Vehicle_Age Vehicle_Damage  Annual_Premium  Policy_Sales_Channel  Vintage  \\\n0   > 2 Years            Yes         40454.0                  26.0      217   \n1    1-2 Year             No         33536.0                  26.0      183   \n2   > 2 Years            Yes         38294.0                  26.0       27   \n3    < 1 Year             No         28619.0                 152.0      203   \n4    < 1 Year             No         27496.0                 152.0       39   \n\n   Response  Gender_target  Vehicle_Age_target  Vehicle_Damage_target  \n0         1       0.138411            0.293746               0.237655  \n1         0       0.138411            0.173755               0.005204  \n2         1       0.138411            0.293746               0.237655  \n3         0       0.138411            0.043705               0.005204  \n4         0       0.103902            0.043705               0.005204  ",
      "text/html": "<div>\n<style scoped>\n    .dataframe tbody tr th:only-of-type {\n        vertical-align: middle;\n    }\n\n    .dataframe tbody tr th {\n        vertical-align: top;\n    }\n\n    .dataframe thead th {\n        text-align: right;\n    }\n</style>\n<table border=\"1\" class=\"dataframe\">\n  <thead>\n    <tr style=\"text-align: right;\">\n      <th></th>\n      <th>id</th>\n      <th>Gender</th>\n      <th>Age</th>\n      <th>Driving_License</th>\n      <th>Region_Code</th>\n      <th>Previously_Insured</th>\n      <th>Vehicle_Age</th>\n      <th>Vehicle_Damage</th>\n      <th>Annual_Premium</th>\n      <th>Policy_Sales_Channel</th>\n      <th>Vintage</th>\n      <th>Response</th>\n      <th>Gender_target</th>\n      <th>Vehicle_Age_target</th>\n      <th>Vehicle_Damage_target</th>\n    </tr>\n  </thead>\n  <tbody>\n    <tr>\n      <th>0</th>\n      <td>1</td>\n      <td>Male</td>\n      <td>44</td>\n      <td>1</td>\n      <td>28.0</td>\n      <td>0</td>\n      <td>&gt; 2 Years</td>\n      <td>Yes</td>\n      <td>40454.0</td>\n      <td>26.0</td>\n      <td>217</td>\n      <td>1</td>\n      <td>0.138411</td>\n      <td>0.293746</td>\n      <td>0.237655</td>\n    </tr>\n    <tr>\n      <th>1</th>\n      <td>2</td>\n      <td>Male</td>\n      <td>76</td>\n      <td>1</td>\n      <td>3.0</td>\n      <td>0</td>\n      <td>1-2 Year</td>\n      <td>No</td>\n      <td>33536.0</td>\n      <td>26.0</td>\n      <td>183</td>\n      <td>0</td>\n      <td>0.138411</td>\n      <td>0.173755</td>\n      <td>0.005204</td>\n    </tr>\n    <tr>\n      <th>2</th>\n      <td>3</td>\n      <td>Male</td>\n      <td>47</td>\n      <td>1</td>\n      <td>28.0</td>\n      <td>0</td>\n      <td>&gt; 2 Years</td>\n      <td>Yes</td>\n      <td>38294.0</td>\n      <td>26.0</td>\n      <td>27</td>\n      <td>1</td>\n      <td>0.138411</td>\n      <td>0.293746</td>\n      <td>0.237655</td>\n    </tr>\n    <tr>\n      <th>3</th>\n      <td>4</td>\n      <td>Male</td>\n      <td>21</td>\n      <td>1</td>\n      <td>11.0</td>\n      <td>1</td>\n      <td>&lt; 1 Year</td>\n      <td>No</td>\n      <td>28619.0</td>\n      <td>152.0</td>\n      <td>203</td>\n      <td>0</td>\n      <td>0.138411</td>\n      <td>0.043705</td>\n      <td>0.005204</td>\n    </tr>\n    <tr>\n      <th>4</th>\n      <td>5</td>\n      <td>Female</td>\n      <td>29</td>\n      <td>1</td>\n      <td>41.0</td>\n      <td>1</td>\n      <td>&lt; 1 Year</td>\n      <td>No</td>\n      <td>27496.0</td>\n      <td>152.0</td>\n      <td>39</td>\n      <td>0</td>\n      <td>0.103902</td>\n      <td>0.043705</td>\n      <td>0.005204</td>\n    </tr>\n  </tbody>\n</table>\n</div>"
     },
     "metadata": {},
     "execution_count": 19
    }
   ],
   "source": [
    "cat_feats = ['Gender' , 'Vehicle_Age', 'Vehicle_Damage' ]\n",
    "\n",
    "import category_encoders as ce \n",
    "\n",
    "target_enc = ce.TargetEncoder(cols = cat_feats)\n",
    "target_enc.fit(df_train[cat_feats] , df_train['Response'])\n",
    "train_te = target_enc.transform(df_train[cat_feats])\n",
    "test_te =  target_enc.transform(df_test[cat_feats])\n",
    "df_train = df_train.join(train_te.add_suffix('_target'))\n",
    "df_test = df_test.join(test_te.add_suffix('_target'))\n",
    "df_train.head()"
   ]
  },
  {
   "cell_type": "code",
   "execution_count": 20,
   "metadata": {},
   "outputs": [
    {
     "output_type": "execute_result",
     "data": {
      "text/plain": "   id  Gender  Age  Driving_License  Region_Code  Previously_Insured  \\\n0   1    Male   44                1         28.0                   0   \n1   2    Male   76                1          3.0                   0   \n2   3    Male   47                1         28.0                   0   \n3   4    Male   21                1         11.0                   1   \n4   5  Female   29                1         41.0                   1   \n\n  Vehicle_Age Vehicle_Damage  Annual_Premium  Policy_Sales_Channel  Vintage  \\\n0   > 2 Years            Yes         40454.0                  26.0      217   \n1    1-2 Year             No         33536.0                  26.0      183   \n2   > 2 Years            Yes         38294.0                  26.0       27   \n3    < 1 Year             No         28619.0                 152.0      203   \n4    < 1 Year             No         27496.0                 152.0       39   \n\n   Response  Gender_target  Vehicle_Age_target  Vehicle_Damage_target  \\\n0         1       0.138411            0.293746               0.237655   \n1         0       0.138411            0.173755               0.005204   \n2         1       0.138411            0.293746               0.237655   \n3         0       0.138411            0.043705               0.005204   \n4         0       0.103902            0.043705               0.005204   \n\n   Gender_cb  Vehicle_Age_cb  Vehicle_Damage_cb  \n0   0.138411        0.293736           0.237655  \n1   0.138411        0.173755           0.005205  \n2   0.138411        0.293736           0.237655  \n3   0.138411        0.043706           0.005205  \n4   0.103903        0.043706           0.005205  ",
      "text/html": "<div>\n<style scoped>\n    .dataframe tbody tr th:only-of-type {\n        vertical-align: middle;\n    }\n\n    .dataframe tbody tr th {\n        vertical-align: top;\n    }\n\n    .dataframe thead th {\n        text-align: right;\n    }\n</style>\n<table border=\"1\" class=\"dataframe\">\n  <thead>\n    <tr style=\"text-align: right;\">\n      <th></th>\n      <th>id</th>\n      <th>Gender</th>\n      <th>Age</th>\n      <th>Driving_License</th>\n      <th>Region_Code</th>\n      <th>Previously_Insured</th>\n      <th>Vehicle_Age</th>\n      <th>Vehicle_Damage</th>\n      <th>Annual_Premium</th>\n      <th>Policy_Sales_Channel</th>\n      <th>Vintage</th>\n      <th>Response</th>\n      <th>Gender_target</th>\n      <th>Vehicle_Age_target</th>\n      <th>Vehicle_Damage_target</th>\n      <th>Gender_cb</th>\n      <th>Vehicle_Age_cb</th>\n      <th>Vehicle_Damage_cb</th>\n    </tr>\n  </thead>\n  <tbody>\n    <tr>\n      <th>0</th>\n      <td>1</td>\n      <td>Male</td>\n      <td>44</td>\n      <td>1</td>\n      <td>28.0</td>\n      <td>0</td>\n      <td>&gt; 2 Years</td>\n      <td>Yes</td>\n      <td>40454.0</td>\n      <td>26.0</td>\n      <td>217</td>\n      <td>1</td>\n      <td>0.138411</td>\n      <td>0.293746</td>\n      <td>0.237655</td>\n      <td>0.138411</td>\n      <td>0.293736</td>\n      <td>0.237655</td>\n    </tr>\n    <tr>\n      <th>1</th>\n      <td>2</td>\n      <td>Male</td>\n      <td>76</td>\n      <td>1</td>\n      <td>3.0</td>\n      <td>0</td>\n      <td>1-2 Year</td>\n      <td>No</td>\n      <td>33536.0</td>\n      <td>26.0</td>\n      <td>183</td>\n      <td>0</td>\n      <td>0.138411</td>\n      <td>0.173755</td>\n      <td>0.005204</td>\n      <td>0.138411</td>\n      <td>0.173755</td>\n      <td>0.005205</td>\n    </tr>\n    <tr>\n      <th>2</th>\n      <td>3</td>\n      <td>Male</td>\n      <td>47</td>\n      <td>1</td>\n      <td>28.0</td>\n      <td>0</td>\n      <td>&gt; 2 Years</td>\n      <td>Yes</td>\n      <td>38294.0</td>\n      <td>26.0</td>\n      <td>27</td>\n      <td>1</td>\n      <td>0.138411</td>\n      <td>0.293746</td>\n      <td>0.237655</td>\n      <td>0.138411</td>\n      <td>0.293736</td>\n      <td>0.237655</td>\n    </tr>\n    <tr>\n      <th>3</th>\n      <td>4</td>\n      <td>Male</td>\n      <td>21</td>\n      <td>1</td>\n      <td>11.0</td>\n      <td>1</td>\n      <td>&lt; 1 Year</td>\n      <td>No</td>\n      <td>28619.0</td>\n      <td>152.0</td>\n      <td>203</td>\n      <td>0</td>\n      <td>0.138411</td>\n      <td>0.043705</td>\n      <td>0.005204</td>\n      <td>0.138411</td>\n      <td>0.043706</td>\n      <td>0.005205</td>\n    </tr>\n    <tr>\n      <th>4</th>\n      <td>5</td>\n      <td>Female</td>\n      <td>29</td>\n      <td>1</td>\n      <td>41.0</td>\n      <td>1</td>\n      <td>&lt; 1 Year</td>\n      <td>No</td>\n      <td>27496.0</td>\n      <td>152.0</td>\n      <td>39</td>\n      <td>0</td>\n      <td>0.103902</td>\n      <td>0.043705</td>\n      <td>0.005204</td>\n      <td>0.103903</td>\n      <td>0.043706</td>\n      <td>0.005205</td>\n    </tr>\n  </tbody>\n</table>\n</div>"
     },
     "metadata": {},
     "execution_count": 20
    }
   ],
   "source": [
    "target_cbe = ce.CatBoostEncoder(cols = cat_feats)\n",
    "target_cbe.fit(df_train[cat_feats] , df_train['Response'])\n",
    "train_cbe = target_cbe.transform(df_train[cat_feats])\n",
    "test_cbe = target_cbe.transform(df_test[cat_feats])\n",
    "df_train = df_train.join(train_cbe.add_suffix('_cb'))\n",
    "df_test = df_test.join(test_cbe.add_suffix('_cb'))\n",
    "df_train.head()"
   ]
  },
  {
   "cell_type": "code",
   "execution_count": 21,
   "metadata": {},
   "outputs": [
    {
     "output_type": "execute_result",
     "data": {
      "text/plain": "   id  Gender  Age  Driving_License  Region_Code  Previously_Insured  \\\n0   1    Male   44                1         28.0                   0   \n1   2    Male   76                1          3.0                   0   \n2   3    Male   47                1         28.0                   0   \n3   4    Male   21                1         11.0                   1   \n4   5  Female   29                1         41.0                   1   \n\n  Vehicle_Age Vehicle_Damage  Annual_Premium  Policy_Sales_Channel  ...  \\\n0   > 2 Years            Yes         40454.0                  26.0  ...   \n1    1-2 Year             No         33536.0                  26.0  ...   \n2   > 2 Years            Yes         38294.0                  26.0  ...   \n3    < 1 Year             No         28619.0                 152.0  ...   \n4    < 1 Year             No         27496.0                 152.0  ...   \n\n   Response  Gender_target  Vehicle_Age_target  Vehicle_Damage_target  \\\n0         1       0.138411            0.293746               0.237655   \n1         0       0.138411            0.173755               0.005204   \n2         1       0.138411            0.293746               0.237655   \n3         0       0.138411            0.043705               0.005204   \n4         0       0.103902            0.043705               0.005204   \n\n   Gender_cb  Vehicle_Age_cb  Vehicle_Damage_cb  Gender_count  \\\n0   0.138411        0.293736           0.237655        206089   \n1   0.138411        0.173755           0.005205        206089   \n2   0.138411        0.293736           0.237655        206089   \n3   0.138411        0.043706           0.005205        206089   \n4   0.103903        0.043706           0.005205        175020   \n\n   Vehicle_Age_count  Vehicle_Damage_count  \n0              16007                192413  \n1             200316                188696  \n2              16007                192413  \n3             164786                188696  \n4             164786                188696  \n\n[5 rows x 21 columns]",
      "text/html": "<div>\n<style scoped>\n    .dataframe tbody tr th:only-of-type {\n        vertical-align: middle;\n    }\n\n    .dataframe tbody tr th {\n        vertical-align: top;\n    }\n\n    .dataframe thead th {\n        text-align: right;\n    }\n</style>\n<table border=\"1\" class=\"dataframe\">\n  <thead>\n    <tr style=\"text-align: right;\">\n      <th></th>\n      <th>id</th>\n      <th>Gender</th>\n      <th>Age</th>\n      <th>Driving_License</th>\n      <th>Region_Code</th>\n      <th>Previously_Insured</th>\n      <th>Vehicle_Age</th>\n      <th>Vehicle_Damage</th>\n      <th>Annual_Premium</th>\n      <th>Policy_Sales_Channel</th>\n      <th>...</th>\n      <th>Response</th>\n      <th>Gender_target</th>\n      <th>Vehicle_Age_target</th>\n      <th>Vehicle_Damage_target</th>\n      <th>Gender_cb</th>\n      <th>Vehicle_Age_cb</th>\n      <th>Vehicle_Damage_cb</th>\n      <th>Gender_count</th>\n      <th>Vehicle_Age_count</th>\n      <th>Vehicle_Damage_count</th>\n    </tr>\n  </thead>\n  <tbody>\n    <tr>\n      <th>0</th>\n      <td>1</td>\n      <td>Male</td>\n      <td>44</td>\n      <td>1</td>\n      <td>28.0</td>\n      <td>0</td>\n      <td>&gt; 2 Years</td>\n      <td>Yes</td>\n      <td>40454.0</td>\n      <td>26.0</td>\n      <td>...</td>\n      <td>1</td>\n      <td>0.138411</td>\n      <td>0.293746</td>\n      <td>0.237655</td>\n      <td>0.138411</td>\n      <td>0.293736</td>\n      <td>0.237655</td>\n      <td>206089</td>\n      <td>16007</td>\n      <td>192413</td>\n    </tr>\n    <tr>\n      <th>1</th>\n      <td>2</td>\n      <td>Male</td>\n      <td>76</td>\n      <td>1</td>\n      <td>3.0</td>\n      <td>0</td>\n      <td>1-2 Year</td>\n      <td>No</td>\n      <td>33536.0</td>\n      <td>26.0</td>\n      <td>...</td>\n      <td>0</td>\n      <td>0.138411</td>\n      <td>0.173755</td>\n      <td>0.005204</td>\n      <td>0.138411</td>\n      <td>0.173755</td>\n      <td>0.005205</td>\n      <td>206089</td>\n      <td>200316</td>\n      <td>188696</td>\n    </tr>\n    <tr>\n      <th>2</th>\n      <td>3</td>\n      <td>Male</td>\n      <td>47</td>\n      <td>1</td>\n      <td>28.0</td>\n      <td>0</td>\n      <td>&gt; 2 Years</td>\n      <td>Yes</td>\n      <td>38294.0</td>\n      <td>26.0</td>\n      <td>...</td>\n      <td>1</td>\n      <td>0.138411</td>\n      <td>0.293746</td>\n      <td>0.237655</td>\n      <td>0.138411</td>\n      <td>0.293736</td>\n      <td>0.237655</td>\n      <td>206089</td>\n      <td>16007</td>\n      <td>192413</td>\n    </tr>\n    <tr>\n      <th>3</th>\n      <td>4</td>\n      <td>Male</td>\n      <td>21</td>\n      <td>1</td>\n      <td>11.0</td>\n      <td>1</td>\n      <td>&lt; 1 Year</td>\n      <td>No</td>\n      <td>28619.0</td>\n      <td>152.0</td>\n      <td>...</td>\n      <td>0</td>\n      <td>0.138411</td>\n      <td>0.043705</td>\n      <td>0.005204</td>\n      <td>0.138411</td>\n      <td>0.043706</td>\n      <td>0.005205</td>\n      <td>206089</td>\n      <td>164786</td>\n      <td>188696</td>\n    </tr>\n    <tr>\n      <th>4</th>\n      <td>5</td>\n      <td>Female</td>\n      <td>29</td>\n      <td>1</td>\n      <td>41.0</td>\n      <td>1</td>\n      <td>&lt; 1 Year</td>\n      <td>No</td>\n      <td>27496.0</td>\n      <td>152.0</td>\n      <td>...</td>\n      <td>0</td>\n      <td>0.103902</td>\n      <td>0.043705</td>\n      <td>0.005204</td>\n      <td>0.103903</td>\n      <td>0.043706</td>\n      <td>0.005205</td>\n      <td>175020</td>\n      <td>164786</td>\n      <td>188696</td>\n    </tr>\n  </tbody>\n</table>\n<p>5 rows × 21 columns</p>\n</div>"
     },
     "metadata": {},
     "execution_count": 21
    }
   ],
   "source": [
    "count_enc = ce.CountEncoder()\n",
    "count_encoded =  count_enc.fit_transform(df_train[cat_feats])\n",
    "df_train = df_train.join(count_encoded.add_suffix('_count'))\n",
    "count_encoded =  count_enc.fit_transform(df_test[cat_feats])\n",
    "df_test = df_test.join(count_encoded.add_suffix('_count'))\n",
    "\n",
    "df_train.head()"
   ]
  },
  {
   "cell_type": "code",
   "execution_count": 22,
   "metadata": {},
   "outputs": [],
   "source": [
    "df_test['Response'] = -1"
   ]
  },
  {
   "cell_type": "code",
   "execution_count": 23,
   "metadata": {},
   "outputs": [],
   "source": [
    "df = pd.concat([df_train , df_test])\n",
    "df.drop(['id' , 'Region_Code' ] ,  axis = 1, inplace = True)"
   ]
  },
  {
   "cell_type": "code",
   "execution_count": 24,
   "metadata": {},
   "outputs": [
    {
     "output_type": "execute_result",
     "data": {
      "text/plain": "(508146, 19)"
     },
     "metadata": {},
     "execution_count": 24
    }
   ],
   "source": [
    "df.shape"
   ]
  },
  {
   "source": [
    "** Numerical Feature Generating**"
   ],
   "cell_type": "markdown",
   "metadata": {}
  },
  {
   "cell_type": "code",
   "execution_count": null,
   "metadata": {},
   "outputs": [],
   "source": []
  },
  {
   "cell_type": "code",
   "execution_count": null,
   "metadata": {},
   "outputs": [],
   "source": []
  },
  {
   "cell_type": "code",
   "execution_count": null,
   "metadata": {},
   "outputs": [],
   "source": []
  },
  {
   "cell_type": "code",
   "execution_count": null,
   "metadata": {},
   "outputs": [],
   "source": []
  },
  {
   "cell_type": "code",
   "execution_count": null,
   "metadata": {},
   "outputs": [],
   "source": []
  },
  {
   "cell_type": "code",
   "execution_count": null,
   "metadata": {},
   "outputs": [],
   "source": []
  },
  {
   "cell_type": "code",
   "execution_count": null,
   "metadata": {},
   "outputs": [],
   "source": []
  },
  {
   "cell_type": "code",
   "execution_count": 34,
   "metadata": {},
   "outputs": [
    {
     "output_type": "execute_result",
     "data": {
      "text/plain": "   Gender  Driving_License  Previously_Insured  Vehicle_Age  Vehicle_Damage  \\\n0       0                1                   0            2               0   \n1       0                1                   0            0               1   \n2       0                1                   0            2               0   \n3       0                1                   1            1               1   \n4       1                1                   1            1               1   \n\n   Policy_Sales_Channel  Vintage  Response  Daily_Premium  Age_Cat  \n0                  26.0      217         1     186.423963        4  \n1                  26.0      183         0     183.256831        5  \n2                  26.0       27         1    1418.296296        4  \n3                 152.0      203         0     140.980296        0  \n4                 152.0       39         0     705.025641        0  ",
      "text/html": "<div>\n<style scoped>\n    .dataframe tbody tr th:only-of-type {\n        vertical-align: middle;\n    }\n\n    .dataframe tbody tr th {\n        vertical-align: top;\n    }\n\n    .dataframe thead th {\n        text-align: right;\n    }\n</style>\n<table border=\"1\" class=\"dataframe\">\n  <thead>\n    <tr style=\"text-align: right;\">\n      <th></th>\n      <th>Gender</th>\n      <th>Driving_License</th>\n      <th>Previously_Insured</th>\n      <th>Vehicle_Age</th>\n      <th>Vehicle_Damage</th>\n      <th>Policy_Sales_Channel</th>\n      <th>Vintage</th>\n      <th>Response</th>\n      <th>Daily_Premium</th>\n      <th>Age_Cat</th>\n    </tr>\n  </thead>\n  <tbody>\n    <tr>\n      <th>0</th>\n      <td>0</td>\n      <td>1</td>\n      <td>0</td>\n      <td>2</td>\n      <td>0</td>\n      <td>26.0</td>\n      <td>217</td>\n      <td>1</td>\n      <td>186.423963</td>\n      <td>4</td>\n    </tr>\n    <tr>\n      <th>1</th>\n      <td>0</td>\n      <td>1</td>\n      <td>0</td>\n      <td>0</td>\n      <td>1</td>\n      <td>26.0</td>\n      <td>183</td>\n      <td>0</td>\n      <td>183.256831</td>\n      <td>5</td>\n    </tr>\n    <tr>\n      <th>2</th>\n      <td>0</td>\n      <td>1</td>\n      <td>0</td>\n      <td>2</td>\n      <td>0</td>\n      <td>26.0</td>\n      <td>27</td>\n      <td>1</td>\n      <td>1418.296296</td>\n      <td>4</td>\n    </tr>\n    <tr>\n      <th>3</th>\n      <td>0</td>\n      <td>1</td>\n      <td>1</td>\n      <td>1</td>\n      <td>1</td>\n      <td>152.0</td>\n      <td>203</td>\n      <td>0</td>\n      <td>140.980296</td>\n      <td>0</td>\n    </tr>\n    <tr>\n      <th>4</th>\n      <td>1</td>\n      <td>1</td>\n      <td>1</td>\n      <td>1</td>\n      <td>1</td>\n      <td>152.0</td>\n      <td>39</td>\n      <td>0</td>\n      <td>705.025641</td>\n      <td>0</td>\n    </tr>\n  </tbody>\n</table>\n</div>"
     },
     "metadata": {},
     "execution_count": 34
    }
   ],
   "source": [
    "# Converting Categorical data into numerical\n",
    "\n",
    "def Categorical_into_Numerical(df):\n",
    "    columns = df.columns.values\n",
    "    \n",
    "    for column in columns:\n",
    "        text_digit_values = {}\n",
    "\n",
    "        def convert_into_int(val):\n",
    "            return text_digit_values[val]\n",
    "\n",
    "        if df[column].dtype == np.object:\n",
    "            column_content = df[column].values.tolist()\n",
    "            unique_content = set(column_content)\n",
    "            x = 0\n",
    "            for unique in unique_content:\n",
    "                if unique not in text_digit_values:\n",
    "                    text_digit_values[unique] = x\n",
    "                    x+=1\n",
    "\n",
    "            df[column] = list(map(convert_into_int , df[column]))\n",
    "    return df\n",
    "\n",
    "df = Categorical_into_Numerical(df)\n",
    "df.head()"
   ]
  },
  {
   "source": [
    "**Standardization of Nnumerical feature**"
   ],
   "cell_type": "markdown",
   "metadata": {}
  },
  {
   "cell_type": "code",
   "execution_count": 37,
   "metadata": {},
   "outputs": [
    {
     "output_type": "execute_result",
     "data": {
      "text/plain": "   Gender  Driving_License  Previously_Insured  Vehicle_Age  Vehicle_Damage  \\\n0       0                1                   0            2               0   \n1       0                1                   0            0               1   \n2       0                1                   0            2               0   \n3       0                1                   1            1               1   \n4       1                1                   1            1               1   \n\n   Policy_Sales_Channel   Vintage  Response  Daily_Premium  Age_Cat  \n0             -1.584926  0.748905         1      -0.323944        4  \n1             -1.584926  0.342540         0      -0.329729        5  \n2             -1.584926 -1.521956         1       1.925952        4  \n3              0.737827  0.581578         0      -0.406943        0  \n4              0.737827 -1.378534         0       0.623232        0  ",
      "text/html": "<div>\n<style scoped>\n    .dataframe tbody tr th:only-of-type {\n        vertical-align: middle;\n    }\n\n    .dataframe tbody tr th {\n        vertical-align: top;\n    }\n\n    .dataframe thead th {\n        text-align: right;\n    }\n</style>\n<table border=\"1\" class=\"dataframe\">\n  <thead>\n    <tr style=\"text-align: right;\">\n      <th></th>\n      <th>Gender</th>\n      <th>Driving_License</th>\n      <th>Previously_Insured</th>\n      <th>Vehicle_Age</th>\n      <th>Vehicle_Damage</th>\n      <th>Policy_Sales_Channel</th>\n      <th>Vintage</th>\n      <th>Response</th>\n      <th>Daily_Premium</th>\n      <th>Age_Cat</th>\n    </tr>\n  </thead>\n  <tbody>\n    <tr>\n      <th>0</th>\n      <td>0</td>\n      <td>1</td>\n      <td>0</td>\n      <td>2</td>\n      <td>0</td>\n      <td>-1.584926</td>\n      <td>0.748905</td>\n      <td>1</td>\n      <td>-0.323944</td>\n      <td>4</td>\n    </tr>\n    <tr>\n      <th>1</th>\n      <td>0</td>\n      <td>1</td>\n      <td>0</td>\n      <td>0</td>\n      <td>1</td>\n      <td>-1.584926</td>\n      <td>0.342540</td>\n      <td>0</td>\n      <td>-0.329729</td>\n      <td>5</td>\n    </tr>\n    <tr>\n      <th>2</th>\n      <td>0</td>\n      <td>1</td>\n      <td>0</td>\n      <td>2</td>\n      <td>0</td>\n      <td>-1.584926</td>\n      <td>-1.521956</td>\n      <td>1</td>\n      <td>1.925952</td>\n      <td>4</td>\n    </tr>\n    <tr>\n      <th>3</th>\n      <td>0</td>\n      <td>1</td>\n      <td>1</td>\n      <td>1</td>\n      <td>1</td>\n      <td>0.737827</td>\n      <td>0.581578</td>\n      <td>0</td>\n      <td>-0.406943</td>\n      <td>0</td>\n    </tr>\n    <tr>\n      <th>4</th>\n      <td>1</td>\n      <td>1</td>\n      <td>1</td>\n      <td>1</td>\n      <td>1</td>\n      <td>0.737827</td>\n      <td>-1.378534</td>\n      <td>0</td>\n      <td>0.623232</td>\n      <td>0</td>\n    </tr>\n  </tbody>\n</table>\n</div>"
     },
     "metadata": {},
     "execution_count": 37
    }
   ],
   "source": [
    "def Scaling_Numerical_Feature(df , num_cols):\n",
    "    scaler = preprocessing.StandardScaler()\n",
    "    for col in num_cols:\n",
    "        col_content = df[col].values\n",
    "        col_content = col_content.reshape(len(df) , -1)\n",
    "        scale_content = scaler.fit_transform(col_content)\n",
    "        df[col] = scale_content\n",
    "\n",
    "    return df\n",
    "num_cols = ['Policy_Sales_Channel' ,'Vintage' , 'Daily_Premium' ]\n",
    "df_scale = Scaling_Numerical_Feature(df ,  num_cols)\n",
    "df_scale.head()"
   ]
  },
  {
   "cell_type": "code",
   "execution_count": 38,
   "metadata": {},
   "outputs": [],
   "source": [
    "df_scaled_test = df_scale[df_scale['Response'] == -1]\n",
    "df_scaled_train = df_scale[((df_scale['Response'] == 1) | (df_scale['Response'] == 0))]\n",
    "df_scaled_test.drop(['Response'] , 1, inplace = True)"
   ]
  },
  {
   "cell_type": "code",
   "execution_count": 39,
   "metadata": {
    "tags": []
   },
   "outputs": [
    {
     "output_type": "stream",
     "name": "stdout",
     "text": "(381109, 10)\n(127037, 9)\n"
    }
   ],
   "source": [
    "print(df_scaled_train.shape)\n",
    "print(df_scaled_test.shape)"
   ]
  },
  {
   "cell_type": "code",
   "execution_count": 40,
   "metadata": {},
   "outputs": [],
   "source": [
    "x_feature = df_scaled_train.drop(['Response'] , 1 )\n",
    "y_response = df_scaled_train['Response']"
   ]
  },
  {
   "cell_type": "code",
   "execution_count": 41,
   "metadata": {},
   "outputs": [
    {
     "output_type": "execute_result",
     "data": {
      "text/plain": "0.5"
     },
     "metadata": {},
     "execution_count": 41
    }
   ],
   "source": [
    "from sklearn.model_selection import train_test_split\n",
    "from sklearn.linear_model import LogisticRegression\n",
    "from sklearn.metrics import roc_auc_score\n",
    "\n",
    "x_train ,x_val , y_train, y_val = train_test_split(x_feature, y_response, test_size = 0.2)\n",
    "\n",
    "log_clf = LogisticRegression()\n",
    "log_clf.fit(x_train , y_train)\n",
    "\n",
    "y_pred = log_clf.predict(x_val)\n",
    "\n",
    "roc_auc_score(y_val , y_pred)"
   ]
  },
  {
   "cell_type": "code",
   "execution_count": 48,
   "metadata": {
    "tags": []
   },
   "outputs": [
    {
     "output_type": "stream",
     "name": "stdout",
     "text": "Wall time: 3.02 s\n"
    },
    {
     "output_type": "execute_result",
     "data": {
      "text/plain": "0.5971352596459489"
     },
     "metadata": {},
     "execution_count": 48
    }
   ],
   "source": [
    "%%time\n",
    "from sklearn.tree import DecisionTreeClassifier\n",
    "\n",
    "tree_clf = DecisionTreeClassifier()\n",
    "\n",
    "tree_clf.fit(x_train, y_train)\n",
    "y_pred = tree_clf.predict(x_val)\n",
    "roc_auc_score(y_val , y_pred)"
   ]
  },
  {
   "cell_type": "code",
   "execution_count": 50,
   "metadata": {
    "tags": []
   },
   "outputs": [
    {
     "output_type": "stream",
     "name": "stdout",
     "text": "Requirement already satisfied: XGBoost in c:\\users\\raju\\anaconda3\\lib\\site-packages (1.1.1)\nRequirement already satisfied: scipy in c:\\users\\raju\\appdata\\roaming\\python\\python37\\site-packages (from XGBoost) (1.4.1)\nRequirement already satisfied: numpy in c:\\users\\raju\\anaconda3\\lib\\site-packages (from XGBoost) (1.18.4)\nNote: you may need to restart the kernel to use updated packages.\n"
    }
   ],
   "source": [
    "pip install XGBoost"
   ]
  },
  {
   "cell_type": "code",
   "execution_count": 51,
   "metadata": {},
   "outputs": [
    {
     "output_type": "error",
     "ename": "ModuleNotFoundError",
     "evalue": "No module named 'XGBoost'",
     "traceback": [
      "\u001b[1;31m---------------------------------------------------------------------------\u001b[0m",
      "\u001b[1;31mModuleNotFoundError\u001b[0m                       Traceback (most recent call last)",
      "\u001b[1;32m<ipython-input-51-52eb6d52cea4>\u001b[0m in \u001b[0;36m<module>\u001b[1;34m\u001b[0m\n\u001b[1;32m----> 1\u001b[1;33m \u001b[1;32mfrom\u001b[0m \u001b[0mXGBoost\u001b[0m \u001b[1;32mimport\u001b[0m \u001b[0mXGBlassifier\u001b[0m\u001b[1;33m\u001b[0m\u001b[1;33m\u001b[0m\u001b[0m\n\u001b[0m",
      "\u001b[1;31mModuleNotFoundError\u001b[0m: No module named 'XGBoost'"
     ]
    }
   ],
   "source": [
    "from XGBoost import XGBlassifier"
   ]
  },
  {
   "cell_type": "code",
   "execution_count": 68,
   "metadata": {},
   "outputs": [],
   "source": [
    "sub_sample = pd.read_csv('./dataset/sample_submission.csv')"
   ]
  },
  {
   "cell_type": "code",
   "execution_count": 69,
   "metadata": {},
   "outputs": [],
   "source": [
    "y_pred = tree_clf.predict(df_scaled_test.values)"
   ]
  },
  {
   "cell_type": "code",
   "execution_count": 70,
   "metadata": {},
   "outputs": [],
   "source": [
    "sub_sample['Response'] = y_pred"
   ]
  },
  {
   "cell_type": "code",
   "execution_count": 71,
   "metadata": {},
   "outputs": [],
   "source": [
    "sub_sample.to_csv('./dataset/sample_sub1.0.csv', index = False)"
   ]
  },
  {
   "cell_type": "code",
   "execution_count": null,
   "metadata": {},
   "outputs": [],
   "source": []
  }
 ]
}